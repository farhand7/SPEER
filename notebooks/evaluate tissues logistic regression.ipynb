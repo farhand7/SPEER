{
 "cells": [
  {
   "cell_type": "code",
   "execution_count": 162,
   "metadata": {
    "collapsed": true
   },
   "outputs": [],
   "source": [
    "import pandas as pd\n",
    "import sklearn\n",
    "from sklearn import linear_model\n",
    "from sklearn import preprocessing\n",
    "import numpy as np\n",
    "import logistic_regression as lr"
   ]
  },
  {
   "cell_type": "code",
   "execution_count": 2,
   "metadata": {
    "collapsed": true
   },
   "outputs": [],
   "source": [
    "expr = pd.read_csv(\"../input/expression.short.csv\", index_col=(0,1))"
   ]
  },
  {
   "cell_type": "code",
   "execution_count": 3,
   "metadata": {
    "collapsed": true
   },
   "outputs": [],
   "source": [
    "g_df = pd.read_csv(\"../input/g_train_new.csv\", index_col=(0,1))"
   ]
  },
  {
   "cell_type": "code",
   "execution_count": 8,
   "metadata": {
    "collapsed": false
   },
   "outputs": [],
   "source": [
    "tissue_groups = pd.read_csv(\"../tissue_groups/tissue_groups.physiological.txt\", header=None, index_c"
   ]
  },
  {
   "cell_type": "code",
   "execution_count": 10,
   "metadata": {
    "collapsed": true
   },
   "outputs": [],
   "source": [
    "def processTissueGroups(tissue_groups_path):\n",
    "    tissue_groups = {}\n",
    "    f = open(tissue_groups_path)\n",
    "    for l in f:\n",
    "        w = l.strip().split(',')\n",
    "        group = w[0]\n",
    "        tissue_groups[group] = []\n",
    "        for tissue in w[1:]: tissue_groups[group].append(tissue)\n",
    "    return tissue_groups"
   ]
  },
  {
   "cell_type": "code",
   "execution_count": 144,
   "metadata": {
    "collapsed": true
   },
   "outputs": [],
   "source": [
    "tissue_groups = processTissueGroups(\"../tissue_groups/tissue_groups.physiological.txt\")"
   ]
  },
  {
   "cell_type": "code",
   "execution_count": 145,
   "metadata": {
    "collapsed": false
   },
   "outputs": [],
   "source": [
    "tissue_categories = tissue_groups"
   ]
  },
  {
   "cell_type": "code",
   "execution_count": 5,
   "metadata": {
    "collapsed": false
   },
   "outputs": [
    {
     "data": {
      "text/html": [
       "<div>\n",
       "<table border=\"1\" class=\"dataframe\">\n",
       "  <thead>\n",
       "    <tr style=\"text-align: right;\">\n",
       "      <th></th>\n",
       "      <th></th>\n",
       "      <th>max_GC_10kb</th>\n",
       "      <th>max_CpG_10kb</th>\n",
       "      <th>max_priPhCons_10kb</th>\n",
       "      <th>max_mamPhCons_10kb</th>\n",
       "      <th>max_verPhCons_10kb</th>\n",
       "      <th>max_priPhyloP_10kb</th>\n",
       "      <th>max_mamPhyloP_10kb</th>\n",
       "      <th>max_verPhyloP_10kb</th>\n",
       "      <th>max_GerpN_10kb</th>\n",
       "      <th>max_GerpS_10kb</th>\n",
       "      <th>...</th>\n",
       "      <th>E113_EnhBiv</th>\n",
       "      <th>E116_general_promoter</th>\n",
       "      <th>E116_general_enhancer</th>\n",
       "      <th>E116_TssA</th>\n",
       "      <th>E116_TssAFlnk</th>\n",
       "      <th>E116_EnhG</th>\n",
       "      <th>E116_Enh</th>\n",
       "      <th>E116_TssBiv</th>\n",
       "      <th>E116_BivFlnk</th>\n",
       "      <th>E116_EnhBiv</th>\n",
       "    </tr>\n",
       "    <tr>\n",
       "      <th>subject_id</th>\n",
       "      <th>gene_id</th>\n",
       "      <th></th>\n",
       "      <th></th>\n",
       "      <th></th>\n",
       "      <th></th>\n",
       "      <th></th>\n",
       "      <th></th>\n",
       "      <th></th>\n",
       "      <th></th>\n",
       "      <th></th>\n",
       "      <th></th>\n",
       "      <th></th>\n",
       "      <th></th>\n",
       "      <th></th>\n",
       "      <th></th>\n",
       "      <th></th>\n",
       "      <th></th>\n",
       "      <th></th>\n",
       "      <th></th>\n",
       "      <th></th>\n",
       "      <th></th>\n",
       "      <th></th>\n",
       "    </tr>\n",
       "  </thead>\n",
       "  <tbody>\n",
       "    <tr>\n",
       "      <th rowspan=\"5\" valign=\"top\">GTEX-N7MS</th>\n",
       "      <th>ENSG00000001561.6</th>\n",
       "      <td>1.015867</td>\n",
       "      <td>0.572087</td>\n",
       "      <td>0.556651</td>\n",
       "      <td>0.560247</td>\n",
       "      <td>0.578286</td>\n",
       "      <td>0.855699</td>\n",
       "      <td>0.799545</td>\n",
       "      <td>0.672983</td>\n",
       "      <td>1.797529</td>\n",
       "      <td>1.110027</td>\n",
       "      <td>...</td>\n",
       "      <td>0</td>\n",
       "      <td>0</td>\n",
       "      <td>0</td>\n",
       "      <td>0</td>\n",
       "      <td>0</td>\n",
       "      <td>0</td>\n",
       "      <td>0</td>\n",
       "      <td>0</td>\n",
       "      <td>0</td>\n",
       "      <td>0</td>\n",
       "    </tr>\n",
       "    <tr>\n",
       "      <th>ENSG00000003056.3</th>\n",
       "      <td>1.156892</td>\n",
       "      <td>0.592920</td>\n",
       "      <td>0.566036</td>\n",
       "      <td>0.563769</td>\n",
       "      <td>0.582093</td>\n",
       "      <td>0.903025</td>\n",
       "      <td>0.805725</td>\n",
       "      <td>0.676492</td>\n",
       "      <td>1.769976</td>\n",
       "      <td>1.154362</td>\n",
       "      <td>...</td>\n",
       "      <td>0</td>\n",
       "      <td>0</td>\n",
       "      <td>0</td>\n",
       "      <td>0</td>\n",
       "      <td>0</td>\n",
       "      <td>0</td>\n",
       "      <td>0</td>\n",
       "      <td>0</td>\n",
       "      <td>0</td>\n",
       "      <td>0</td>\n",
       "    </tr>\n",
       "    <tr>\n",
       "      <th>ENSG00000003402.15</th>\n",
       "      <td>1.451764</td>\n",
       "      <td>0.801254</td>\n",
       "      <td>0.553522</td>\n",
       "      <td>0.559807</td>\n",
       "      <td>0.577017</td>\n",
       "      <td>0.912318</td>\n",
       "      <td>0.797242</td>\n",
       "      <td>0.668350</td>\n",
       "      <td>1.863979</td>\n",
       "      <td>1.108385</td>\n",
       "      <td>...</td>\n",
       "      <td>0</td>\n",
       "      <td>1</td>\n",
       "      <td>0</td>\n",
       "      <td>1</td>\n",
       "      <td>0</td>\n",
       "      <td>0</td>\n",
       "      <td>0</td>\n",
       "      <td>0</td>\n",
       "      <td>0</td>\n",
       "      <td>0</td>\n",
       "    </tr>\n",
       "    <tr>\n",
       "      <th>ENSG00000004534.10</th>\n",
       "      <td>1.323559</td>\n",
       "      <td>0.676254</td>\n",
       "      <td>0.579444</td>\n",
       "      <td>0.584898</td>\n",
       "      <td>0.602396</td>\n",
       "      <td>0.953449</td>\n",
       "      <td>0.841063</td>\n",
       "      <td>0.704711</td>\n",
       "      <td>1.350203</td>\n",
       "      <td>1.261642</td>\n",
       "      <td>...</td>\n",
       "      <td>0</td>\n",
       "      <td>1</td>\n",
       "      <td>0</td>\n",
       "      <td>1</td>\n",
       "      <td>1</td>\n",
       "      <td>0</td>\n",
       "      <td>0</td>\n",
       "      <td>0</td>\n",
       "      <td>0</td>\n",
       "      <td>0</td>\n",
       "    </tr>\n",
       "    <tr>\n",
       "      <th>ENSG00000004660.10</th>\n",
       "      <td>1.323559</td>\n",
       "      <td>0.592920</td>\n",
       "      <td>0.571846</td>\n",
       "      <td>0.565090</td>\n",
       "      <td>0.583785</td>\n",
       "      <td>0.970400</td>\n",
       "      <td>0.875053</td>\n",
       "      <td>0.733772</td>\n",
       "      <td>1.484887</td>\n",
       "      <td>1.307126</td>\n",
       "      <td>...</td>\n",
       "      <td>0</td>\n",
       "      <td>0</td>\n",
       "      <td>1</td>\n",
       "      <td>0</td>\n",
       "      <td>0</td>\n",
       "      <td>0</td>\n",
       "      <td>1</td>\n",
       "      <td>0</td>\n",
       "      <td>0</td>\n",
       "      <td>0</td>\n",
       "    </tr>\n",
       "  </tbody>\n",
       "</table>\n",
       "<p>5 rows × 362 columns</p>\n",
       "</div>"
      ],
      "text/plain": [
       "                               max_GC_10kb  max_CpG_10kb  max_priPhCons_10kb  \\\n",
       "subject_id gene_id                                                             \n",
       "GTEX-N7MS  ENSG00000001561.6      1.015867      0.572087            0.556651   \n",
       "           ENSG00000003056.3      1.156892      0.592920            0.566036   \n",
       "           ENSG00000003402.15     1.451764      0.801254            0.553522   \n",
       "           ENSG00000004534.10     1.323559      0.676254            0.579444   \n",
       "           ENSG00000004660.10     1.323559      0.592920            0.571846   \n",
       "\n",
       "                               max_mamPhCons_10kb  max_verPhCons_10kb  \\\n",
       "subject_id gene_id                                                      \n",
       "GTEX-N7MS  ENSG00000001561.6             0.560247            0.578286   \n",
       "           ENSG00000003056.3             0.563769            0.582093   \n",
       "           ENSG00000003402.15            0.559807            0.577017   \n",
       "           ENSG00000004534.10            0.584898            0.602396   \n",
       "           ENSG00000004660.10            0.565090            0.583785   \n",
       "\n",
       "                               max_priPhyloP_10kb  max_mamPhyloP_10kb  \\\n",
       "subject_id gene_id                                                      \n",
       "GTEX-N7MS  ENSG00000001561.6             0.855699            0.799545   \n",
       "           ENSG00000003056.3             0.903025            0.805725   \n",
       "           ENSG00000003402.15            0.912318            0.797242   \n",
       "           ENSG00000004534.10            0.953449            0.841063   \n",
       "           ENSG00000004660.10            0.970400            0.875053   \n",
       "\n",
       "                               max_verPhyloP_10kb  max_GerpN_10kb  \\\n",
       "subject_id gene_id                                                  \n",
       "GTEX-N7MS  ENSG00000001561.6             0.672983        1.797529   \n",
       "           ENSG00000003056.3             0.676492        1.769976   \n",
       "           ENSG00000003402.15            0.668350        1.863979   \n",
       "           ENSG00000004534.10            0.704711        1.350203   \n",
       "           ENSG00000004660.10            0.733772        1.484887   \n",
       "\n",
       "                               max_GerpS_10kb     ...       E113_EnhBiv  \\\n",
       "subject_id gene_id                                ...                     \n",
       "GTEX-N7MS  ENSG00000001561.6         1.110027     ...                 0   \n",
       "           ENSG00000003056.3         1.154362     ...                 0   \n",
       "           ENSG00000003402.15        1.108385     ...                 0   \n",
       "           ENSG00000004534.10        1.261642     ...                 0   \n",
       "           ENSG00000004660.10        1.307126     ...                 0   \n",
       "\n",
       "                               E116_general_promoter  E116_general_enhancer  \\\n",
       "subject_id gene_id                                                            \n",
       "GTEX-N7MS  ENSG00000001561.6                       0                      0   \n",
       "           ENSG00000003056.3                       0                      0   \n",
       "           ENSG00000003402.15                      1                      0   \n",
       "           ENSG00000004534.10                      1                      0   \n",
       "           ENSG00000004660.10                      0                      1   \n",
       "\n",
       "                               E116_TssA  E116_TssAFlnk  E116_EnhG  E116_Enh  \\\n",
       "subject_id gene_id                                                             \n",
       "GTEX-N7MS  ENSG00000001561.6           0              0          0         0   \n",
       "           ENSG00000003056.3           0              0          0         0   \n",
       "           ENSG00000003402.15          1              0          0         0   \n",
       "           ENSG00000004534.10          1              1          0         0   \n",
       "           ENSG00000004660.10          0              0          0         1   \n",
       "\n",
       "                               E116_TssBiv  E116_BivFlnk  E116_EnhBiv  \n",
       "subject_id gene_id                                                     \n",
       "GTEX-N7MS  ENSG00000001561.6             0             0            0  \n",
       "           ENSG00000003056.3             0             0            0  \n",
       "           ENSG00000003402.15            0             0            0  \n",
       "           ENSG00000004534.10            0             0            0  \n",
       "           ENSG00000004660.10            0             0            0  \n",
       "\n",
       "[5 rows x 362 columns]"
      ]
     },
     "execution_count": 5,
     "metadata": {},
     "output_type": "execute_result"
    }
   ],
   "source": [
    "g_df.head()"
   ]
  },
  {
   "cell_type": "code",
   "execution_count": 261,
   "metadata": {
    "collapsed": false
   },
   "outputs": [
    {
     "name": "stdout",
     "output_type": "stream",
     "text": [
      "Optimization terminated successfully.\n",
      "         Current function value: 1651.951445\n",
      "         Iterations: 127\n",
      "         Function evaluations: 329\n",
      "         Gradient evaluations: 329\n",
      "completed training.\n",
      "brain 13192 364 0.530124096056\n"
     ]
    }
   ],
   "source": [
    "cat = 'brain'\n",
    "#tissues = tissue_categories[cat]\n",
    "#tissues = brain_tissues_ganglia\n",
    "tissues = brain_tissues_ganglia\n",
    "#expr_cat = expr[tissue_categories[cat]]\n",
    "expr_cat = expr[tissues]\n",
    "#expr_cat = expr_cat.dropna(thresh = 2)\n",
    "#if len(expr_cat.columns) <= 4:\n",
    "#    expr_cat = expr_cat.dropna(thresh = 2)\n",
    "#else:\n",
    "#    expr_cat = expr_cat.dropna(thresh = 4)\n",
    "#expr_cat = expr_cat.dropna()\n",
    "expr_cat = expr_cat.dropna()\n",
    "expr_cat[\"median\"] = expr_cat.median(axis=1)\n",
    "train = pd.concat([g_df, expr_cat[\"median\"]], axis=1).dropna()\n",
    "train[\"median_disc\"] = sklearn.preprocessing.binarize(np.abs(train[\"median\"].values).reshape(-1,1), threshold = 2.0)\n",
    "G_train, G_test, y_train, y_test = sklearn.cross_validation.train_test_split(\n",
    "train[g_df.columns].values, train[\"median_disc\"].values, \n",
    "test_size=0.25, random_state=42)\n",
    "beta = lr.sgd(G_train, y_train, np.ones(len(G_train[0])), beta_shared, 10000)\n",
    "#beta = lr.sgd(G_train, y_train, np.ones(len(G_train[0])), np.zeros(len(G_train[0])), 100)\n",
    "\n",
    "print(\"completed training.\")\n",
    "#l = sklearn.linear_model.LogisticRegression(penalty='l2', tol=.0001, fit_intercept=True)\n",
    "#l.fit(G_train, y_train)\n",
    "probas = lr.log_prob(G_test, beta)\n",
    "print (cat, len(G_train), np.count_nonzero(y_train), sklearn.metrics.roc_auc_score(y_test, probas))\n",
    "#print (cat, len(G_train), np.count_nonzero(y_train), sklearn.metrics.roc_auc_score(y_test, l.predict_proba(G_test)[:,1]))"
   ]
  },
  {
   "cell_type": "code",
   "execution_count": 213,
   "metadata": {
    "collapsed": false
   },
   "outputs": [
    {
     "data": {
      "text/plain": [
       "['Brain_Frontal_Cortex_BA9',\n",
       " 'Brain_Cortex',\n",
       " 'Brain_Anterior_cingulate_cortex_BA24']"
      ]
     },
     "execution_count": 213,
     "metadata": {},
     "output_type": "execute_result"
    }
   ],
   "source": [
    "brain_tissues_cortex"
   ]
  },
  {
   "cell_type": "code",
   "execution_count": 177,
   "metadata": {
    "collapsed": true
   },
   "outputs": [],
   "source": [
    "beta_brain = beta"
   ]
  },
  {
   "cell_type": "code",
   "execution_count": 251,
   "metadata": {
    "collapsed": false
   },
   "outputs": [
    {
     "name": "stderr",
     "output_type": "stream",
     "text": [
      "/Users/farhan.damani/anaconda3/lib/python3.5/site-packages/ipykernel/__main__.py:13: SettingWithCopyWarning: \n",
      "A value is trying to be set on a copy of a slice from a DataFrame.\n",
      "Try using .loc[row_indexer,col_indexer] = value instead\n",
      "\n",
      "See the caveats in the documentation: http://pandas.pydata.org/pandas-docs/stable/indexing.html#indexing-view-versus-copy\n"
     ]
    },
    {
     "name": "stdout",
     "output_type": "stream",
     "text": [
      "Optimization terminated successfully.\n",
      "         Current function value: 6933.700299\n",
      "         Iterations: 412\n",
      "         Function evaluations: 434\n",
      "         Gradient evaluations: 434\n",
      "completed training.\n",
      "brain 22502 2188 0.518431389058\n"
     ]
    }
   ],
   "source": [
    "cat = 'brain'\n",
    "#tissues = tissue_categories[cat]\n",
    "tissues = brain_tissues_ganglia\n",
    "#expr_cat = expr[tissue_categories[cat]]\n",
    "expr_cat = expr[tissues]\n",
    "#expr_cat = expr_cat.dropna(thresh = 2)\n",
    "#if len(expr_cat.columns) <= 4:\n",
    "#    expr_cat = expr_cat.dropna(thresh = 2)\n",
    "#else:\n",
    "#    expr_cat = expr_cat.dropna(thresh = 4)\n",
    "#expr_cat = expr_cat.dropna()\n",
    "#expr_cat = expr_cat.dropna(thresh = 5)\n",
    "expr_cat[\"median\"] = expr_cat.median(axis=1)\n",
    "train = pd.concat([g_df, expr_cat[\"median\"]], axis=1).dropna()\n",
    "train[\"median_disc\"] = sklearn.preprocessing.binarize(np.abs(train[\"median\"].values).reshape(-1,1), threshold = 1.5)\n",
    "G_train, G_test, y_train, y_test = sklearn.cross_validation.train_test_split(\n",
    "train[g_df.columns].values, train[\"median_disc\"].values, \n",
    "test_size=0.25, random_state=42)\n",
    "beta = lr.sgd(G_train, y_train, np.ones(len(G_train[0])), beta_shared, .000001)\n",
    "print(\"completed training.\")\n",
    "#l = sklearn.linear_model.LogisticRegression(penalty='l2', tol=.0001, fit_intercept=True)\n",
    "#l.fit(G_train, y_train)\n",
    "print (cat, len(G_train), np.count_nonzero(y_train), sklearn.metrics.roc_auc_score(y_test, lr.log_prob(G_test, beta)))\n",
    "#print (cat, len(G_train), np.count_nonzero(y_train), sklearn.metrics.roc_auc_score(y_test, l.predict_proba(G_test)[:,1]))"
   ]
  },
  {
   "cell_type": "code",
   "execution_count": 181,
   "metadata": {
    "collapsed": false
   },
   "outputs": [],
   "source": [
    "beta_shared = beta"
   ]
  },
  {
   "cell_type": "code",
   "execution_count": 169,
   "metadata": {
    "collapsed": false
   },
   "outputs": [
    {
     "data": {
      "text/plain": [
       "(362,)"
      ]
     },
     "execution_count": 169,
     "metadata": {},
     "output_type": "execute_result"
    }
   ],
   "source": [
    "np.ones(len(G_train[0])).shape"
   ]
  },
  {
   "cell_type": "code",
   "execution_count": 125,
   "metadata": {
    "collapsed": false
   },
   "outputs": [
    {
     "data": {
      "text/html": [
       "<div>\n",
       "<table border=\"1\" class=\"dataframe\">\n",
       "  <thead>\n",
       "    <tr style=\"text-align: right;\">\n",
       "      <th></th>\n",
       "      <th></th>\n",
       "      <th>Brain_Frontal_Cortex_BA9</th>\n",
       "      <th>Brain_Cortex</th>\n",
       "      <th>Brain_Anterior_cingulate_cortex_BA24</th>\n",
       "      <th>Brain_Nucleus_accumbens_basal_ganglia</th>\n",
       "      <th>Brain_Putamen_basal_ganglia</th>\n",
       "      <th>Brain_Caudate_basal_ganglia</th>\n",
       "    </tr>\n",
       "    <tr>\n",
       "      <th>subject_id</th>\n",
       "      <th>gene_id</th>\n",
       "      <th></th>\n",
       "      <th></th>\n",
       "      <th></th>\n",
       "      <th></th>\n",
       "      <th></th>\n",
       "      <th></th>\n",
       "    </tr>\n",
       "  </thead>\n",
       "  <tbody>\n",
       "    <tr>\n",
       "      <th rowspan=\"5\" valign=\"top\">GTEX-N7MS</th>\n",
       "      <th>ENSG00000001561.6</th>\n",
       "      <td>-0.786175</td>\n",
       "      <td>NaN</td>\n",
       "      <td>0.811069</td>\n",
       "      <td>-0.198743</td>\n",
       "      <td>-1.676483</td>\n",
       "      <td>0.270070</td>\n",
       "    </tr>\n",
       "    <tr>\n",
       "      <th>ENSG00000003056.3</th>\n",
       "      <td>-0.371790</td>\n",
       "      <td>NaN</td>\n",
       "      <td>-1.355650</td>\n",
       "      <td>0.098514</td>\n",
       "      <td>0.744628</td>\n",
       "      <td>-1.388229</td>\n",
       "    </tr>\n",
       "    <tr>\n",
       "      <th>ENSG00000003402.15</th>\n",
       "      <td>-0.876486</td>\n",
       "      <td>NaN</td>\n",
       "      <td>-1.132055</td>\n",
       "      <td>-1.197502</td>\n",
       "      <td>0.293015</td>\n",
       "      <td>-0.728798</td>\n",
       "    </tr>\n",
       "    <tr>\n",
       "      <th>ENSG00000004534.10</th>\n",
       "      <td>-0.521206</td>\n",
       "      <td>NaN</td>\n",
       "      <td>0.879670</td>\n",
       "      <td>-0.583644</td>\n",
       "      <td>0.144055</td>\n",
       "      <td>-0.045774</td>\n",
       "    </tr>\n",
       "    <tr>\n",
       "      <th>ENSG00000004660.10</th>\n",
       "      <td>-0.706056</td>\n",
       "      <td>NaN</td>\n",
       "      <td>-1.275275</td>\n",
       "      <td>-1.535246</td>\n",
       "      <td>0.544196</td>\n",
       "      <td>-0.821366</td>\n",
       "    </tr>\n",
       "  </tbody>\n",
       "</table>\n",
       "</div>"
      ],
      "text/plain": [
       "                               Brain_Frontal_Cortex_BA9  Brain_Cortex  \\\n",
       "subject_id gene_id                                                      \n",
       "GTEX-N7MS  ENSG00000001561.6                  -0.786175           NaN   \n",
       "           ENSG00000003056.3                  -0.371790           NaN   \n",
       "           ENSG00000003402.15                 -0.876486           NaN   \n",
       "           ENSG00000004534.10                 -0.521206           NaN   \n",
       "           ENSG00000004660.10                 -0.706056           NaN   \n",
       "\n",
       "                               Brain_Anterior_cingulate_cortex_BA24  \\\n",
       "subject_id gene_id                                                    \n",
       "GTEX-N7MS  ENSG00000001561.6                               0.811069   \n",
       "           ENSG00000003056.3                              -1.355650   \n",
       "           ENSG00000003402.15                             -1.132055   \n",
       "           ENSG00000004534.10                              0.879670   \n",
       "           ENSG00000004660.10                             -1.275275   \n",
       "\n",
       "                               Brain_Nucleus_accumbens_basal_ganglia  \\\n",
       "subject_id gene_id                                                     \n",
       "GTEX-N7MS  ENSG00000001561.6                               -0.198743   \n",
       "           ENSG00000003056.3                                0.098514   \n",
       "           ENSG00000003402.15                              -1.197502   \n",
       "           ENSG00000004534.10                              -0.583644   \n",
       "           ENSG00000004660.10                              -1.535246   \n",
       "\n",
       "                               Brain_Putamen_basal_ganglia  \\\n",
       "subject_id gene_id                                           \n",
       "GTEX-N7MS  ENSG00000001561.6                     -1.676483   \n",
       "           ENSG00000003056.3                      0.744628   \n",
       "           ENSG00000003402.15                     0.293015   \n",
       "           ENSG00000004534.10                     0.144055   \n",
       "           ENSG00000004660.10                     0.544196   \n",
       "\n",
       "                               Brain_Caudate_basal_ganglia  \n",
       "subject_id gene_id                                          \n",
       "GTEX-N7MS  ENSG00000001561.6                      0.270070  \n",
       "           ENSG00000003056.3                     -1.388229  \n",
       "           ENSG00000003402.15                    -0.728798  \n",
       "           ENSG00000004534.10                    -0.045774  \n",
       "           ENSG00000004660.10                    -0.821366  "
      ]
     },
     "execution_count": 125,
     "metadata": {},
     "output_type": "execute_result"
    }
   ],
   "source": [
    "expr[tissues].head()"
   ]
  },
  {
   "cell_type": "code",
   "execution_count": 94,
   "metadata": {
    "collapsed": false
   },
   "outputs": [
    {
     "data": {
      "text/plain": [
       "['Brain_Frontal_Cortex_BA9',\n",
       " 'Brain_Cortex',\n",
       " 'Brain_Anterior_cingulate_cortex_BA24']"
      ]
     },
     "execution_count": 94,
     "metadata": {},
     "output_type": "execute_result"
    }
   ],
   "source": [
    "tissues"
   ]
  },
  {
   "cell_type": "code",
   "execution_count": 262,
   "metadata": {
    "collapsed": true
   },
   "outputs": [],
   "source": [
    "np.savetxt('./brain_cortex_labels_20.txt', y_test)"
   ]
  },
  {
   "cell_type": "code",
   "execution_count": 263,
   "metadata": {
    "collapsed": false
   },
   "outputs": [],
   "source": [
    "np.savetxt('./brain_cortex.scores_20.txt', probas)"
   ]
  },
  {
   "cell_type": "code",
   "execution_count": 241,
   "metadata": {
    "collapsed": false
   },
   "outputs": [
    {
     "data": {
      "text/plain": [
       "7501"
      ]
     },
     "execution_count": 241,
     "metadata": {},
     "output_type": "execute_result"
    }
   ],
   "source": [
    "len(y_test)"
   ]
  },
  {
   "cell_type": "code",
   "execution_count": 106,
   "metadata": {
    "collapsed": false
   },
   "outputs": [
    {
     "data": {
      "text/plain": [
       "['Brain_Anterior_cingulate_cortex_BA24',\n",
       " 'Brain_Caudate_basal_ganglia',\n",
       " 'Brain_Cortex',\n",
       " 'Brain_Frontal_Cortex_BA9',\n",
       " 'Brain_Hippocampus']"
      ]
     },
     "execution_count": 106,
     "metadata": {},
     "output_type": "execute_result"
    }
   ],
   "source": [
    "tissue_categories[cat]"
   ]
  },
  {
   "cell_type": "code",
   "execution_count": 146,
   "metadata": {
    "collapsed": true
   },
   "outputs": [],
   "source": [
    "brain_tissues = tissue_categories[cat]"
   ]
  },
  {
   "cell_type": "code",
   "execution_count": 147,
   "metadata": {
    "collapsed": false
   },
   "outputs": [
    {
     "data": {
      "text/plain": [
       "['Brain_Anterior_cingulate_cortex_BA24',\n",
       " 'Brain_Caudate_basal_ganglia',\n",
       " 'Brain_Cortex',\n",
       " 'Brain_Frontal_Cortex_BA9',\n",
       " 'Brain_Hippocampus',\n",
       " 'Brain_Hypothalamus',\n",
       " 'Brain_Nucleus_accumbens_basal_ganglia',\n",
       " 'Brain_Putamen_basal_ganglia']"
      ]
     },
     "execution_count": 147,
     "metadata": {},
     "output_type": "execute_result"
    }
   ],
   "source": [
    "brain_tissues"
   ]
  },
  {
   "cell_type": "code",
   "execution_count": 192,
   "metadata": {
    "collapsed": false
   },
   "outputs": [],
   "source": [
    "brain_tissues_cortex = ['Brain_Frontal_Cortex_BA9', 'Brain_Cortex', 'Brain_Anterior_cingulate_cortex_BA24']"
   ]
  },
  {
   "cell_type": "code",
   "execution_count": 116,
   "metadata": {
    "collapsed": true
   },
   "outputs": [],
   "source": [
    "tissues = ['Brain_Frontal_Cortex_BA9', 'Brain_Cortex', 'Brain_Anterior_cingulate_cortex_BA24', 'Brain_Nucleus_accumbens_basal_ganglia', 'Brain_Putamen_basal_ganglia', 'Brain_Caudate_basal_ganglia']"
   ]
  },
  {
   "cell_type": "code",
   "execution_count": 131,
   "metadata": {
    "collapsed": true
   },
   "outputs": [],
   "source": [
    "tissues_gang = ['Brain_Putamen_basal_ganglia', 'Brain_Caudate_basal_ganglia']"
   ]
  },
  {
   "cell_type": "code",
   "execution_count": 78,
   "metadata": {
    "collapsed": true
   },
   "outputs": [],
   "source": [
    "brain_tissues_ganglia = ['Brain_Nucleus_accumbens_basal_ganglia', 'Brain_Putamen_basal_ganglia', 'Brain_Caudate_basal_ganglia']"
   ]
  },
  {
   "cell_type": "code",
   "execution_count": 58,
   "metadata": {
    "collapsed": false
   },
   "outputs": [
    {
     "data": {
      "text/plain": [
       "['Brain_Frontal_Cortex_BA9',\n",
       " 'Brain_Cortex',\n",
       " 'Brain_Anterior_cingulate_cortex_BA24']"
      ]
     },
     "execution_count": 58,
     "metadata": {},
     "output_type": "execute_result"
    }
   ],
   "source": [
    "brain_tissues_cortex"
   ]
  },
  {
   "cell_type": "code",
   "execution_count": null,
   "metadata": {
    "collapsed": true
   },
   "outputs": [],
   "source": []
  }
 ],
 "metadata": {
  "anaconda-cloud": {},
  "kernelspec": {
   "display_name": "Python [Root]",
   "language": "python",
   "name": "Python [Root]"
  },
  "language_info": {
   "codemirror_mode": {
    "name": "ipython",
    "version": 3
   },
   "file_extension": ".py",
   "mimetype": "text/x-python",
   "name": "python",
   "nbconvert_exporter": "python",
   "pygments_lexer": "ipython3",
   "version": "3.5.2"
  }
 },
 "nbformat": 4,
 "nbformat_minor": 0
}
