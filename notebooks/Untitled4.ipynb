{
 "cells": [
  {
   "cell_type": "code",
   "execution_count": 233,
   "metadata": {
    "collapsed": false
   },
   "outputs": [],
   "source": [
    "import numpy as np\n",
    "import pandas as pd\n",
    "import sys\n",
    "import matplotlib.pyplot as plt\n",
    "import matplotlib as mpl\n",
    "from sklearn import preprocessing\n",
    "import seaborn as sns; sns.set(style=\"white\", color_codes=True)\n",
    "import scipy\n",
    "import sklearn\n",
    "from sklearn import preprocessing"
   ]
  },
  {
   "cell_type": "code",
   "execution_count": 232,
   "metadata": {
    "collapsed": true
   },
   "outputs": [],
   "source": [
    "artery_train = pd.read_csv('../../../../../../data/train/artery_train.csv',index_col= (1,0))"
   ]
  },
  {
   "cell_type": "code",
   "execution_count": 234,
   "metadata": {
    "collapsed": false
   },
   "outputs": [
    {
     "data": {
      "text/plain": [
       "Index([u'Artery_Aorta', u'Artery_Coronary', u'Artery_Tibial', u'median',\n",
       "       u'n_variants', u'any_tfbs', u'any_enhancer', u'any_promoter',\n",
       "       u'any_dyadic', u'max_tfbs', u'max_enhancer', u'max_promoter',\n",
       "       u'max_dyadic', u'max_cadd', u'max_pri_phylop', u'max_mam_phylop',\n",
       "       u'max_ver_phylop', u'max_pri_phastCons', u'max_mam_phastCons',\n",
       "       u'max_ver_phastCons', u'max_fitCons', u'max_GerpN', u'max_GerpS',\n",
       "       u'max_GerpRS', u'max_CpG', u'closest_variant'],\n",
       "      dtype='object')"
      ]
     },
     "execution_count": 234,
     "metadata": {},
     "output_type": "execute_result"
    }
   ],
   "source": [
    "artery_train.columns"
   ]
  },
  {
   "cell_type": "code",
   "execution_count": 240,
   "metadata": {
    "collapsed": false
   },
   "outputs": [],
   "source": [
    "artery_train.dropna(inplace=True)\n",
    "e = sklearn.preprocessing.binarize(np.abs(artery_train[\"median\"]).reshape(-1,1), threshold = 2.0)\n",
    "g_start = list(artery_train.columns).index(\"n_variants\")\n",
    "g = sklearn.preprocessing.scale(artery_train.iloc[:,g_start:], axis=0)\n"
   ]
  },
  {
   "cell_type": "code",
   "execution_count": 247,
   "metadata": {
    "collapsed": false
   },
   "outputs": [
    {
     "data": {
      "text/plain": [
       "('ENSG00000001629.5', 'GTEX-11DXX')"
      ]
     },
     "execution_count": 247,
     "metadata": {},
     "output_type": "execute_result"
    }
   ],
   "source": [
    "artery_train.index.values[0]"
   ]
  },
  {
   "cell_type": "code",
   "execution_count": 252,
   "metadata": {
    "collapsed": true
   },
   "outputs": [],
   "source": [
    "params = pd.read_csv('../data/params_init.txt', index_col=(0), header=None)"
   ]
  },
  {
   "cell_type": "code",
   "execution_count": 253,
   "metadata": {
    "collapsed": false
   },
   "outputs": [
    {
     "data": {
      "text/html": [
       "<div>\n",
       "<table border=\"1\" class=\"dataframe\">\n",
       "  <thead>\n",
       "    <tr style=\"text-align: right;\">\n",
       "      <th></th>\n",
       "      <th>1</th>\n",
       "      <th>2</th>\n",
       "      <th>3</th>\n",
       "      <th>4</th>\n",
       "      <th>5</th>\n",
       "      <th>6</th>\n",
       "      <th>7</th>\n",
       "      <th>8</th>\n",
       "      <th>9</th>\n",
       "      <th>10</th>\n",
       "      <th>...</th>\n",
       "      <th>14</th>\n",
       "      <th>15</th>\n",
       "      <th>16</th>\n",
       "      <th>17</th>\n",
       "      <th>18</th>\n",
       "      <th>19</th>\n",
       "      <th>20</th>\n",
       "      <th>21</th>\n",
       "      <th>22</th>\n",
       "      <th>23</th>\n",
       "    </tr>\n",
       "    <tr>\n",
       "      <th>0</th>\n",
       "      <th></th>\n",
       "      <th></th>\n",
       "      <th></th>\n",
       "      <th></th>\n",
       "      <th></th>\n",
       "      <th></th>\n",
       "      <th></th>\n",
       "      <th></th>\n",
       "      <th></th>\n",
       "      <th></th>\n",
       "      <th></th>\n",
       "      <th></th>\n",
       "      <th></th>\n",
       "      <th></th>\n",
       "      <th></th>\n",
       "      <th></th>\n",
       "      <th></th>\n",
       "      <th></th>\n",
       "      <th></th>\n",
       "      <th></th>\n",
       "      <th></th>\n",
       "    </tr>\n",
       "  </thead>\n",
       "  <tbody>\n",
       "    <tr>\n",
       "      <th>parent</th>\n",
       "      <td>-5.250755</td>\n",
       "      <td>-0.048703</td>\n",
       "      <td>-0.133778</td>\n",
       "      <td>-0.461396</td>\n",
       "      <td>-0.881522</td>\n",
       "      <td>-0.285653</td>\n",
       "      <td>0.026242</td>\n",
       "      <td>0.029709</td>\n",
       "      <td>0.062933</td>\n",
       "      <td>-0.037015</td>\n",
       "      <td>...</td>\n",
       "      <td>0.158510</td>\n",
       "      <td>-0.105992</td>\n",
       "      <td>0.268152</td>\n",
       "      <td>-0.206595</td>\n",
       "      <td>0.294817</td>\n",
       "      <td>-0.094133</td>\n",
       "      <td>-0.048688</td>\n",
       "      <td>-0.000280</td>\n",
       "      <td>-0.453604</td>\n",
       "      <td>-0.000112</td>\n",
       "    </tr>\n",
       "    <tr>\n",
       "      <th>brain</th>\n",
       "      <td>-5.259347</td>\n",
       "      <td>0.037928</td>\n",
       "      <td>-0.139370</td>\n",
       "      <td>-0.121520</td>\n",
       "      <td>-0.150262</td>\n",
       "      <td>0.011654</td>\n",
       "      <td>0.057487</td>\n",
       "      <td>0.199904</td>\n",
       "      <td>0.234647</td>\n",
       "      <td>0.058466</td>\n",
       "      <td>...</td>\n",
       "      <td>0.196284</td>\n",
       "      <td>-0.020406</td>\n",
       "      <td>0.181016</td>\n",
       "      <td>-0.162278</td>\n",
       "      <td>0.021673</td>\n",
       "      <td>-0.125604</td>\n",
       "      <td>-0.044420</td>\n",
       "      <td>-0.150433</td>\n",
       "      <td>-0.067490</td>\n",
       "      <td>-0.133692</td>\n",
       "    </tr>\n",
       "    <tr>\n",
       "      <th>esophagus</th>\n",
       "      <td>-4.475866</td>\n",
       "      <td>0.008581</td>\n",
       "      <td>0.071187</td>\n",
       "      <td>-0.125044</td>\n",
       "      <td>-0.132931</td>\n",
       "      <td>-0.138295</td>\n",
       "      <td>-0.171675</td>\n",
       "      <td>0.188439</td>\n",
       "      <td>0.183562</td>\n",
       "      <td>0.002152</td>\n",
       "      <td>...</td>\n",
       "      <td>0.042786</td>\n",
       "      <td>-0.037461</td>\n",
       "      <td>-0.066477</td>\n",
       "      <td>0.053822</td>\n",
       "      <td>-0.078658</td>\n",
       "      <td>0.069485</td>\n",
       "      <td>-0.242223</td>\n",
       "      <td>-0.157932</td>\n",
       "      <td>0.038551</td>\n",
       "      <td>-0.106172</td>\n",
       "    </tr>\n",
       "    <tr>\n",
       "      <th>artery</th>\n",
       "      <td>-4.384141</td>\n",
       "      <td>0.047607</td>\n",
       "      <td>0.098076</td>\n",
       "      <td>-0.056304</td>\n",
       "      <td>-0.230032</td>\n",
       "      <td>-0.166201</td>\n",
       "      <td>-0.013524</td>\n",
       "      <td>-0.044275</td>\n",
       "      <td>0.330125</td>\n",
       "      <td>0.149891</td>\n",
       "      <td>...</td>\n",
       "      <td>0.183518</td>\n",
       "      <td>0.024992</td>\n",
       "      <td>0.102483</td>\n",
       "      <td>-0.052932</td>\n",
       "      <td>0.073214</td>\n",
       "      <td>0.032524</td>\n",
       "      <td>-0.102511</td>\n",
       "      <td>-0.074424</td>\n",
       "      <td>-0.074124</td>\n",
       "      <td>-0.061851</td>\n",
       "    </tr>\n",
       "  </tbody>\n",
       "</table>\n",
       "<p>4 rows × 23 columns</p>\n",
       "</div>"
      ],
      "text/plain": [
       "                 1         2         3         4         5         6   \\\n",
       "0                                                                       \n",
       "parent    -5.250755 -0.048703 -0.133778 -0.461396 -0.881522 -0.285653   \n",
       "brain     -5.259347  0.037928 -0.139370 -0.121520 -0.150262  0.011654   \n",
       "esophagus -4.475866  0.008581  0.071187 -0.125044 -0.132931 -0.138295   \n",
       "artery    -4.384141  0.047607  0.098076 -0.056304 -0.230032 -0.166201   \n",
       "\n",
       "                 7         8         9         10    ...           14  \\\n",
       "0                                                    ...                \n",
       "parent     0.026242  0.029709  0.062933 -0.037015    ...     0.158510   \n",
       "brain      0.057487  0.199904  0.234647  0.058466    ...     0.196284   \n",
       "esophagus -0.171675  0.188439  0.183562  0.002152    ...     0.042786   \n",
       "artery    -0.013524 -0.044275  0.330125  0.149891    ...     0.183518   \n",
       "\n",
       "                 15        16        17        18        19        20  \\\n",
       "0                                                                       \n",
       "parent    -0.105992  0.268152 -0.206595  0.294817 -0.094133 -0.048688   \n",
       "brain     -0.020406  0.181016 -0.162278  0.021673 -0.125604 -0.044420   \n",
       "esophagus -0.037461 -0.066477  0.053822 -0.078658  0.069485 -0.242223   \n",
       "artery     0.024992  0.102483 -0.052932  0.073214  0.032524 -0.102511   \n",
       "\n",
       "                 21        22        23  \n",
       "0                                        \n",
       "parent    -0.000280 -0.453604 -0.000112  \n",
       "brain     -0.150433 -0.067490 -0.133692  \n",
       "esophagus -0.157932  0.038551 -0.106172  \n",
       "artery    -0.074424 -0.074124 -0.061851  \n",
       "\n",
       "[4 rows x 23 columns]"
      ]
     },
     "execution_count": 253,
     "metadata": {},
     "output_type": "execute_result"
    }
   ],
   "source": [
    "params"
   ]
  },
  {
   "cell_type": "code",
   "execution_count": 255,
   "metadata": {
    "collapsed": false
   },
   "outputs": [],
   "source": [
    "beta_parent = params.ix[\"parent\"].values"
   ]
  },
  {
   "cell_type": "code",
   "execution_count": 256,
   "metadata": {
    "collapsed": false
   },
   "outputs": [
    {
     "data": {
      "text/plain": [
       "array([ -5.25075454e+00,  -4.87025762e-02,  -1.33778124e-01,\n",
       "        -4.61395937e-01,  -8.81521833e-01,  -2.85653152e-01,\n",
       "         2.62419508e-02,   2.97094959e-02,   6.29331087e-02,\n",
       "        -3.70153488e-02,   1.99640433e-01,  -3.49184603e-01,\n",
       "         2.31896159e-01,   1.58510000e-01,  -1.05992196e-01,\n",
       "         2.68152397e-01,  -2.06594526e-01,   2.94816758e-01,\n",
       "        -9.41332306e-02,  -4.86880136e-02,  -2.80077779e-04,\n",
       "        -4.53604460e-01,  -1.11897190e-04])"
      ]
     },
     "execution_count": 256,
     "metadata": {},
     "output_type": "execute_result"
    }
   ],
   "source": [
    "beta_parent"
   ]
  },
  {
   "cell_type": "code",
   "execution_count": 202,
   "metadata": {
    "collapsed": false
   },
   "outputs": [],
   "source": [
    "train_df = pd.read_csv('../../../../../../data/train/train_all_tissues.csv',index_col= (1,0))"
   ]
  },
  {
   "cell_type": "code",
   "execution_count": 259,
   "metadata": {
    "collapsed": false
   },
   "outputs": [
    {
     "data": {
      "text/plain": [
       "True"
      ]
     },
     "execution_count": 259,
     "metadata": {},
     "output_type": "execute_result"
    }
   ],
   "source": [
    "s = 'adipose2'\n",
    "'adipose' in s"
   ]
  },
  {
   "cell_type": "code",
   "execution_count": 180,
   "metadata": {
    "collapsed": false
   },
   "outputs": [],
   "source": [
    "train_df = train_df.dropna(thresh=28)"
   ]
  },
  {
   "cell_type": "code",
   "execution_count": 207,
   "metadata": {
    "collapsed": false
   },
   "outputs": [],
   "source": [
    "mult_vars_df = pd.read_csv('../../../../../../data/all_variants_multiple_subjects.csv', index_col=(1))"
   ]
  },
  {
   "cell_type": "code",
   "execution_count": 208,
   "metadata": {
    "collapsed": false
   },
   "outputs": [],
   "source": [
    "del mult_vars_df[\"Unnamed: 0\"]"
   ]
  },
  {
   "cell_type": "code",
   "execution_count": 209,
   "metadata": {
    "collapsed": false
   },
   "outputs": [
    {
     "data": {
      "text/html": [
       "<div>\n",
       "<table border=\"1\" class=\"dataframe\">\n",
       "  <thead>\n",
       "    <tr style=\"text-align: right;\">\n",
       "      <th></th>\n",
       "      <th>1</th>\n",
       "      <th>2</th>\n",
       "      <th>3</th>\n",
       "      <th>4</th>\n",
       "      <th>5</th>\n",
       "      <th>6</th>\n",
       "      <th>7</th>\n",
       "      <th>8</th>\n",
       "    </tr>\n",
       "    <tr>\n",
       "      <th>0</th>\n",
       "      <th></th>\n",
       "      <th></th>\n",
       "      <th></th>\n",
       "      <th></th>\n",
       "      <th></th>\n",
       "      <th></th>\n",
       "      <th></th>\n",
       "      <th></th>\n",
       "    </tr>\n",
       "  </thead>\n",
       "  <tbody>\n",
       "    <tr>\n",
       "      <th>ENSG00000000419.8</th>\n",
       "      <td>GTEX-13O3P</td>\n",
       "      <td>GTEX-13OW7</td>\n",
       "      <td>NaN</td>\n",
       "      <td>NaN</td>\n",
       "      <td>NaN</td>\n",
       "      <td>NaN</td>\n",
       "      <td>NaN</td>\n",
       "      <td>NaN</td>\n",
       "    </tr>\n",
       "    <tr>\n",
       "      <th>ENSG00000001036.9</th>\n",
       "      <td>GTEX-V1D1</td>\n",
       "      <td>GTEX-ZTSS</td>\n",
       "      <td>NaN</td>\n",
       "      <td>NaN</td>\n",
       "      <td>NaN</td>\n",
       "      <td>NaN</td>\n",
       "      <td>NaN</td>\n",
       "      <td>NaN</td>\n",
       "    </tr>\n",
       "    <tr>\n",
       "      <th>ENSG00000001167.10</th>\n",
       "      <td>GTEX-Q2AI</td>\n",
       "      <td>GTEX-R53T</td>\n",
       "      <td>GTEX-RTLS</td>\n",
       "      <td>GTEX-XBEW</td>\n",
       "      <td>NaN</td>\n",
       "      <td>NaN</td>\n",
       "      <td>NaN</td>\n",
       "      <td>NaN</td>\n",
       "    </tr>\n",
       "    <tr>\n",
       "      <th>ENSG00000001167.10</th>\n",
       "      <td>GTEX-111FC</td>\n",
       "      <td>GTEX-11GSO</td>\n",
       "      <td>GTEX-RVPV</td>\n",
       "      <td>GTEX-RWS6</td>\n",
       "      <td>GTEX-WFJO</td>\n",
       "      <td>GTEX-Z9EW</td>\n",
       "      <td>GTEX-ZAB4</td>\n",
       "      <td>NaN</td>\n",
       "    </tr>\n",
       "    <tr>\n",
       "      <th>ENSG00000001167.10</th>\n",
       "      <td>GTEX-11TTK</td>\n",
       "      <td>GTEX-11WQK</td>\n",
       "      <td>GTEX-SIU8</td>\n",
       "      <td>GTEX-WHWD</td>\n",
       "      <td>GTEX-YEC4</td>\n",
       "      <td>NaN</td>\n",
       "      <td>NaN</td>\n",
       "      <td>NaN</td>\n",
       "    </tr>\n",
       "  </tbody>\n",
       "</table>\n",
       "</div>"
      ],
      "text/plain": [
       "                             1           2          3          4          5  \\\n",
       "0                                                                             \n",
       "ENSG00000000419.8   GTEX-13O3P  GTEX-13OW7        NaN        NaN        NaN   \n",
       "ENSG00000001036.9    GTEX-V1D1   GTEX-ZTSS        NaN        NaN        NaN   \n",
       "ENSG00000001167.10   GTEX-Q2AI   GTEX-R53T  GTEX-RTLS  GTEX-XBEW        NaN   \n",
       "ENSG00000001167.10  GTEX-111FC  GTEX-11GSO  GTEX-RVPV  GTEX-RWS6  GTEX-WFJO   \n",
       "ENSG00000001167.10  GTEX-11TTK  GTEX-11WQK  GTEX-SIU8  GTEX-WHWD  GTEX-YEC4   \n",
       "\n",
       "                            6          7    8  \n",
       "0                                              \n",
       "ENSG00000000419.8         NaN        NaN  NaN  \n",
       "ENSG00000001036.9         NaN        NaN  NaN  \n",
       "ENSG00000001167.10        NaN        NaN  NaN  \n",
       "ENSG00000001167.10  GTEX-Z9EW  GTEX-ZAB4  NaN  \n",
       "ENSG00000001167.10        NaN        NaN  NaN  "
      ]
     },
     "execution_count": 209,
     "metadata": {},
     "output_type": "execute_result"
    }
   ],
   "source": [
    "mult_vars_df.head()"
   ]
  },
  {
   "cell_type": "code",
   "execution_count": 210,
   "metadata": {
    "collapsed": true
   },
   "outputs": [],
   "source": [
    "mult_vars_df.drop(mult_vars_df[mult_vars_df[\"2\"].isnull()].index.values, axis=0, inplace=True)"
   ]
  },
  {
   "cell_type": "code",
   "execution_count": 213,
   "metadata": {
    "collapsed": false
   },
   "outputs": [
    {
     "data": {
      "text/html": [
       "<div>\n",
       "<table border=\"1\" class=\"dataframe\">\n",
       "  <thead>\n",
       "    <tr style=\"text-align: right;\">\n",
       "      <th></th>\n",
       "      <th>1</th>\n",
       "      <th>2</th>\n",
       "      <th>3</th>\n",
       "      <th>4</th>\n",
       "      <th>5</th>\n",
       "      <th>6</th>\n",
       "      <th>7</th>\n",
       "      <th>8</th>\n",
       "    </tr>\n",
       "    <tr>\n",
       "      <th>0</th>\n",
       "      <th></th>\n",
       "      <th></th>\n",
       "      <th></th>\n",
       "      <th></th>\n",
       "      <th></th>\n",
       "      <th></th>\n",
       "      <th></th>\n",
       "      <th></th>\n",
       "    </tr>\n",
       "  </thead>\n",
       "  <tbody>\n",
       "  </tbody>\n",
       "</table>\n",
       "</div>"
      ],
      "text/plain": [
       "Empty DataFrame\n",
       "Columns: [1, 2, 3, 4, 5, 6, 7, 8]\n",
       "Index: []"
      ]
     },
     "execution_count": 213,
     "metadata": {},
     "output_type": "execute_result"
    }
   ],
   "source": [
    "mult_vars_df[mult_vars_df[\"2\"].isnull()]"
   ]
  },
  {
   "cell_type": "code",
   "execution_count": null,
   "metadata": {
    "collapsed": false
   },
   "outputs": [],
   "source": [
    "train_df.head()"
   ]
  },
  {
   "cell_type": "code",
   "execution_count": 217,
   "metadata": {
    "collapsed": false
   },
   "outputs": [],
   "source": [
    "n_2_pairs = mult_vars_df[mult_vars_df['3'].isnull()]"
   ]
  },
  {
   "cell_type": "code",
   "execution_count": 186,
   "metadata": {
    "collapsed": false
   },
   "outputs": [
    {
     "data": {
      "text/html": [
       "<div>\n",
       "<table border=\"1\" class=\"dataframe\">\n",
       "  <thead>\n",
       "    <tr style=\"text-align: right;\">\n",
       "      <th></th>\n",
       "      <th>1</th>\n",
       "      <th>2</th>\n",
       "      <th>3</th>\n",
       "      <th>4</th>\n",
       "      <th>5</th>\n",
       "      <th>6</th>\n",
       "      <th>7</th>\n",
       "      <th>8</th>\n",
       "    </tr>\n",
       "    <tr>\n",
       "      <th>0</th>\n",
       "      <th></th>\n",
       "      <th></th>\n",
       "      <th></th>\n",
       "      <th></th>\n",
       "      <th></th>\n",
       "      <th></th>\n",
       "      <th></th>\n",
       "      <th></th>\n",
       "    </tr>\n",
       "  </thead>\n",
       "  <tbody>\n",
       "    <tr>\n",
       "      <th>ENSG00000000419.8</th>\n",
       "      <td>GTEX-13O3P</td>\n",
       "      <td>GTEX-13OW7</td>\n",
       "      <td>NaN</td>\n",
       "      <td>NaN</td>\n",
       "      <td>NaN</td>\n",
       "      <td>NaN</td>\n",
       "      <td>NaN</td>\n",
       "      <td>NaN</td>\n",
       "    </tr>\n",
       "    <tr>\n",
       "      <th>ENSG00000001036.9</th>\n",
       "      <td>GTEX-V1D1</td>\n",
       "      <td>GTEX-ZTSS</td>\n",
       "      <td>NaN</td>\n",
       "      <td>NaN</td>\n",
       "      <td>NaN</td>\n",
       "      <td>NaN</td>\n",
       "      <td>NaN</td>\n",
       "      <td>NaN</td>\n",
       "    </tr>\n",
       "    <tr>\n",
       "      <th>ENSG00000001629.5</th>\n",
       "      <td>GTEX-Y8DK</td>\n",
       "      <td>GTEX-ZXES</td>\n",
       "      <td>NaN</td>\n",
       "      <td>NaN</td>\n",
       "      <td>NaN</td>\n",
       "      <td>NaN</td>\n",
       "      <td>NaN</td>\n",
       "      <td>NaN</td>\n",
       "    </tr>\n",
       "    <tr>\n",
       "      <th>ENSG00000001631.10</th>\n",
       "      <td>GTEX-Y8DK</td>\n",
       "      <td>GTEX-ZXES</td>\n",
       "      <td>NaN</td>\n",
       "      <td>NaN</td>\n",
       "      <td>NaN</td>\n",
       "      <td>NaN</td>\n",
       "      <td>NaN</td>\n",
       "      <td>NaN</td>\n",
       "    </tr>\n",
       "    <tr>\n",
       "      <th>ENSG00000002016.12</th>\n",
       "      <td>GTEX-P4QT</td>\n",
       "      <td>GTEX-PW2O</td>\n",
       "      <td>NaN</td>\n",
       "      <td>NaN</td>\n",
       "      <td>NaN</td>\n",
       "      <td>NaN</td>\n",
       "      <td>NaN</td>\n",
       "      <td>NaN</td>\n",
       "    </tr>\n",
       "  </tbody>\n",
       "</table>\n",
       "</div>"
      ],
      "text/plain": [
       "                             1           2    3    4    5    6    7    8\n",
       "0                                                                       \n",
       "ENSG00000000419.8   GTEX-13O3P  GTEX-13OW7  NaN  NaN  NaN  NaN  NaN  NaN\n",
       "ENSG00000001036.9    GTEX-V1D1   GTEX-ZTSS  NaN  NaN  NaN  NaN  NaN  NaN\n",
       "ENSG00000001629.5    GTEX-Y8DK   GTEX-ZXES  NaN  NaN  NaN  NaN  NaN  NaN\n",
       "ENSG00000001631.10   GTEX-Y8DK   GTEX-ZXES  NaN  NaN  NaN  NaN  NaN  NaN\n",
       "ENSG00000002016.12   GTEX-P4QT   GTEX-PW2O  NaN  NaN  NaN  NaN  NaN  NaN"
      ]
     },
     "execution_count": 186,
     "metadata": {},
     "output_type": "execute_result"
    }
   ],
   "source": [
    "n_2_pairs.head()"
   ]
  },
  {
   "cell_type": "code",
   "execution_count": 187,
   "metadata": {
    "collapsed": false
   },
   "outputs": [],
   "source": [
    "del n_2_pairs[\"3\"], n_2_pairs[\"4\"], n_2_pairs[\"5\"], n_2_pairs[\"6\"], n_2_pairs[\"7\"], n_2_pairs[\"8\"]"
   ]
  },
  {
   "cell_type": "code",
   "execution_count": 203,
   "metadata": {
    "collapsed": false
   },
   "outputs": [
    {
     "name": "stdout",
     "output_type": "stream",
     "text": [
      "['GTEX-13O3P' 'GTEX-13OW7']\n"
     ]
    }
   ],
   "source": [
    "print n_2_pairs.values[0]"
   ]
  },
  {
   "cell_type": "code",
   "execution_count": 224,
   "metadata": {
    "collapsed": true
   },
   "outputs": [],
   "source": [
    "train_df[\"median_abs\"] = np.abs(train_df.iloc[:,0:43]).median(axis=1)"
   ]
  },
  {
   "cell_type": "code",
   "execution_count": 225,
   "metadata": {
    "collapsed": false
   },
   "outputs": [
    {
     "data": {
      "text/html": [
       "<div>\n",
       "<table border=\"1\" class=\"dataframe\">\n",
       "  <thead>\n",
       "    <tr style=\"text-align: right;\">\n",
       "      <th></th>\n",
       "      <th></th>\n",
       "      <th>Adipose_Subcutaneous</th>\n",
       "      <th>Adipose_Visceral_Omentum</th>\n",
       "      <th>Artery_Aorta</th>\n",
       "      <th>Artery_Coronary</th>\n",
       "      <th>Artery_Tibial</th>\n",
       "      <th>Brain_Anterior_cingulate_cortex_BA24</th>\n",
       "      <th>Brain_Caudate_basal_ganglia</th>\n",
       "      <th>Brain_Cerebellar_Hemisphere</th>\n",
       "      <th>Brain_Cerebellum</th>\n",
       "      <th>Brain_Cortex</th>\n",
       "      <th>...</th>\n",
       "      <th>max_mam_phastCons</th>\n",
       "      <th>max_ver_phastCons</th>\n",
       "      <th>max_fitCons</th>\n",
       "      <th>max_GerpN</th>\n",
       "      <th>max_GerpS</th>\n",
       "      <th>max_GerpRS</th>\n",
       "      <th>max_CpG</th>\n",
       "      <th>closest_variant</th>\n",
       "      <th>median</th>\n",
       "      <th>median_abs</th>\n",
       "    </tr>\n",
       "    <tr>\n",
       "      <th>gene_id</th>\n",
       "      <th>subject_id</th>\n",
       "      <th></th>\n",
       "      <th></th>\n",
       "      <th></th>\n",
       "      <th></th>\n",
       "      <th></th>\n",
       "      <th></th>\n",
       "      <th></th>\n",
       "      <th></th>\n",
       "      <th></th>\n",
       "      <th></th>\n",
       "      <th></th>\n",
       "      <th></th>\n",
       "      <th></th>\n",
       "      <th></th>\n",
       "      <th></th>\n",
       "      <th></th>\n",
       "      <th></th>\n",
       "      <th></th>\n",
       "      <th></th>\n",
       "      <th></th>\n",
       "      <th></th>\n",
       "    </tr>\n",
       "  </thead>\n",
       "  <tbody>\n",
       "    <tr>\n",
       "      <th>ENSG00000002745.8</th>\n",
       "      <th>GTEX-111CU</th>\n",
       "      <td>-0.167183</td>\n",
       "      <td>0.005090</td>\n",
       "      <td>NaN</td>\n",
       "      <td>NaN</td>\n",
       "      <td>NaN</td>\n",
       "      <td>NaN</td>\n",
       "      <td>NaN</td>\n",
       "      <td>NaN</td>\n",
       "      <td>NaN</td>\n",
       "      <td>NaN</td>\n",
       "      <td>...</td>\n",
       "      <td>1.000</td>\n",
       "      <td>1.000</td>\n",
       "      <td>0.066</td>\n",
       "      <td>6.16</td>\n",
       "      <td>5.01</td>\n",
       "      <td>1401.6</td>\n",
       "      <td>0.00</td>\n",
       "      <td>1537.0</td>\n",
       "      <td>0.110468</td>\n",
       "      <td>0.670569</td>\n",
       "    </tr>\n",
       "    <tr>\n",
       "      <th>ENSG00000002746.10</th>\n",
       "      <th>GTEX-111CU</th>\n",
       "      <td>-0.662809</td>\n",
       "      <td>NaN</td>\n",
       "      <td>NaN</td>\n",
       "      <td>NaN</td>\n",
       "      <td>NaN</td>\n",
       "      <td>NaN</td>\n",
       "      <td>NaN</td>\n",
       "      <td>NaN</td>\n",
       "      <td>NaN</td>\n",
       "      <td>NaN</td>\n",
       "      <td>...</td>\n",
       "      <td>0.999</td>\n",
       "      <td>0.992</td>\n",
       "      <td>0.066</td>\n",
       "      <td>4.45</td>\n",
       "      <td>2.00</td>\n",
       "      <td>576.2</td>\n",
       "      <td>0.03</td>\n",
       "      <td>5548.0</td>\n",
       "      <td>-0.345923</td>\n",
       "      <td>0.473701</td>\n",
       "    </tr>\n",
       "    <tr>\n",
       "      <th>ENSG00000005075.11</th>\n",
       "      <th>GTEX-111CU</th>\n",
       "      <td>0.508616</td>\n",
       "      <td>0.296740</td>\n",
       "      <td>NaN</td>\n",
       "      <td>NaN</td>\n",
       "      <td>NaN</td>\n",
       "      <td>NaN</td>\n",
       "      <td>NaN</td>\n",
       "      <td>NaN</td>\n",
       "      <td>NaN</td>\n",
       "      <td>NaN</td>\n",
       "      <td>...</td>\n",
       "      <td>0.001</td>\n",
       "      <td>0.000</td>\n",
       "      <td>0.672</td>\n",
       "      <td>5.28</td>\n",
       "      <td>-10.60</td>\n",
       "      <td>391.5</td>\n",
       "      <td>0.16</td>\n",
       "      <td>6338.0</td>\n",
       "      <td>0.541586</td>\n",
       "      <td>0.541586</td>\n",
       "    </tr>\n",
       "    <tr>\n",
       "      <th>ENSG00000006025.7</th>\n",
       "      <th>GTEX-111CU</th>\n",
       "      <td>0.699380</td>\n",
       "      <td>-0.957320</td>\n",
       "      <td>NaN</td>\n",
       "      <td>NaN</td>\n",
       "      <td>NaN</td>\n",
       "      <td>NaN</td>\n",
       "      <td>NaN</td>\n",
       "      <td>NaN</td>\n",
       "      <td>NaN</td>\n",
       "      <td>NaN</td>\n",
       "      <td>...</td>\n",
       "      <td>0.927</td>\n",
       "      <td>0.970</td>\n",
       "      <td>0.110</td>\n",
       "      <td>5.13</td>\n",
       "      <td>4.14</td>\n",
       "      <td>113.7</td>\n",
       "      <td>0.04</td>\n",
       "      <td>424.0</td>\n",
       "      <td>0.055008</td>\n",
       "      <td>0.698974</td>\n",
       "    </tr>\n",
       "    <tr>\n",
       "      <th>ENSG00000006042.7</th>\n",
       "      <th>GTEX-111CU</th>\n",
       "      <td>-0.236653</td>\n",
       "      <td>-0.103683</td>\n",
       "      <td>NaN</td>\n",
       "      <td>NaN</td>\n",
       "      <td>NaN</td>\n",
       "      <td>NaN</td>\n",
       "      <td>NaN</td>\n",
       "      <td>NaN</td>\n",
       "      <td>NaN</td>\n",
       "      <td>NaN</td>\n",
       "      <td>...</td>\n",
       "      <td>1.000</td>\n",
       "      <td>1.000</td>\n",
       "      <td>0.702</td>\n",
       "      <td>5.31</td>\n",
       "      <td>4.22</td>\n",
       "      <td>528.2</td>\n",
       "      <td>0.09</td>\n",
       "      <td>3344.0</td>\n",
       "      <td>-0.549696</td>\n",
       "      <td>0.558236</td>\n",
       "    </tr>\n",
       "  </tbody>\n",
       "</table>\n",
       "<p>5 rows × 67 columns</p>\n",
       "</div>"
      ],
      "text/plain": [
       "                               Adipose_Subcutaneous  Adipose_Visceral_Omentum  \\\n",
       "gene_id            subject_id                                                   \n",
       "ENSG00000002745.8  GTEX-111CU             -0.167183                  0.005090   \n",
       "ENSG00000002746.10 GTEX-111CU             -0.662809                       NaN   \n",
       "ENSG00000005075.11 GTEX-111CU              0.508616                  0.296740   \n",
       "ENSG00000006025.7  GTEX-111CU              0.699380                 -0.957320   \n",
       "ENSG00000006042.7  GTEX-111CU             -0.236653                 -0.103683   \n",
       "\n",
       "                               Artery_Aorta  Artery_Coronary  Artery_Tibial  \\\n",
       "gene_id            subject_id                                                 \n",
       "ENSG00000002745.8  GTEX-111CU           NaN              NaN            NaN   \n",
       "ENSG00000002746.10 GTEX-111CU           NaN              NaN            NaN   \n",
       "ENSG00000005075.11 GTEX-111CU           NaN              NaN            NaN   \n",
       "ENSG00000006025.7  GTEX-111CU           NaN              NaN            NaN   \n",
       "ENSG00000006042.7  GTEX-111CU           NaN              NaN            NaN   \n",
       "\n",
       "                               Brain_Anterior_cingulate_cortex_BA24  \\\n",
       "gene_id            subject_id                                         \n",
       "ENSG00000002745.8  GTEX-111CU                                   NaN   \n",
       "ENSG00000002746.10 GTEX-111CU                                   NaN   \n",
       "ENSG00000005075.11 GTEX-111CU                                   NaN   \n",
       "ENSG00000006025.7  GTEX-111CU                                   NaN   \n",
       "ENSG00000006042.7  GTEX-111CU                                   NaN   \n",
       "\n",
       "                               Brain_Caudate_basal_ganglia  \\\n",
       "gene_id            subject_id                                \n",
       "ENSG00000002745.8  GTEX-111CU                          NaN   \n",
       "ENSG00000002746.10 GTEX-111CU                          NaN   \n",
       "ENSG00000005075.11 GTEX-111CU                          NaN   \n",
       "ENSG00000006025.7  GTEX-111CU                          NaN   \n",
       "ENSG00000006042.7  GTEX-111CU                          NaN   \n",
       "\n",
       "                               Brain_Cerebellar_Hemisphere  Brain_Cerebellum  \\\n",
       "gene_id            subject_id                                                  \n",
       "ENSG00000002745.8  GTEX-111CU                          NaN               NaN   \n",
       "ENSG00000002746.10 GTEX-111CU                          NaN               NaN   \n",
       "ENSG00000005075.11 GTEX-111CU                          NaN               NaN   \n",
       "ENSG00000006025.7  GTEX-111CU                          NaN               NaN   \n",
       "ENSG00000006042.7  GTEX-111CU                          NaN               NaN   \n",
       "\n",
       "                               Brain_Cortex     ...      max_mam_phastCons  \\\n",
       "gene_id            subject_id                   ...                          \n",
       "ENSG00000002745.8  GTEX-111CU           NaN     ...                  1.000   \n",
       "ENSG00000002746.10 GTEX-111CU           NaN     ...                  0.999   \n",
       "ENSG00000005075.11 GTEX-111CU           NaN     ...                  0.001   \n",
       "ENSG00000006025.7  GTEX-111CU           NaN     ...                  0.927   \n",
       "ENSG00000006042.7  GTEX-111CU           NaN     ...                  1.000   \n",
       "\n",
       "                               max_ver_phastCons  max_fitCons  max_GerpN  \\\n",
       "gene_id            subject_id                                              \n",
       "ENSG00000002745.8  GTEX-111CU              1.000        0.066       6.16   \n",
       "ENSG00000002746.10 GTEX-111CU              0.992        0.066       4.45   \n",
       "ENSG00000005075.11 GTEX-111CU              0.000        0.672       5.28   \n",
       "ENSG00000006025.7  GTEX-111CU              0.970        0.110       5.13   \n",
       "ENSG00000006042.7  GTEX-111CU              1.000        0.702       5.31   \n",
       "\n",
       "                               max_GerpS  max_GerpRS  max_CpG  \\\n",
       "gene_id            subject_id                                   \n",
       "ENSG00000002745.8  GTEX-111CU       5.01      1401.6     0.00   \n",
       "ENSG00000002746.10 GTEX-111CU       2.00       576.2     0.03   \n",
       "ENSG00000005075.11 GTEX-111CU     -10.60       391.5     0.16   \n",
       "ENSG00000006025.7  GTEX-111CU       4.14       113.7     0.04   \n",
       "ENSG00000006042.7  GTEX-111CU       4.22       528.2     0.09   \n",
       "\n",
       "                               closest_variant    median  median_abs  \n",
       "gene_id            subject_id                                         \n",
       "ENSG00000002745.8  GTEX-111CU           1537.0  0.110468    0.670569  \n",
       "ENSG00000002746.10 GTEX-111CU           5548.0 -0.345923    0.473701  \n",
       "ENSG00000005075.11 GTEX-111CU           6338.0  0.541586    0.541586  \n",
       "ENSG00000006025.7  GTEX-111CU            424.0  0.055008    0.698974  \n",
       "ENSG00000006042.7  GTEX-111CU           3344.0 -0.549696    0.558236  \n",
       "\n",
       "[5 rows x 67 columns]"
      ]
     },
     "execution_count": 225,
     "metadata": {},
     "output_type": "execute_result"
    }
   ],
   "source": [
    "train_df.head()"
   ]
  },
  {
   "cell_type": "code",
   "execution_count": 226,
   "metadata": {
    "collapsed": true
   },
   "outputs": [],
   "source": [
    "expr = []\n",
    "for i in range(len(n_2_pairs.index.values)):\n",
    "    gene = n_2_pairs.index.values[i]\n",
    "    s1 = n_2_pairs.values[i][0]\n",
    "    s2 = n_2_pairs.values[i][1]\n",
    "    expr.append((train_df.ix[gene,s1][\"median_abs\"], train_df.ix[gene,s2][\"median_abs\"]))\n",
    "    "
   ]
  },
  {
   "cell_type": "code",
   "execution_count": 228,
   "metadata": {
    "collapsed": false
   },
   "outputs": [],
   "source": [
    "s_med = np.array(expr)\n",
    "\n"
   ]
  },
  {
   "cell_type": "code",
   "execution_count": 230,
   "metadata": {
    "collapsed": false
   },
   "outputs": [
    {
     "name": "stdout",
     "output_type": "stream",
     "text": [
      "median spearman:  SpearmanrResult(correlation=0.039128059796161588, pvalue=4.3639364474752777e-17)\n",
      "median kendall tau 1.5 thresh:  KendalltauResult(correlation=0.11095876727066452, pvalue=1.4414225579836929e-279)\n",
      "266 46084\n"
     ]
    }
   ],
   "source": [
    "import sklearn\n",
    "print 'median spearman: ',scipy.stats.spearmanr(s_med)\n",
    "Y = sklearn.preprocessing.binarize(np.abs(s_med), threshold=2.5)\n",
    "print 'median kendall tau 1.5 thresh: ',scipy.stats.kendalltau(Y[:,0], Y[:,1])\n",
    "print np.count_nonzero(Y), len(Y)"
   ]
  },
  {
   "cell_type": "code",
   "execution_count": null,
   "metadata": {
    "collapsed": true
   },
   "outputs": [],
   "source": []
  }
 ],
 "metadata": {
  "anaconda-cloud": {},
  "kernelspec": {
   "display_name": "Python [Root]",
   "language": "python",
   "name": "Python [Root]"
  },
  "language_info": {
   "codemirror_mode": {
    "name": "ipython",
    "version": 3
   },
   "file_extension": ".py",
   "mimetype": "text/x-python",
   "name": "python",
   "nbconvert_exporter": "python",
   "pygments_lexer": "ipython3",
   "version": "3.5.2"
  }
 },
 "nbformat": 4,
 "nbformat_minor": 0
}
