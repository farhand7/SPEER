{
 "cells": [
  {
   "cell_type": "code",
   "execution_count": null,
   "metadata": {
    "collapsed": true
   },
   "outputs": [],
   "source": [
    "'''\n",
    "This notebook compares BFGS optimization using scipy compared to sklearn package.\n",
    "We get the same results.\n",
    "'''"
   ]
  },
  {
   "cell_type": "code",
   "execution_count": 7,
   "metadata": {
    "collapsed": true
   },
   "outputs": [],
   "source": [
    "import numpy as np\n",
    "import sys\n",
    "import timeit\n",
    "import pandas as pd\n",
    "import scipy as sp\n",
    "import scipy.optimize\n",
    "from sklearn import cross_validation, metrics, linear_model"
   ]
  },
  {
   "cell_type": "code",
   "execution_count": 15,
   "metadata": {
    "collapsed": true
   },
   "outputs": [],
   "source": [
    "data = pd.read_table('./data/Adrenal_Gland_1.5.txt', delimiter='\\t', dtype=str).values"
   ]
  },
  {
   "cell_type": "code",
   "execution_count": 16,
   "metadata": {
    "collapsed": false
   },
   "outputs": [],
   "source": [
    "label, e, g = data[:,0:2], data[:,2].astype(float), data[:,3:].astype(float)\n",
    "g = np.concatenate((np.ones((len(g), 1)), g), axis=1)\n",
    "vBeta = np.zeros(len(g[0]))"
   ]
  },
  {
   "cell_type": "code",
   "execution_count": 17,
   "metadata": {
    "collapsed": false
   },
   "outputs": [],
   "source": [
    "# cost function\n",
    "def logLikelihoodLogitVerbose(vBeta, mX, vY):\n",
    "    #import pdb; pdb.set_trace()\n",
    "    return(-(np.sum(vY*(np.dot(mX, vBeta) - np.log((1.0 + np.exp(np.dot(mX, vBeta))))) + (1-vY)*(-np.log((1.0 + np.exp(np.dot(mX, vBeta)))))))) + .5 * 1 * (vBeta).dot((vBeta))\n",
    "\n",
    "# gradient\n",
    "def likelihoodScore(vBeta, mX, vY):\n",
    "    return (np.dot(mX.T, (logit(mX, vBeta) - vY))) + 1 * (vBeta)\n",
    "\n",
    "# logistic transformation\n",
    "def logit(mX, vBeta):\n",
    "    return((np.exp(np.dot(mX, vBeta))/(1.0 + np.exp(np.dot(mX, vBeta)))))\n",
    "\n",
    "def hessian(vBeta, mX, vY):\n",
    "    return (np.dot(np.dot(mX, mX.T), logit(mX, vBeta)))*(1 - logit(mX, vBeta))"
   ]
  },
  {
   "cell_type": "code",
   "execution_count": 6,
   "metadata": {
    "collapsed": false
   },
   "outputs": [],
   "source": []
  },
  {
   "cell_type": "code",
   "execution_count": 18,
   "metadata": {
    "collapsed": false
   },
   "outputs": [
    {
     "name": "stdout",
     "output_type": "stream",
     "text": [
      "Optimization terminated successfully.\n",
      "         Current function value: 258634.265528\n",
      "         Iterations: 33\n",
      "         Function evaluations: 55\n",
      "         Gradient evaluations: 55\n"
     ]
    }
   ],
   "source": [
    "optimLogit2 = scipy.optimize.fmin_bfgs(logLikelihoodLogitVerbose, x0 = vBeta, fprime = likelihoodScore, args = (g, e), gtol = 1e-3)"
   ]
  },
  {
   "cell_type": "code",
   "execution_count": 19,
   "metadata": {
    "collapsed": false
   },
   "outputs": [
    {
     "data": {
      "text/plain": [
       "array([ -1.98314002e+00,   6.99299926e-03,   4.51243143e-03,\n",
       "         3.47479161e-04,  -3.30699330e-02,  -1.31112290e-02,\n",
       "        -9.07980634e-03,   4.32768908e-03,   5.15298043e-02,\n",
       "         1.49497331e-02,   1.21935400e-02,  -3.15637468e-03,\n",
       "         3.59416750e-03,   1.65979582e-03,   1.53012206e-04,\n",
       "         4.23161809e-03,  -3.55467217e-03,   1.28982748e-02,\n",
       "         1.80667489e-03,  -1.26059371e-03,   1.02337669e-03,\n",
       "         4.41668379e-03])"
      ]
     },
     "execution_count": 19,
     "metadata": {},
     "output_type": "execute_result"
    }
   ],
   "source": [
    "optimLogit2"
   ]
  },
  {
   "cell_type": "code",
   "execution_count": 22,
   "metadata": {
    "collapsed": false
   },
   "outputs": [
    {
     "data": {
      "text/plain": [
       "LogisticRegression(C=1000, class_weight=None, dual=False, fit_intercept=False,\n",
       "          intercept_scaling=1, max_iter=100, multi_class='ovr', n_jobs=1,\n",
       "          penalty='l2', random_state=None, solver='liblinear', tol=0.0001,\n",
       "          verbose=0, warm_start=False)"
      ]
     },
     "execution_count": 22,
     "metadata": {},
     "output_type": "execute_result"
    }
   ],
   "source": [
    "l = sklearn.linear_model.LogisticRegression(penalty='l2', C = 1000, tol=.0001, fit_intercept=False)\n",
    "l.fit(g, e)"
   ]
  },
  {
   "cell_type": "code",
   "execution_count": 23,
   "metadata": {
    "collapsed": false
   },
   "outputs": [
    {
     "data": {
      "text/plain": [
       "array([[ -1.98316831e+00,   6.99432345e-03,   4.51613356e-03,\n",
       "          3.46184547e-04,  -3.30760905e-02,  -1.31107447e-02,\n",
       "         -9.08353036e-03,   4.32865791e-03,   5.15343319e-02,\n",
       "          1.49490909e-02,   1.22050212e-02,  -3.15271138e-03,\n",
       "          3.57927622e-03,   1.67033138e-03,   1.45697545e-04,\n",
       "          4.24224710e-03,  -3.56664032e-03,   1.28971170e-02,\n",
       "          1.80343684e-03,  -1.26125757e-03,   1.02405507e-03,\n",
       "          4.41623951e-03]])"
      ]
     },
     "execution_count": 23,
     "metadata": {},
     "output_type": "execute_result"
    }
   ],
   "source": [
    "l.coef_"
   ]
  },
  {
   "cell_type": "code",
   "execution_count": null,
   "metadata": {
    "collapsed": false
   },
   "outputs": [],
   "source": []
  },
  {
   "cell_type": "code",
   "execution_count": null,
   "metadata": {
    "collapsed": true
   },
   "outputs": [],
   "source": []
  },
  {
   "cell_type": "code",
   "execution_count": null,
   "metadata": {
    "collapsed": true
   },
   "outputs": [],
   "source": []
  },
  {
   "cell_type": "code",
   "execution_count": null,
   "metadata": {
    "collapsed": true
   },
   "outputs": [],
   "source": []
  }
 ],
 "metadata": {
  "kernelspec": {
   "display_name": "Python 2",
   "language": "python",
   "name": "python2"
  },
  "language_info": {
   "codemirror_mode": {
    "name": "ipython",
    "version": 2
   },
   "file_extension": ".py",
   "mimetype": "text/x-python",
   "name": "python",
   "nbconvert_exporter": "python",
   "pygments_lexer": "ipython2",
   "version": "2.7.11"
  }
 },
 "nbformat": 4,
 "nbformat_minor": 0
}
