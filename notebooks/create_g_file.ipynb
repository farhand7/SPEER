{
 "cells": [
  {
   "cell_type": "code",
   "execution_count": 1,
   "metadata": {
    "collapsed": false
   },
   "outputs": [
    {
     "name": "stderr",
     "output_type": "stream",
     "text": [
      "/Users/farhan_damani/anaconda/lib/python2.7/site-packages/pandas/computation/__init__.py:19: UserWarning: The installed version of numexpr 2.4.4 is not supported in pandas and will be not be used\n",
      "\n",
      "  UserWarning)\n"
     ]
    }
   ],
   "source": [
    "import numpy as np\n",
    "import pandas as pd\n",
    "import sys\n",
    "import matplotlib.pyplot as plt\n",
    "import matplotlib as mpl\n",
    "from sklearn import preprocessing\n",
    "import seaborn as sns; sns.set(style=\"white\", color_codes=True)\n",
    "import scipy"
   ]
  },
  {
   "cell_type": "code",
   "execution_count": 69,
   "metadata": {
    "collapsed": false
   },
   "outputs": [],
   "source": [
    "df = pd.read_table('../../../../../../data/train/n2pairs_v7_updated.txt', sep='\"', header=None)"
   ]
  },
  {
   "cell_type": "code",
   "execution_count": 70,
   "metadata": {
    "collapsed": false
   },
   "outputs": [
    {
     "data": {
      "text/html": [
       "<div>\n",
       "<table border=\"1\" class=\"dataframe\">\n",
       "  <thead>\n",
       "    <tr style=\"text-align: right;\">\n",
       "      <th></th>\n",
       "      <th>0</th>\n",
       "      <th>1</th>\n",
       "      <th>2</th>\n",
       "      <th>3</th>\n",
       "      <th>4</th>\n",
       "      <th>5</th>\n",
       "      <th>6</th>\n",
       "      <th>7</th>\n",
       "      <th>8</th>\n",
       "      <th>9</th>\n",
       "      <th>10</th>\n",
       "    </tr>\n",
       "  </thead>\n",
       "  <tbody>\n",
       "    <tr>\n",
       "      <th>0</th>\n",
       "      <td>156457</td>\n",
       "      <td>GTEX-13O3P</td>\n",
       "      <td></td>\n",
       "      <td>ENSG00000000419.8</td>\n",
       "      <td>&lt;sep&gt;</td>\n",
       "      <td>97511</td>\n",
       "      <td></td>\n",
       "      <td>GTEX-1313W</td>\n",
       "      <td></td>\n",
       "      <td>ENSG00000000419.8</td>\n",
       "      <td>NaN</td>\n",
       "    </tr>\n",
       "    <tr>\n",
       "      <th>1</th>\n",
       "      <td>422361</td>\n",
       "      <td>GTEX-V1D1</td>\n",
       "      <td></td>\n",
       "      <td>ENSG00000001036.9</td>\n",
       "      <td>&lt;sep&gt;</td>\n",
       "      <td>3768</td>\n",
       "      <td></td>\n",
       "      <td>GTEX-111VG</td>\n",
       "      <td></td>\n",
       "      <td>ENSG00000001084.6</td>\n",
       "      <td>NaN</td>\n",
       "    </tr>\n",
       "    <tr>\n",
       "      <th>2</th>\n",
       "      <td>237666</td>\n",
       "      <td>GTEX-14BIL</td>\n",
       "      <td></td>\n",
       "      <td>ENSG00000001167.10</td>\n",
       "      <td>&lt;sep&gt;</td>\n",
       "      <td>53659</td>\n",
       "      <td></td>\n",
       "      <td>GTEX-11XUK</td>\n",
       "      <td></td>\n",
       "      <td>ENSG00000001617.7</td>\n",
       "      <td>NaN</td>\n",
       "    </tr>\n",
       "    <tr>\n",
       "      <th>3</th>\n",
       "      <td>297280</td>\n",
       "      <td>GTEX-P4QT</td>\n",
       "      <td></td>\n",
       "      <td>ENSG00000002016.12</td>\n",
       "      <td>&lt;sep&gt;</td>\n",
       "      <td>123985</td>\n",
       "      <td></td>\n",
       "      <td>GTEX-13CZU</td>\n",
       "      <td></td>\n",
       "      <td>ENSG00000002016.12</td>\n",
       "      <td>NaN</td>\n",
       "    </tr>\n",
       "    <tr>\n",
       "      <th>4</th>\n",
       "      <td>171772</td>\n",
       "      <td>GTEX-13PL6</td>\n",
       "      <td></td>\n",
       "      <td>ENSG00000002016.12</td>\n",
       "      <td>&lt;sep&gt;</td>\n",
       "      <td>314528</td>\n",
       "      <td></td>\n",
       "      <td>GTEX-PWO3</td>\n",
       "      <td></td>\n",
       "      <td>ENSG00000002330.9</td>\n",
       "      <td>NaN</td>\n",
       "    </tr>\n",
       "  </tbody>\n",
       "</table>\n",
       "</div>"
      ],
      "text/plain": [
       "       0           1  2                   3      4       5  6           7  8   \\\n",
       "0  156457  GTEX-13O3P      ENSG00000000419.8  <sep>   97511     GTEX-1313W      \n",
       "1  422361   GTEX-V1D1      ENSG00000001036.9  <sep>    3768     GTEX-111VG      \n",
       "2  237666  GTEX-14BIL     ENSG00000001167.10  <sep>   53659     GTEX-11XUK      \n",
       "3  297280   GTEX-P4QT     ENSG00000002016.12  <sep>  123985     GTEX-13CZU      \n",
       "4  171772  GTEX-13PL6     ENSG00000002016.12  <sep>  314528      GTEX-PWO3      \n",
       "\n",
       "                   9   10  \n",
       "0   ENSG00000000419.8 NaN  \n",
       "1   ENSG00000001084.6 NaN  \n",
       "2   ENSG00000001617.7 NaN  \n",
       "3  ENSG00000002016.12 NaN  \n",
       "4   ENSG00000002330.9 NaN  "
      ]
     },
     "execution_count": 70,
     "metadata": {},
     "output_type": "execute_result"
    }
   ],
   "source": [
    "df.head()"
   ]
  },
  {
   "cell_type": "code",
   "execution_count": 71,
   "metadata": {
    "collapsed": false
   },
   "outputs": [
    {
     "data": {
      "text/plain": [
       "Int64Index([0, 1, 2, 3, 4, 5, 6, 7, 8, 9, 10], dtype='int64')"
      ]
     },
     "execution_count": 71,
     "metadata": {},
     "output_type": "execute_result"
    }
   ],
   "source": [
    "df.columns"
   ]
  },
  {
   "cell_type": "code",
   "execution_count": 72,
   "metadata": {
    "collapsed": false
   },
   "outputs": [],
   "source": [
    "del df[0], df[2], df[4], df[5], df[6], df[8], df[10]"
   ]
  },
  {
   "cell_type": "code",
   "execution_count": 77,
   "metadata": {
    "collapsed": false
   },
   "outputs": [
    {
     "data": {
      "text/html": [
       "<div>\n",
       "<table border=\"1\" class=\"dataframe\">\n",
       "  <thead>\n",
       "    <tr style=\"text-align: right;\">\n",
       "      <th></th>\n",
       "      <th>1</th>\n",
       "      <th>3</th>\n",
       "      <th>7</th>\n",
       "      <th>9</th>\n",
       "    </tr>\n",
       "  </thead>\n",
       "  <tbody>\n",
       "    <tr>\n",
       "      <th>0</th>\n",
       "      <td>GTEX-13O3P</td>\n",
       "      <td>ENSG00000000419.8</td>\n",
       "      <td>GTEX-1313W</td>\n",
       "      <td>ENSG00000000419.8</td>\n",
       "    </tr>\n",
       "    <tr>\n",
       "      <th>1</th>\n",
       "      <td>GTEX-V1D1</td>\n",
       "      <td>ENSG00000001036.9</td>\n",
       "      <td>GTEX-111VG</td>\n",
       "      <td>ENSG00000001084.6</td>\n",
       "    </tr>\n",
       "    <tr>\n",
       "      <th>2</th>\n",
       "      <td>GTEX-14BIL</td>\n",
       "      <td>ENSG00000001167.10</td>\n",
       "      <td>GTEX-11XUK</td>\n",
       "      <td>ENSG00000001617.7</td>\n",
       "    </tr>\n",
       "    <tr>\n",
       "      <th>3</th>\n",
       "      <td>GTEX-P4QT</td>\n",
       "      <td>ENSG00000002016.12</td>\n",
       "      <td>GTEX-13CZU</td>\n",
       "      <td>ENSG00000002016.12</td>\n",
       "    </tr>\n",
       "    <tr>\n",
       "      <th>4</th>\n",
       "      <td>GTEX-13PL6</td>\n",
       "      <td>ENSG00000002016.12</td>\n",
       "      <td>GTEX-PWO3</td>\n",
       "      <td>ENSG00000002330.9</td>\n",
       "    </tr>\n",
       "  </tbody>\n",
       "</table>\n",
       "</div>"
      ],
      "text/plain": [
       "            1                   3           7                   9\n",
       "0  GTEX-13O3P   ENSG00000000419.8  GTEX-1313W   ENSG00000000419.8\n",
       "1   GTEX-V1D1   ENSG00000001036.9  GTEX-111VG   ENSG00000001084.6\n",
       "2  GTEX-14BIL  ENSG00000001167.10  GTEX-11XUK   ENSG00000001617.7\n",
       "3   GTEX-P4QT  ENSG00000002016.12  GTEX-13CZU  ENSG00000002016.12\n",
       "4  GTEX-13PL6  ENSG00000002016.12   GTEX-PWO3   ENSG00000002330.9"
      ]
     },
     "execution_count": 77,
     "metadata": {},
     "output_type": "execute_result"
    }
   ],
   "source": [
    "del df[9]"
   ]
  },
  {
   "cell_type": "code",
   "execution_count": 76,
   "metadata": {
    "collapsed": false
   },
   "outputs": [],
   "source": [
    "df.to_csv('../../../../../../data/train/n2pairs_v7.txt',header=False, index=False)"
   ]
  },
  {
   "cell_type": "code",
   "execution_count": 74,
   "metadata": {
    "collapsed": false
   },
   "outputs": [
    {
     "data": {
      "text/plain": [
       "array([['GTEX-13O3P', 'ENSG00000000419.8', 'GTEX-1313W',\n",
       "        'ENSG00000000419.8'],\n",
       "       ['GTEX-V1D1', 'ENSG00000001036.9', 'GTEX-111VG', 'ENSG00000001084.6'],\n",
       "       ['GTEX-14BIL', 'ENSG00000001167.10', 'GTEX-11XUK',\n",
       "        'ENSG00000001617.7'],\n",
       "       ..., \n",
       "       ['GTEX-ZUA1', 'ENSG00000273487.1', 'GTEX-XGQ4', 'ENSG00000273487.1'],\n",
       "       ['GTEX-X261', 'ENSG00000273489.1', 'GTEX-O5YT', 'ENSG00000273489.1'],\n",
       "       ['GTEX-14E6C', 'ENSG00000273492.1', 'GTEX-14ICL',\n",
       "        'ENSG00000273493.1']], dtype=object)"
      ]
     },
     "execution_count": 74,
     "metadata": {},
     "output_type": "execute_result"
    }
   ],
   "source": [
    "df.values"
   ]
  },
  {
   "cell_type": "code",
   "execution_count": null,
   "metadata": {
    "collapsed": true
   },
   "outputs": [],
   "source": []
  }
 ],
 "metadata": {
  "kernelspec": {
   "display_name": "Python 2",
   "language": "python",
   "name": "python2"
  },
  "language_info": {
   "codemirror_mode": {
    "name": "ipython",
    "version": 2
   },
   "file_extension": ".py",
   "mimetype": "text/x-python",
   "name": "python",
   "nbconvert_exporter": "python",
   "pygments_lexer": "ipython2",
   "version": "2.7.11"
  }
 },
 "nbformat": 4,
 "nbformat_minor": 0
}
