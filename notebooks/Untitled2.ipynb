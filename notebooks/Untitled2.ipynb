{
 "cells": [
  {
   "cell_type": "code",
   "execution_count": 1,
   "metadata": {
    "collapsed": true
   },
   "outputs": [],
   "source": [
    "import pandas as pd\n",
    "import logistic_regression as lr\n",
    "import numpy as np\n",
    "import sklearn\n",
    "from sklearn import preprocessing\n",
    "from sklearn import linear_model"
   ]
  },
  {
   "cell_type": "code",
   "execution_count": 2,
   "metadata": {
    "collapsed": true
   },
   "outputs": [],
   "source": [
    "e = pd.read_csv(\"./expression.short.csv\", index_col=(0,1))\n",
    "g = pd.read_csv(\"./g_train.csv\", index_col=(0,1))"
   ]
  },
  {
   "cell_type": "code",
   "execution_count": 76,
   "metadata": {
    "collapsed": true
   },
   "outputs": [],
   "source": [
    "g_tissuespec = pd.read_csv(\"../../../../../data/annotations/annotation_train/tissue_spec_annotations_train_max.csv\",index_col=(0,1))"
   ]
  },
  {
   "cell_type": "code",
   "execution_count": 77,
   "metadata": {
    "collapsed": false
   },
   "outputs": [
    {
     "data": {
      "text/html": [
       "<div>\n",
       "<table border=\"1\" class=\"dataframe\">\n",
       "  <thead>\n",
       "    <tr style=\"text-align: right;\">\n",
       "      <th></th>\n",
       "      <th></th>\n",
       "      <th>E027_general_promoter</th>\n",
       "      <th>E027_general_enhancer</th>\n",
       "      <th>E027_TssA</th>\n",
       "      <th>E027_TssAFlnk</th>\n",
       "      <th>E027_EnhG</th>\n",
       "      <th>E027_Enh</th>\n",
       "      <th>E027_TssBiv</th>\n",
       "      <th>E027_BivFlnk</th>\n",
       "      <th>E027_EnhBiv</th>\n",
       "      <th>E062_general_promoter</th>\n",
       "      <th>...</th>\n",
       "      <th>E113_EnhBiv</th>\n",
       "      <th>E116_general_promoter</th>\n",
       "      <th>E116_general_enhancer</th>\n",
       "      <th>E116_TssA</th>\n",
       "      <th>E116_TssAFlnk</th>\n",
       "      <th>E116_EnhG</th>\n",
       "      <th>E116_Enh</th>\n",
       "      <th>E116_TssBiv</th>\n",
       "      <th>E116_BivFlnk</th>\n",
       "      <th>E116_EnhBiv</th>\n",
       "    </tr>\n",
       "    <tr>\n",
       "      <th>subject_id</th>\n",
       "      <th>gene_id</th>\n",
       "      <th></th>\n",
       "      <th></th>\n",
       "      <th></th>\n",
       "      <th></th>\n",
       "      <th></th>\n",
       "      <th></th>\n",
       "      <th></th>\n",
       "      <th></th>\n",
       "      <th></th>\n",
       "      <th></th>\n",
       "      <th></th>\n",
       "      <th></th>\n",
       "      <th></th>\n",
       "      <th></th>\n",
       "      <th></th>\n",
       "      <th></th>\n",
       "      <th></th>\n",
       "      <th></th>\n",
       "      <th></th>\n",
       "      <th></th>\n",
       "      <th></th>\n",
       "    </tr>\n",
       "  </thead>\n",
       "  <tbody>\n",
       "    <tr>\n",
       "      <th rowspan=\"5\" valign=\"top\">GTEX-N7MS</th>\n",
       "      <th>ENSG00000001561.6</th>\n",
       "      <td>0</td>\n",
       "      <td>0</td>\n",
       "      <td>0</td>\n",
       "      <td>0</td>\n",
       "      <td>0</td>\n",
       "      <td>0</td>\n",
       "      <td>0</td>\n",
       "      <td>0</td>\n",
       "      <td>0</td>\n",
       "      <td>0</td>\n",
       "      <td>...</td>\n",
       "      <td>0</td>\n",
       "      <td>0</td>\n",
       "      <td>0</td>\n",
       "      <td>0</td>\n",
       "      <td>0</td>\n",
       "      <td>0</td>\n",
       "      <td>0</td>\n",
       "      <td>0</td>\n",
       "      <td>0</td>\n",
       "      <td>0</td>\n",
       "    </tr>\n",
       "    <tr>\n",
       "      <th>ENSG00000003056.3</th>\n",
       "      <td>0</td>\n",
       "      <td>0</td>\n",
       "      <td>0</td>\n",
       "      <td>0</td>\n",
       "      <td>0</td>\n",
       "      <td>0</td>\n",
       "      <td>0</td>\n",
       "      <td>0</td>\n",
       "      <td>0</td>\n",
       "      <td>0</td>\n",
       "      <td>...</td>\n",
       "      <td>0</td>\n",
       "      <td>0</td>\n",
       "      <td>0</td>\n",
       "      <td>0</td>\n",
       "      <td>0</td>\n",
       "      <td>0</td>\n",
       "      <td>0</td>\n",
       "      <td>0</td>\n",
       "      <td>0</td>\n",
       "      <td>0</td>\n",
       "    </tr>\n",
       "    <tr>\n",
       "      <th>ENSG00000003402.15</th>\n",
       "      <td>1</td>\n",
       "      <td>0</td>\n",
       "      <td>1</td>\n",
       "      <td>0</td>\n",
       "      <td>0</td>\n",
       "      <td>0</td>\n",
       "      <td>0</td>\n",
       "      <td>0</td>\n",
       "      <td>0</td>\n",
       "      <td>1</td>\n",
       "      <td>...</td>\n",
       "      <td>0</td>\n",
       "      <td>1</td>\n",
       "      <td>0</td>\n",
       "      <td>1</td>\n",
       "      <td>0</td>\n",
       "      <td>0</td>\n",
       "      <td>0</td>\n",
       "      <td>0</td>\n",
       "      <td>0</td>\n",
       "      <td>0</td>\n",
       "    </tr>\n",
       "    <tr>\n",
       "      <th>ENSG00000004534.10</th>\n",
       "      <td>0</td>\n",
       "      <td>1</td>\n",
       "      <td>0</td>\n",
       "      <td>0</td>\n",
       "      <td>0</td>\n",
       "      <td>1</td>\n",
       "      <td>0</td>\n",
       "      <td>0</td>\n",
       "      <td>0</td>\n",
       "      <td>0</td>\n",
       "      <td>...</td>\n",
       "      <td>0</td>\n",
       "      <td>1</td>\n",
       "      <td>0</td>\n",
       "      <td>1</td>\n",
       "      <td>1</td>\n",
       "      <td>0</td>\n",
       "      <td>0</td>\n",
       "      <td>0</td>\n",
       "      <td>0</td>\n",
       "      <td>0</td>\n",
       "    </tr>\n",
       "    <tr>\n",
       "      <th>ENSG00000004660.10</th>\n",
       "      <td>0</td>\n",
       "      <td>0</td>\n",
       "      <td>0</td>\n",
       "      <td>0</td>\n",
       "      <td>0</td>\n",
       "      <td>0</td>\n",
       "      <td>0</td>\n",
       "      <td>0</td>\n",
       "      <td>0</td>\n",
       "      <td>0</td>\n",
       "      <td>...</td>\n",
       "      <td>0</td>\n",
       "      <td>0</td>\n",
       "      <td>1</td>\n",
       "      <td>0</td>\n",
       "      <td>0</td>\n",
       "      <td>0</td>\n",
       "      <td>1</td>\n",
       "      <td>0</td>\n",
       "      <td>0</td>\n",
       "      <td>0</td>\n",
       "    </tr>\n",
       "  </tbody>\n",
       "</table>\n",
       "<p>5 rows × 243 columns</p>\n",
       "</div>"
      ],
      "text/plain": [
       "                               E027_general_promoter  E027_general_enhancer  \\\n",
       "subject_id gene_id                                                            \n",
       "GTEX-N7MS  ENSG00000001561.6                       0                      0   \n",
       "           ENSG00000003056.3                       0                      0   \n",
       "           ENSG00000003402.15                      1                      0   \n",
       "           ENSG00000004534.10                      0                      1   \n",
       "           ENSG00000004660.10                      0                      0   \n",
       "\n",
       "                               E027_TssA  E027_TssAFlnk  E027_EnhG  E027_Enh  \\\n",
       "subject_id gene_id                                                             \n",
       "GTEX-N7MS  ENSG00000001561.6           0              0          0         0   \n",
       "           ENSG00000003056.3           0              0          0         0   \n",
       "           ENSG00000003402.15          1              0          0         0   \n",
       "           ENSG00000004534.10          0              0          0         1   \n",
       "           ENSG00000004660.10          0              0          0         0   \n",
       "\n",
       "                               E027_TssBiv  E027_BivFlnk  E027_EnhBiv  \\\n",
       "subject_id gene_id                                                      \n",
       "GTEX-N7MS  ENSG00000001561.6             0             0            0   \n",
       "           ENSG00000003056.3             0             0            0   \n",
       "           ENSG00000003402.15            0             0            0   \n",
       "           ENSG00000004534.10            0             0            0   \n",
       "           ENSG00000004660.10            0             0            0   \n",
       "\n",
       "                               E062_general_promoter     ...       \\\n",
       "subject_id gene_id                                       ...        \n",
       "GTEX-N7MS  ENSG00000001561.6                       0     ...        \n",
       "           ENSG00000003056.3                       0     ...        \n",
       "           ENSG00000003402.15                      1     ...        \n",
       "           ENSG00000004534.10                      0     ...        \n",
       "           ENSG00000004660.10                      0     ...        \n",
       "\n",
       "                               E113_EnhBiv  E116_general_promoter  \\\n",
       "subject_id gene_id                                                  \n",
       "GTEX-N7MS  ENSG00000001561.6             0                      0   \n",
       "           ENSG00000003056.3             0                      0   \n",
       "           ENSG00000003402.15            0                      1   \n",
       "           ENSG00000004534.10            0                      1   \n",
       "           ENSG00000004660.10            0                      0   \n",
       "\n",
       "                               E116_general_enhancer  E116_TssA  \\\n",
       "subject_id gene_id                                                \n",
       "GTEX-N7MS  ENSG00000001561.6                       0          0   \n",
       "           ENSG00000003056.3                       0          0   \n",
       "           ENSG00000003402.15                      0          1   \n",
       "           ENSG00000004534.10                      0          1   \n",
       "           ENSG00000004660.10                      1          0   \n",
       "\n",
       "                               E116_TssAFlnk  E116_EnhG  E116_Enh  \\\n",
       "subject_id gene_id                                                  \n",
       "GTEX-N7MS  ENSG00000001561.6               0          0         0   \n",
       "           ENSG00000003056.3               0          0         0   \n",
       "           ENSG00000003402.15              0          0         0   \n",
       "           ENSG00000004534.10              1          0         0   \n",
       "           ENSG00000004660.10              0          0         1   \n",
       "\n",
       "                               E116_TssBiv  E116_BivFlnk  E116_EnhBiv  \n",
       "subject_id gene_id                                                     \n",
       "GTEX-N7MS  ENSG00000001561.6             0             0            0  \n",
       "           ENSG00000003056.3             0             0            0  \n",
       "           ENSG00000003402.15            0             0            0  \n",
       "           ENSG00000004534.10            0             0            0  \n",
       "           ENSG00000004660.10            0             0            0  \n",
       "\n",
       "[5 rows x 243 columns]"
      ]
     },
     "execution_count": 77,
     "metadata": {},
     "output_type": "execute_result"
    }
   ],
   "source": [
    "g_tissuespec.head()"
   ]
  },
  {
   "cell_type": "code",
   "execution_count": 148,
   "metadata": {
    "collapsed": true
   },
   "outputs": [],
   "source": [
    "train = pd.concat([g, g_tissuespec], axis=1)"
   ]
  },
  {
   "cell_type": "code",
   "execution_count": 150,
   "metadata": {
    "collapsed": false
   },
   "outputs": [],
   "source": [
    "train.to_csv(\"../tissue_spec_tl/g_train_all.csv\")"
   ]
  },
  {
   "cell_type": "code",
   "execution_count": 89,
   "metadata": {
    "collapsed": false
   },
   "outputs": [],
   "source": [
    "annotation_cols = list(g.columns)\n",
    "annotation_cols.extend(list(g_tissuespec.columns))"
   ]
  },
  {
   "cell_type": "code",
   "execution_count": 81,
   "metadata": {
    "collapsed": false
   },
   "outputs": [
    {
     "data": {
      "text/plain": [
       "['max_GC_10kb',\n",
       " 'max_CpG_10kb',\n",
       " 'max_priPhCons_10kb',\n",
       " 'max_mamPhCons_10kb',\n",
       " 'max_verPhCons_10kb',\n",
       " 'max_priPhyloP_10kb',\n",
       " 'max_mamPhyloP_10kb',\n",
       " 'max_verPhyloP_10kb',\n",
       " 'max_GerpN_10kb',\n",
       " 'max_GerpS_10kb',\n",
       " 'max_dnaHelT_10kb',\n",
       " 'max_dnaMGW_10kb',\n",
       " 'max_dnaProT_10kb',\n",
       " 'max_dnaRoll_10kb',\n",
       " 'max_fitCons_10kb',\n",
       " 'max_cHmmTssA_10kb',\n",
       " 'max_cHmmTssAFlnk_10kb',\n",
       " 'max_cHmmTxFlnk_10kb',\n",
       " 'max_cHmmTx_10kb',\n",
       " 'max_cHmmTxWk_10kb',\n",
       " 'max_cHmmEnhG_10kb',\n",
       " 'max_cHmmEnh_10kb',\n",
       " 'max_cHmmZnfRpts_10kb',\n",
       " 'max_cHmmHet_10kb',\n",
       " 'max_cHmmTssBiv_10kb',\n",
       " 'max_cHmmBivFlnk_10kb',\n",
       " 'max_cHmmEnhBiv_10kb',\n",
       " 'max_cHmmReprPC_10kb',\n",
       " 'max_cHmmReprPCWk_10kb',\n",
       " 'max_cHmmQuies_10kb',\n",
       " 'max_EncH3K27Ac_10kb',\n",
       " 'max_EncH3K4Me1_10kb',\n",
       " 'max_EncH3K4Me3_10kb',\n",
       " 'max_EncNucleo_10kb',\n",
       " 'max_EncOCCombPVal_10kb',\n",
       " 'max_EncOCDNasePVal_10kb',\n",
       " 'max_EncOCFairePVal_10kb',\n",
       " 'max_EncOCpolIIPVal_10kb',\n",
       " 'max_EncOCctcfPVal_10kb',\n",
       " 'max_EncOCmycPVal_10kb',\n",
       " 'max_EncOCDNaseSig_10kb',\n",
       " 'max_EncOCFaireSig_10kb',\n",
       " 'max_EncOCpolIISig_10kb',\n",
       " 'max_EncOCctcfSig_10kb',\n",
       " 'max_EncOCmycSig_10kb',\n",
       " 'max_TFBS_10kb',\n",
       " 'max_TFBSPeaks_10kb',\n",
       " 'max_TFBSPeaksMax_10kb',\n",
       " 'max_PHRED_10kb',\n",
       " 'min_DistTSS_10kb',\n",
       " 'nvar_seg:CTCF_10kb',\n",
       " 'ratio_seg:CTCF_10kb',\n",
       " 'nvar_seg:Dead_10kb',\n",
       " 'ratio_seg:Dead_10kb',\n",
       " 'nvar_seg:Enh_10kb',\n",
       " 'ratio_seg:Enh_10kb',\n",
       " 'nvar_seg:FAIRE_10kb',\n",
       " 'ratio_seg:FAIRE_10kb',\n",
       " 'nvar_seg:GeneEnd_10kb',\n",
       " 'ratio_seg:GeneEnd_10kb',\n",
       " 'nvar_seg:GeneMid_10kb',\n",
       " 'ratio_seg:GeneMid_10kb',\n",
       " 'nvar_seg:GeneStr_10kb',\n",
       " 'ratio_seg:GeneStr_10kb',\n",
       " 'nvar_seg:H3K9me1_10kb',\n",
       " 'ratio_seg:H3K9me1_10kb',\n",
       " 'nvar_seg:Low_10kb',\n",
       " 'ratio_seg:Low_10kb',\n",
       " 'nvar_seg:Reprd_10kb',\n",
       " 'ratio_seg:Reprd_10kb',\n",
       " 'nvar_seg:TF_10kb',\n",
       " 'ratio_seg:TF_10kb',\n",
       " 'nvar_seg:TSS_10kb',\n",
       " 'ratio_seg:TSS_10kb',\n",
       " 'nvar_HMM:ActProm_10kb',\n",
       " 'ratio_HMM:ActProm_10kb',\n",
       " 'nvar_HMM:WeakProm_10kb',\n",
       " 'ratio_HMM:WeakProm_10kb',\n",
       " 'nvar_HMM:PoisedProm_10kb',\n",
       " 'ratio_HMM:PoisedProm_10kb',\n",
       " 'nvar_HMM:StrongEnh_10kb',\n",
       " 'ratio_HMM:StrongEnh_10kb',\n",
       " 'nvar_HMM:WeakEnh_10kb',\n",
       " 'ratio_HMM:WeakEnh_10kb',\n",
       " 'nvar_HMM:Insulator_10kb',\n",
       " 'ratio_HMM:Insulator_10kb',\n",
       " 'nvar_HMM:Txn_10kb',\n",
       " 'ratio_HMM:Txn_10kb',\n",
       " 'nvar_HMM:WeakTxn_10kb',\n",
       " 'ratio_HMM:WeakTxn_10kb',\n",
       " 'nvar_HMM:Reprd_10kb',\n",
       " 'ratio_HMM:Reprd_10kb',\n",
       " 'nvar_HMM:Low_10kb',\n",
       " 'ratio_HMM:Low_10kb',\n",
       " 'max_DANN_10kb',\n",
       " 'nvar_so:Intergenic_10kb',\n",
       " 'ratio_so:Intergenic_10kb',\n",
       " 'nvar_so:Regulatory_10kb',\n",
       " 'ratio_so:Regulatory_10kb',\n",
       " 'nvar_so:Upstream_10kb',\n",
       " 'ratio_so:Upstream_10kb',\n",
       " 'nvar_so:Downstream_10kb',\n",
       " 'ratio_so:Downstream_10kb',\n",
       " 'nvar_so:Intron_10kb',\n",
       " 'ratio_so:Intron_10kb',\n",
       " 'nvar_so:UTR_10kb',\n",
       " 'ratio_so:UTR_10kb',\n",
       " 'nvar_so:TranscriptModifier_10kb',\n",
       " 'ratio_so:TranscriptModifier_10kb',\n",
       " 'nvar_so:Synonymous_10kb',\n",
       " 'ratio_so:Synonymous_10kb',\n",
       " 'nvar_so:Nonsynonymous_10kb',\n",
       " 'ratio_so:Nonsynonymous_10kb',\n",
       " 'nvar_so:mRNAChange_10kb',\n",
       " 'ratio_so:mRNAChange_10kb',\n",
       " 'nvar_so:SpliceVariant_10kb',\n",
       " 'ratio_so:SpliceVariant_10kb',\n",
       " 'nvar_so:StopChange_10kb',\n",
       " 'ratio_so:StopChange_10kb',\n",
       " 'nvar_all_10kb',\n",
       " 'E027_general_promoter',\n",
       " 'E027_general_enhancer',\n",
       " 'E027_TssA',\n",
       " 'E027_TssAFlnk',\n",
       " 'E027_EnhG',\n",
       " 'E027_Enh',\n",
       " 'E027_TssBiv',\n",
       " 'E027_BivFlnk',\n",
       " 'E027_EnhBiv',\n",
       " 'E062_general_promoter',\n",
       " 'E062_general_enhancer',\n",
       " 'E062_TssA',\n",
       " 'E062_TssAFlnk',\n",
       " 'E062_EnhG',\n",
       " 'E062_Enh',\n",
       " 'E062_TssBiv',\n",
       " 'E062_BivFlnk',\n",
       " 'E062_EnhBiv',\n",
       " 'E063_general_promoter',\n",
       " 'E063_general_enhancer',\n",
       " 'E063_TssA',\n",
       " 'E063_TssAFlnk',\n",
       " 'E063_EnhG',\n",
       " 'E063_Enh',\n",
       " 'E063_TssBiv',\n",
       " 'E063_BivFlnk',\n",
       " 'E063_EnhBiv',\n",
       " 'E065_general_promoter',\n",
       " 'E065_general_enhancer',\n",
       " 'E065_TssA',\n",
       " 'E065_TssAFlnk',\n",
       " 'E065_EnhG',\n",
       " 'E065_Enh',\n",
       " 'E065_TssBiv',\n",
       " 'E065_BivFlnk',\n",
       " 'E065_EnhBiv',\n",
       " 'E066_general_promoter',\n",
       " 'E066_general_enhancer',\n",
       " 'E066_TssA',\n",
       " 'E066_TssAFlnk',\n",
       " 'E066_EnhG',\n",
       " 'E066_Enh',\n",
       " 'E066_TssBiv',\n",
       " 'E066_BivFlnk',\n",
       " 'E066_EnhBiv',\n",
       " 'E067_general_promoter',\n",
       " 'E067_general_enhancer',\n",
       " 'E067_TssA',\n",
       " 'E067_TssAFlnk',\n",
       " 'E067_EnhG',\n",
       " 'E067_Enh',\n",
       " 'E067_TssBiv',\n",
       " 'E067_BivFlnk',\n",
       " 'E067_EnhBiv',\n",
       " 'E068_general_promoter',\n",
       " 'E068_general_enhancer',\n",
       " 'E068_TssA',\n",
       " 'E068_TssAFlnk',\n",
       " 'E068_EnhG',\n",
       " 'E068_Enh',\n",
       " 'E068_TssBiv',\n",
       " 'E068_BivFlnk',\n",
       " 'E068_EnhBiv',\n",
       " 'E069_general_promoter',\n",
       " 'E069_general_enhancer',\n",
       " 'E069_TssA',\n",
       " 'E069_TssAFlnk',\n",
       " 'E069_EnhG',\n",
       " 'E069_Enh',\n",
       " 'E069_TssBiv',\n",
       " 'E069_BivFlnk',\n",
       " 'E069_EnhBiv',\n",
       " 'E071_general_promoter',\n",
       " 'E071_general_enhancer',\n",
       " 'E071_TssA',\n",
       " 'E071_TssAFlnk',\n",
       " 'E071_EnhG',\n",
       " 'E071_Enh',\n",
       " 'E071_TssBiv',\n",
       " 'E071_BivFlnk',\n",
       " 'E071_EnhBiv',\n",
       " 'E072_general_promoter',\n",
       " 'E072_general_enhancer',\n",
       " 'E072_TssA',\n",
       " 'E072_TssAFlnk',\n",
       " 'E072_EnhG',\n",
       " 'E072_Enh',\n",
       " 'E072_TssBiv',\n",
       " 'E072_BivFlnk',\n",
       " 'E072_EnhBiv',\n",
       " 'E073_general_promoter',\n",
       " 'E073_general_enhancer',\n",
       " 'E073_TssA',\n",
       " 'E073_TssAFlnk',\n",
       " 'E073_EnhG',\n",
       " 'E073_Enh',\n",
       " 'E073_TssBiv',\n",
       " 'E073_BivFlnk',\n",
       " 'E073_EnhBiv',\n",
       " 'E075_general_promoter',\n",
       " 'E075_general_enhancer',\n",
       " 'E075_TssA',\n",
       " 'E075_TssAFlnk',\n",
       " 'E075_EnhG',\n",
       " 'E075_Enh',\n",
       " 'E075_TssBiv',\n",
       " 'E075_BivFlnk',\n",
       " 'E075_EnhBiv',\n",
       " 'E076_general_promoter',\n",
       " 'E076_general_enhancer',\n",
       " 'E076_TssA',\n",
       " 'E076_TssAFlnk',\n",
       " 'E076_EnhG',\n",
       " 'E076_Enh',\n",
       " 'E076_TssBiv',\n",
       " 'E076_BivFlnk',\n",
       " 'E076_EnhBiv',\n",
       " 'E079_general_promoter',\n",
       " 'E079_general_enhancer',\n",
       " 'E079_TssA',\n",
       " 'E079_TssAFlnk',\n",
       " 'E079_EnhG',\n",
       " 'E079_Enh',\n",
       " 'E079_TssBiv',\n",
       " 'E079_BivFlnk',\n",
       " 'E079_EnhBiv',\n",
       " 'E095_general_promoter',\n",
       " 'E095_general_enhancer',\n",
       " 'E095_TssA',\n",
       " 'E095_TssAFlnk',\n",
       " 'E095_EnhG',\n",
       " 'E095_Enh',\n",
       " 'E095_TssBiv',\n",
       " 'E095_BivFlnk',\n",
       " 'E095_EnhBiv',\n",
       " 'E096_general_promoter',\n",
       " 'E096_general_enhancer',\n",
       " 'E096_TssA',\n",
       " 'E096_TssAFlnk',\n",
       " 'E096_EnhG',\n",
       " 'E096_Enh',\n",
       " 'E096_TssBiv',\n",
       " 'E096_BivFlnk',\n",
       " 'E096_EnhBiv',\n",
       " 'E097_general_promoter',\n",
       " 'E097_general_enhancer',\n",
       " 'E097_TssA',\n",
       " 'E097_TssAFlnk',\n",
       " 'E097_EnhG',\n",
       " 'E097_Enh',\n",
       " 'E097_TssBiv',\n",
       " 'E097_BivFlnk',\n",
       " 'E097_EnhBiv',\n",
       " 'E098_general_promoter',\n",
       " 'E098_general_enhancer',\n",
       " 'E098_TssA',\n",
       " 'E098_TssAFlnk',\n",
       " 'E098_EnhG',\n",
       " 'E098_Enh',\n",
       " 'E098_TssBiv',\n",
       " 'E098_BivFlnk',\n",
       " 'E098_EnhBiv',\n",
       " 'E104_general_promoter',\n",
       " 'E104_general_enhancer',\n",
       " 'E104_TssA',\n",
       " 'E104_TssAFlnk',\n",
       " 'E104_EnhG',\n",
       " 'E104_Enh',\n",
       " 'E104_TssBiv',\n",
       " 'E104_BivFlnk',\n",
       " 'E104_EnhBiv',\n",
       " 'E106_general_promoter',\n",
       " 'E106_general_enhancer',\n",
       " 'E106_TssA',\n",
       " 'E106_TssAFlnk',\n",
       " 'E106_EnhG',\n",
       " 'E106_Enh',\n",
       " 'E106_TssBiv',\n",
       " 'E106_BivFlnk',\n",
       " 'E106_EnhBiv',\n",
       " 'E107_general_promoter',\n",
       " 'E107_general_enhancer',\n",
       " 'E107_TssA',\n",
       " 'E107_TssAFlnk',\n",
       " 'E107_EnhG',\n",
       " 'E107_Enh',\n",
       " 'E107_TssBiv',\n",
       " 'E107_BivFlnk',\n",
       " 'E107_EnhBiv',\n",
       " 'E108_general_promoter',\n",
       " 'E108_general_enhancer',\n",
       " 'E108_TssA',\n",
       " 'E108_TssAFlnk',\n",
       " 'E108_EnhG',\n",
       " 'E108_Enh',\n",
       " 'E108_TssBiv',\n",
       " 'E108_BivFlnk',\n",
       " 'E108_EnhBiv',\n",
       " 'E109_general_promoter',\n",
       " 'E109_general_enhancer',\n",
       " 'E109_TssA',\n",
       " 'E109_TssAFlnk',\n",
       " 'E109_EnhG',\n",
       " 'E109_Enh',\n",
       " 'E109_TssBiv',\n",
       " 'E109_BivFlnk',\n",
       " 'E109_EnhBiv',\n",
       " 'E110_general_promoter',\n",
       " 'E110_general_enhancer',\n",
       " 'E110_TssA',\n",
       " 'E110_TssAFlnk',\n",
       " 'E110_EnhG',\n",
       " 'E110_Enh',\n",
       " 'E110_TssBiv',\n",
       " 'E110_BivFlnk',\n",
       " 'E110_EnhBiv',\n",
       " 'E111_general_promoter',\n",
       " 'E111_general_enhancer',\n",
       " 'E111_TssA',\n",
       " 'E111_TssAFlnk',\n",
       " 'E111_EnhG',\n",
       " 'E111_Enh',\n",
       " 'E111_TssBiv',\n",
       " 'E111_BivFlnk',\n",
       " 'E111_EnhBiv',\n",
       " 'E113_general_promoter',\n",
       " 'E113_general_enhancer',\n",
       " 'E113_TssA',\n",
       " 'E113_TssAFlnk',\n",
       " 'E113_EnhG',\n",
       " 'E113_Enh',\n",
       " 'E113_TssBiv',\n",
       " 'E113_BivFlnk',\n",
       " 'E113_EnhBiv',\n",
       " 'E116_general_promoter',\n",
       " 'E116_general_enhancer',\n",
       " 'E116_TssA',\n",
       " 'E116_TssAFlnk',\n",
       " 'E116_EnhG',\n",
       " 'E116_Enh',\n",
       " 'E116_TssBiv',\n",
       " 'E116_BivFlnk',\n",
       " 'E116_EnhBiv']"
      ]
     },
     "execution_count": 81,
     "metadata": {},
     "output_type": "execute_result"
    }
   ],
   "source": [
    "annotation_cols"
   ]
  },
  {
   "cell_type": "code",
   "execution_count": 90,
   "metadata": {
    "collapsed": true
   },
   "outputs": [],
   "source": [
    "train[\"labels\"] = sklearn.preprocessing.binarize(np.abs(train[\"median\"]).reshape(-1,1), threshold=1.5)"
   ]
  },
  {
   "cell_type": "code",
   "execution_count": 82,
   "metadata": {
    "collapsed": false
   },
   "outputs": [],
   "source": [
    "t = ['Heart_Atrial_Appendage','Heart_Left_Ventricle', 'Muscle_Skeletal', 'Esophagus_Muscularis']\n",
    "train = train.dropna(subset=t, thresh=3)\n",
    "train[\"median_muscles\"] = np.abs(train[t]).median(axis=1)\n",
    "train[\"labels_muscles\"] = sklearn.preprocessing.binarize(np.abs(train[\"median_muscles\"]).reshape(-1,1), threshold=1.5)"
   ]
  },
  {
   "cell_type": "code",
   "execution_count": 92,
   "metadata": {
    "collapsed": true
   },
   "outputs": [],
   "source": [
    "G = train[annotation_cols]\n",
    "G.insert(0,\"intercept\",1)"
   ]
  },
  {
   "cell_type": "code",
   "execution_count": 93,
   "metadata": {
    "collapsed": true
   },
   "outputs": [],
   "source": [
    "E = train[\"labels\"]"
   ]
  },
  {
   "cell_type": "code",
   "execution_count": 94,
   "metadata": {
    "collapsed": false
   },
   "outputs": [],
   "source": [
    "fpr, tpr, auc = dict(), dict(), dict()"
   ]
  },
  {
   "cell_type": "code",
   "execution_count": 95,
   "metadata": {
    "collapsed": true
   },
   "outputs": [],
   "source": [
    "x_train, x_test, y_train, y_test = sklearn.cross_validation.train_test_split(G, E, test_size=0.33, random_state=42)"
   ]
  },
  {
   "cell_type": "code",
   "execution_count": 108,
   "metadata": {
    "collapsed": false
   },
   "outputs": [
    {
     "data": {
      "text/plain": [
       "(158674, 364)"
      ]
     },
     "execution_count": 108,
     "metadata": {},
     "output_type": "execute_result"
    }
   ],
   "source": [
    "G.shape"
   ]
  },
  {
   "cell_type": "code",
   "execution_count": null,
   "metadata": {
    "collapsed": true
   },
   "outputs": [],
   "source": []
  },
  {
   "cell_type": "code",
   "execution_count": null,
   "metadata": {
    "collapsed": true
   },
   "outputs": [],
   "source": []
  },
  {
   "cell_type": "code",
   "execution_count": 101,
   "metadata": {
    "collapsed": true
   },
   "outputs": [],
   "source": [
    "lambdas = [1e-6, 1e-5, 1e-4, 1e-3, 1e-2, 1e-1, 1e0, 1e1, 1e2, 1e3, 1e4, 1e5, 1e6]"
   ]
  },
  {
   "cell_type": "code",
   "execution_count": 109,
   "metadata": {
    "collapsed": false
   },
   "outputs": [
    {
     "data": {
      "text/plain": [
       "array([ -6.79034582e+00,   2.57497669e-01,   2.05317497e-01,\n",
       "         1.77442945e-01,   3.06439701e-01,   5.24348740e-01,\n",
       "        -7.51817153e-01,  -1.91316305e+00,   3.72557947e+00,\n",
       "        -1.55608043e-01,  -8.44419271e-02,  -5.53267049e-02,\n",
       "         1.15015703e-01,  -9.13447528e-02,   4.56873792e-02,\n",
       "         4.27876416e-02,  -2.82968763e-01,   3.85044467e-02,\n",
       "        -2.03066680e+00,   1.65371244e-01,  -4.08548877e-02,\n",
       "         5.91342755e-01,   4.65186210e-02,   6.88288074e-01,\n",
       "        -1.43724615e-01,   1.14640706e+00,  -2.66976627e+00,\n",
       "        -1.29237456e+00,   6.57865152e-02,  -1.42094767e-01,\n",
       "         1.89098211e-01,  -9.09427914e-01,  -8.25691724e-01,\n",
       "        -1.07702296e+00,   6.43161793e-01,   6.05862466e-02,\n",
       "        -1.79999682e-02,  -5.26858185e-01,   9.96315672e-02,\n",
       "        -1.01326952e-01,   2.87022003e-01,  -2.23939951e-01,\n",
       "         1.14097274e+00,  -5.78967003e-01,   3.87387039e-01,\n",
       "        -8.50465845e-01,  -7.82915692e-01,   2.05880634e+00,\n",
       "         2.77735256e-01,   1.15418003e-01,   4.10841787e-01,\n",
       "        -1.95438711e+00,   1.89110778e-01,  -3.76655339e+00,\n",
       "         8.27471364e-01,  -9.95322675e-02,  -1.99014330e-01,\n",
       "        -1.39322965e+00,   5.59879285e-01,  -2.18960020e+00,\n",
       "         4.72481250e-01,  -3.01670371e+00,   5.67049760e-01,\n",
       "        -5.75885391e-01,   6.21121745e-02,   1.37240361e+00,\n",
       "        -2.54507903e-01,  -3.70164356e+00,   3.87976292e-01,\n",
       "        -6.17267203e+00,   4.67925601e-02,   8.63679501e-01,\n",
       "        -3.83928213e-02,  -1.55040407e+00,   6.84825369e-01,\n",
       "        -2.40409883e+00,   2.36135484e-01,  -5.04823241e+00,\n",
       "         5.56070257e-01,   1.83093470e+00,   2.86842257e-01,\n",
       "        -2.33772576e+00,  -6.90183718e-03,  -9.57100828e+00,\n",
       "         1.01321122e+00,   1.15289257e+00,  -1.66129648e-01,\n",
       "        -3.56030944e+00,   7.74332231e-01,  -9.18957578e+00,\n",
       "         1.05985551e+00,  -3.91507820e+00,   4.19813849e-01,\n",
       "        -1.28811599e+01,   1.12570717e+00,  -1.29824189e-01,\n",
       "        -3.11470841e+00,   2.67397682e-01,   1.41797920e+00,\n",
       "        -4.85978484e-01,   1.25005824e+00,  -7.04303781e-01,\n",
       "         2.03268427e+00,  -6.68385593e-01,  -6.52055898e-02,\n",
       "        -4.95813820e-01,   3.08155944e-01,   3.75278110e-01,\n",
       "        -7.04238278e+00,   3.20014158e-01,  -8.38260616e-01,\n",
       "         9.24156137e-01,   5.03906384e-01,   4.18105090e-03,\n",
       "         3.89633304e+00,  -3.19041411e+00,   1.39279568e+00,\n",
       "         2.24036255e+00,   1.64383042e-02,   3.47250126e+00,\n",
       "         3.51271478e+01,  -1.18829654e+00,  -1.32180813e+00,\n",
       "         1.17107486e+00,   2.36617584e-01,   9.17280010e-02,\n",
       "         1.21112467e+00,   2.13458262e+00,   1.84404129e+00,\n",
       "        -4.36843404e-01,   1.11407590e-01,  -2.22192113e+00,\n",
       "        -1.17902742e-01,   1.24834341e-01,   1.40816608e-01,\n",
       "         1.98863966e+00,  -3.67164310e-01,   2.47073734e+00,\n",
       "         2.49257708e-01,  -1.41214339e+00,   1.24174707e+00,\n",
       "         1.31985813e+00,   1.33700050e-01,   1.33785467e-01,\n",
       "        -1.23026866e+00,   7.14406109e-01,   8.59497567e-01,\n",
       "         4.74050170e-01,   6.75638156e+00,  -5.10626651e+00,\n",
       "        -7.17446690e+00,   3.91977946e-02,  -1.88597630e-01,\n",
       "         4.88678548e+00,  -6.17616824e+00,  -9.92114994e+00,\n",
       "        -5.96213608e+00,   5.75883385e+00,  -1.88463170e+00,\n",
       "        -5.63568868e+00,  -5.88274577e-03,  -5.05618784e-02,\n",
       "         1.83302894e+00,  -1.37122485e+01,  -4.00203170e+00,\n",
       "        -2.40956549e-01,  -1.47733627e-01,   2.74134794e-01,\n",
       "         1.15039577e-01,  -1.84640448e-02,   2.92771044e-01,\n",
       "        -1.63873376e-01,  -3.96038297e-01,   2.30876994e-01,\n",
       "        -1.07991388e-01,  -1.04728209e+00,   1.12426550e+00,\n",
       "         1.29687771e+00,  -2.33548040e-01,  -3.20182639e-01,\n",
       "        -1.03351654e+00,   6.48025603e-01,  -3.57069449e+00,\n",
       "        -8.92021214e+00,  -1.18065604e-02,   7.88227359e+00,\n",
       "         1.70495971e-01,  -1.56375708e-01,   5.64990923e-02,\n",
       "        -7.86612492e+00,   3.99552617e-01,  -7.67798371e+00,\n",
       "        -1.20248151e+00,  -1.12989200e+00,   4.05071066e+00,\n",
       "         1.00235631e+00,   1.84776362e-01,   9.12317905e-02,\n",
       "        -4.15448285e+00,   1.49454090e+00,  -2.68583321e+00,\n",
       "         7.22502277e-01,  -3.95628275e+00,   5.69002210e+00,\n",
       "         3.95702611e+00,  -5.79918988e-02,   1.07171249e-01,\n",
       "        -5.74383608e+00,   3.01199277e+00,  -9.12188013e-01,\n",
       "        -1.25303825e+00,  -8.76600266e-01,   1.19885675e+01,\n",
       "         8.75665734e-01,  -1.91722719e-01,  -1.95876828e-01,\n",
       "        -1.20010246e+01,  -9.92807951e-01,  -1.11077354e+01,\n",
       "         5.46850745e-01,   3.01717036e-02,  -2.64723454e+00,\n",
       "        -5.75752292e-01,  -2.91218576e-02,   8.19285547e-02,\n",
       "         2.46676757e+00,  -7.63484967e-01,   1.17815415e+00,\n",
       "        -1.59808827e+00,   7.04765494e+00,   4.21598955e-01,\n",
       "        -6.79174710e+00,  -1.96318160e-01,  -1.98448910e-01,\n",
       "        -1.68617361e-01,  -7.06142550e+00,  -6.04554196e+00,\n",
       "        -6.36911644e-01,  -1.53816864e+01,   2.34281602e+01,\n",
       "         1.54972855e+01,  -2.90393091e-01,  -7.41168482e-01,\n",
       "        -2.31762395e+01,   1.58615388e+01,  -6.57128408e+00,\n",
       "         1.72039253e+00,  -6.29823462e+00,   3.18819755e+00,\n",
       "         6.09602382e+00,  -3.86338271e-02,   1.17789490e-03,\n",
       "        -3.32891210e+00,   4.89185586e+00,   2.26583637e+00,\n",
       "        -6.94651801e-01,   8.31673539e+00,  -2.56695086e+00,\n",
       "        -8.27171440e+00,   1.41157463e-01,   1.87007515e-01,\n",
       "         2.59276176e+00,  -7.24140644e+00,  -5.29696068e+00,\n",
       "         1.02850785e+00,  -3.82263101e+00,  -2.34602193e+00,\n",
       "         3.83999299e+00,   3.80397199e-01,  -1.45850094e-01,\n",
       "         2.33081317e+00,  -1.10741309e+01,  -4.60493304e+00,\n",
       "         1.71758702e+00,  -1.57960844e-01,  -1.89992600e-01,\n",
       "         1.93932714e-01,   9.26722983e-02,  -5.99195176e-02,\n",
       "         1.61900958e-01,   7.19020546e-02,  -8.68120936e+00,\n",
       "        -9.55601960e+00,  -1.15561568e+00,  -3.35856524e+00,\n",
       "         1.41019205e+00,   3.11500005e-03,  -2.67808471e-01,\n",
       "         3.60572482e+00,   4.08864567e+00,  -6.89238801e+00,\n",
       "        -9.34752437e+00,   2.49296039e+01,  -7.41029058e+00,\n",
       "        -2.47422905e+01,  -1.30908446e-01,  -1.20354492e-02,\n",
       "         7.58102046e+00,  -2.45768591e+01,  -1.52061686e+01,\n",
       "         9.54571229e-01,  -3.88530778e-01,   4.17415654e+00,\n",
       "         2.40531663e-01,   2.45989239e-01,   3.90545178e-02,\n",
       "        -4.14045823e+00,   5.07499740e-02,  -3.37771253e+00,\n",
       "        -3.28215384e-01,   5.10959497e-01,  -1.63797311e+00,\n",
       "        -4.59437586e-01,  -7.79980003e-02,   4.43637366e-02,\n",
       "         1.55734245e+00,  -4.31860935e-01,   9.25922033e-01,\n",
       "         2.47173161e-01,   6.69832934e+00,  -1.38433455e+00,\n",
       "        -6.75726978e+00,  -1.59751475e-02,  -8.89960512e-01,\n",
       "         1.18233624e+00,  -6.72156112e+00,  -2.69405055e+00,\n",
       "        -1.27721644e-01,   4.50485974e+00,   9.23249613e+00,\n",
       "        -4.19277884e+00,   2.61008148e-02,  -2.42038779e-01,\n",
       "        -9.23685098e+00,  -2.60625036e+01,  -1.47795972e+01,\n",
       "        -4.31000953e-01,   1.68627304e-01,   1.66776659e+00,\n",
       "        -3.96918358e-02,  -2.30301388e-01,   3.00283065e-01,\n",
       "        -1.90884921e+00,  -2.73607730e-02,  -1.96144235e+00,\n",
       "        -1.23692763e-02,   6.49954523e+00,   6.56464008e+00,\n",
       "        -6.35882478e+00,   6.58732558e-02,   2.42769877e-02,\n",
       "        -6.55415584e+00,  -6.34536922e+00,  -1.41429130e+01,\n",
       "        -2.65123312e-01,  -3.30348990e-01,   5.73312051e+00,\n",
       "         4.36742100e-01,   4.88462955e-02,  -1.09191527e-01,\n",
       "        -5.56774002e+00,   2.22585978e-01,  -6.96333060e+00,\n",
       "        -3.30611004e-01])"
      ]
     },
     "execution_count": 109,
     "metadata": {},
     "output_type": "execute_result"
    }
   ],
   "source": [
    "beta"
   ]
  },
  {
   "cell_type": "code",
   "execution_count": 110,
   "metadata": {
    "collapsed": false
   },
   "outputs": [
    {
     "ename": "KeyError",
     "evalue": "1.0",
     "output_type": "error",
     "traceback": [
      "\u001b[0;31m---------------------------------------------------------------------------\u001b[0m",
      "\u001b[0;31mKeyError\u001b[0m                                  Traceback (most recent call last)",
      "\u001b[0;32m<ipython-input-110-ade78fd89744>\u001b[0m in \u001b[0;36m<module>\u001b[0;34m()\u001b[0m\n\u001b[1;32m      5\u001b[0m \u001b[0mbetas\u001b[0m\u001b[0;34m[\u001b[0m\u001b[0mlambda_hp\u001b[0m\u001b[0;34m]\u001b[0m \u001b[0;34m=\u001b[0m \u001b[0mbeta_small\u001b[0m\u001b[0;34m\u001b[0m\u001b[0m\n\u001b[1;32m      6\u001b[0m \u001b[0mfpr\u001b[0m\u001b[0;34m[\u001b[0m\u001b[0mlambda_hp\u001b[0m\u001b[0;34m]\u001b[0m\u001b[0;34m,\u001b[0m \u001b[0mtpr\u001b[0m\u001b[0;34m[\u001b[0m\u001b[0mlambdas\u001b[0m\u001b[0;34m[\u001b[0m\u001b[0mi\u001b[0m\u001b[0;34m]\u001b[0m\u001b[0;34m]\u001b[0m\u001b[0;34m,\u001b[0m \u001b[0m_\u001b[0m \u001b[0;34m=\u001b[0m \u001b[0msklearn\u001b[0m\u001b[0;34m.\u001b[0m\u001b[0mmetrics\u001b[0m\u001b[0;34m.\u001b[0m\u001b[0mroc_curve\u001b[0m\u001b[0;34m(\u001b[0m\u001b[0my_test\u001b[0m\u001b[0;34m,\u001b[0m \u001b[0mnp\u001b[0m\u001b[0;34m.\u001b[0m\u001b[0mexp\u001b[0m\u001b[0;34m(\u001b[0m\u001b[0mlr\u001b[0m\u001b[0;34m.\u001b[0m\u001b[0mlog_prob\u001b[0m\u001b[0;34m(\u001b[0m\u001b[0mx_test\u001b[0m\u001b[0;34m,\u001b[0m \u001b[0mbeta_small\u001b[0m\u001b[0;34m)\u001b[0m\u001b[0;34m)\u001b[0m\u001b[0;34m)\u001b[0m\u001b[0;34m\u001b[0m\u001b[0m\n\u001b[0;32m----> 7\u001b[0;31m \u001b[0mauc\u001b[0m\u001b[0;34m[\u001b[0m\u001b[0mlambda_hp\u001b[0m\u001b[0;34m]\u001b[0m \u001b[0;34m=\u001b[0m \u001b[0msklearn\u001b[0m\u001b[0;34m.\u001b[0m\u001b[0mmetrics\u001b[0m\u001b[0;34m.\u001b[0m\u001b[0mauc\u001b[0m\u001b[0;34m(\u001b[0m\u001b[0mfpr\u001b[0m\u001b[0;34m[\u001b[0m\u001b[0mlambda_hp\u001b[0m\u001b[0;34m]\u001b[0m\u001b[0;34m,\u001b[0m \u001b[0mtpr\u001b[0m\u001b[0;34m[\u001b[0m\u001b[0mlambda_hp\u001b[0m\u001b[0;34m]\u001b[0m\u001b[0;34m)\u001b[0m\u001b[0;34m\u001b[0m\u001b[0m\n\u001b[0m\u001b[1;32m      8\u001b[0m \u001b[0mprint\u001b[0m\u001b[0;34m(\u001b[0m\u001b[0mauc\u001b[0m\u001b[0;34m[\u001b[0m\u001b[0mlambda_hp\u001b[0m\u001b[0;34m]\u001b[0m\u001b[0;34m)\u001b[0m\u001b[0;34m\u001b[0m\u001b[0m\n",
      "\u001b[0;31mKeyError\u001b[0m: 1.0"
     ]
    }
   ],
   "source": [
    "fpr, tpr, auc, betas = dict(), dict(), dict(), dict()\n",
    "#for i in range(len(lambdas)):\n",
    "lambda_hp = 1.0\n",
    "beta_small = lr.sgd(x_train, y_train, beta, np.zeros(G.shape[1]), lambda_hp)\n",
    "betas[lambda_hp] = beta_small\n",
    "fpr[lambda_hp], tpr[lambda_hp], _ = sklearn.metrics.roc_curve(y_test, np.exp(lr.log_prob(x_test, beta_small)))\n",
    "auc[lambda_hp] = sklearn.metrics.auc(fpr[lambda_hp], tpr[lambda_hp])\n",
    "print(auc[lambda_hp])"
   ]
  },
  {
   "cell_type": "code",
   "execution_count": 114,
   "metadata": {
    "collapsed": false
   },
   "outputs": [
    {
     "name": "stdout",
     "output_type": "stream",
     "text": [
      "0.571323139802\n"
     ]
    }
   ],
   "source": [
    "fpr[lambda_hp], tpr[lambda_hp], _ = sklearn.metrics.roc_curve(y_test, np.exp(lr.log_prob(x_test, beta_small)))\n",
    "auc[lambda_hp] = sklearn.metrics.auc(fpr[lambda_hp], tpr[lambda_hp])\n",
    "print(auc[lambda_hp])"
   ]
  },
  {
   "cell_type": "code",
   "execution_count": 119,
   "metadata": {
    "collapsed": true
   },
   "outputs": [],
   "source": [
    "beta_shared = beta_small"
   ]
  },
  {
   "cell_type": "code",
   "execution_count": 140,
   "metadata": {
    "collapsed": false
   },
   "outputs": [],
   "source": [
    "#t = ['Heart_Atrial_Appendage','Heart_Left_Ventricle', 'Muscle_Skeletal', 'Esophagus_Muscularis']\n",
    "t = ['Heart_Left_Ventricle']\n",
    "train_t = pd.concat([train[annotation_cols], train[t]], axis=1)\n",
    "train_t = train_t.dropna()\n",
    "#train = train[train[t].notnull()]\n",
    "#train = train.dropna(subset=t, thresh=3)\n",
    "#train[\"median_heart\"] = np.abs(train[t]).median(axis=1)\n",
    "train_t[\"labels_heart\"] = sklearn.preprocessing.binarize(np.abs(train_t[t]), threshold=1.5)\n",
    "G = train_t[annotation_cols]\n",
    "G.insert(0,\"intercept\",1)\n",
    "E = train_t[\"labels_heart\"]\n",
    "x_train, x_test, y_train, y_test = sklearn.cross_validation.train_test_split(G, E, test_size=0.33, random_state=42)"
   ]
  },
  {
   "cell_type": "code",
   "execution_count": 141,
   "metadata": {
    "collapsed": false
   },
   "outputs": [
    {
     "data": {
      "text/plain": [
       "51175"
      ]
     },
     "execution_count": 141,
     "metadata": {},
     "output_type": "execute_result"
    }
   ],
   "source": [
    "len(x_train)"
   ]
  },
  {
   "cell_type": "code",
   "execution_count": 124,
   "metadata": {
    "collapsed": false
   },
   "outputs": [
    {
     "name": "stdout",
     "output_type": "stream",
     "text": [
      "0.529599245149\n"
     ]
    }
   ],
   "source": [
    "lambda_hp = 1.0\n",
    "beta = lr.sgd(x_train, y_train, np.ones(G.shape[1]), beta_shared, lambda_hp)\n",
    "betas[lambda_hp] = beta\n",
    "fpr[lambda_hp], tpr[lambda_hp], _ = sklearn.metrics.roc_curve(y_test, np.exp(lr.log_prob(x_test, beta)))\n",
    "auc[lambda_hp] = sklearn.metrics.auc(fpr[lambda_hp], tpr[lambda_hp])\n",
    "print(auc[lambda_hp])"
   ]
  },
  {
   "cell_type": "code",
   "execution_count": 144,
   "metadata": {
    "collapsed": false
   },
   "outputs": [
    {
     "name": "stdout",
     "output_type": "stream",
     "text": [
      "0.509510200719\n"
     ]
    }
   ],
   "source": [
    "lambda_hp = 1e6\n",
    "beta = lr.sgd(x_train, y_train, np.ones(G.shape[1]), beta_shared, lambda_hp)\n",
    "betas[lambda_hp] = beta\n",
    "fpr[lambda_hp], tpr[lambda_hp], _ = sklearn.metrics.roc_curve(y_test, np.exp(lr.log_prob(x_test, beta)))\n",
    "auc[lambda_hp] = sklearn.metrics.auc(fpr[lambda_hp], tpr[lambda_hp])\n",
    "print(auc[lambda_hp])"
   ]
  },
  {
   "cell_type": "code",
   "execution_count": null,
   "metadata": {
    "collapsed": true
   },
   "outputs": [],
   "source": []
  },
  {
   "cell_type": "code",
   "execution_count": 117,
   "metadata": {
    "collapsed": false
   },
   "outputs": [],
   "source": [
    "np.savetxt(\"../tissue_spec_tl/shared_beta.csv\", beta_small, newline=' ')"
   ]
  },
  {
   "cell_type": "code",
   "execution_count": 87,
   "metadata": {
    "collapsed": false
   },
   "outputs": [
    {
     "ename": "KeyboardInterrupt",
     "evalue": "",
     "output_type": "error",
     "traceback": [
      "\u001b[0;31m---------------------------------------------------------------------------\u001b[0m",
      "\u001b[0;31mKeyboardInterrupt\u001b[0m                         Traceback (most recent call last)",
      "\u001b[0;32m<ipython-input-87-04a78b33d605>\u001b[0m in \u001b[0;36m<module>\u001b[0;34m()\u001b[0m\n\u001b[0;32m----> 1\u001b[0;31m \u001b[0mbeta_l2\u001b[0m \u001b[0;34m=\u001b[0m \u001b[0mlr\u001b[0m\u001b[0;34m.\u001b[0m\u001b[0msgd\u001b[0m\u001b[0;34m(\u001b[0m\u001b[0mx_train\u001b[0m\u001b[0;34m,\u001b[0m \u001b[0my_train\u001b[0m\u001b[0;34m,\u001b[0m \u001b[0mnp\u001b[0m\u001b[0;34m.\u001b[0m\u001b[0mones\u001b[0m\u001b[0;34m(\u001b[0m\u001b[0mG\u001b[0m\u001b[0;34m.\u001b[0m\u001b[0mshape\u001b[0m\u001b[0;34m[\u001b[0m\u001b[0;36m1\u001b[0m\u001b[0;34m]\u001b[0m\u001b[0;34m)\u001b[0m\u001b[0;34m,\u001b[0m \u001b[0mnp\u001b[0m\u001b[0;34m.\u001b[0m\u001b[0mzeros\u001b[0m\u001b[0;34m(\u001b[0m\u001b[0mG\u001b[0m\u001b[0;34m.\u001b[0m\u001b[0mshape\u001b[0m\u001b[0;34m[\u001b[0m\u001b[0;36m1\u001b[0m\u001b[0;34m]\u001b[0m\u001b[0;34m)\u001b[0m\u001b[0;34m,\u001b[0m \u001b[0;36m.000001\u001b[0m\u001b[0;34m)\u001b[0m\u001b[0;34m\u001b[0m\u001b[0m\n\u001b[0m\u001b[1;32m      2\u001b[0m \u001b[0mbeta_sharedprior\u001b[0m \u001b[0;34m=\u001b[0m \u001b[0mlr\u001b[0m\u001b[0;34m.\u001b[0m\u001b[0msgd\u001b[0m\u001b[0;34m(\u001b[0m\u001b[0mx_train\u001b[0m\u001b[0;34m,\u001b[0m \u001b[0my_train\u001b[0m\u001b[0;34m,\u001b[0m \u001b[0mnp\u001b[0m\u001b[0;34m.\u001b[0m\u001b[0mones\u001b[0m\u001b[0;34m(\u001b[0m\u001b[0mG\u001b[0m\u001b[0;34m.\u001b[0m\u001b[0mshape\u001b[0m\u001b[0;34m[\u001b[0m\u001b[0;36m1\u001b[0m\u001b[0;34m]\u001b[0m\u001b[0;34m)\u001b[0m\u001b[0;34m,\u001b[0m \u001b[0mshared_beta\u001b[0m\u001b[0;34m,\u001b[0m \u001b[0;36m.000001\u001b[0m\u001b[0;34m)\u001b[0m\u001b[0;34m\u001b[0m\u001b[0m\n",
      "\u001b[0;32m/Users/farhan.damani/Google Drive/computer_backup/Research/src/rare_variants_shared/src/models/int_model/tissue_spec_tl/logistic_regression.py\u001b[0m in \u001b[0;36msgd\u001b[0;34m(G, Q, beta_c, beta_parent, lambda_hp)\u001b[0m\n",
      "\u001b[0;32m/Users/farhan.damani/anaconda3/lib/python3.5/site-packages/scipy/optimize/optimize.py\u001b[0m in \u001b[0;36mfmin_bfgs\u001b[0;34m(f, x0, fprime, args, gtol, norm, epsilon, maxiter, full_output, disp, retall, callback)\u001b[0m\n\u001b[1;32m    791\u001b[0m             'return_all': retall}\n\u001b[1;32m    792\u001b[0m \u001b[0;34m\u001b[0m\u001b[0m\n\u001b[0;32m--> 793\u001b[0;31m     \u001b[0mres\u001b[0m \u001b[0;34m=\u001b[0m \u001b[0m_minimize_bfgs\u001b[0m\u001b[0;34m(\u001b[0m\u001b[0mf\u001b[0m\u001b[0;34m,\u001b[0m \u001b[0mx0\u001b[0m\u001b[0;34m,\u001b[0m \u001b[0margs\u001b[0m\u001b[0;34m,\u001b[0m \u001b[0mfprime\u001b[0m\u001b[0;34m,\u001b[0m \u001b[0mcallback\u001b[0m\u001b[0;34m=\u001b[0m\u001b[0mcallback\u001b[0m\u001b[0;34m,\u001b[0m \u001b[0;34m**\u001b[0m\u001b[0mopts\u001b[0m\u001b[0;34m)\u001b[0m\u001b[0;34m\u001b[0m\u001b[0m\n\u001b[0m\u001b[1;32m    794\u001b[0m \u001b[0;34m\u001b[0m\u001b[0m\n\u001b[1;32m    795\u001b[0m     \u001b[0;32mif\u001b[0m \u001b[0mfull_output\u001b[0m\u001b[0;34m:\u001b[0m\u001b[0;34m\u001b[0m\u001b[0m\n",
      "\u001b[0;32m/Users/farhan.damani/anaconda3/lib/python3.5/site-packages/scipy/optimize/optimize.py\u001b[0m in \u001b[0;36m_minimize_bfgs\u001b[0;34m(fun, x0, args, jac, callback, gtol, norm, eps, maxiter, disp, return_all, **unknown_options)\u001b[0m\n\u001b[1;32m    863\u001b[0m             \u001b[0malpha_k\u001b[0m\u001b[0;34m,\u001b[0m \u001b[0mfc\u001b[0m\u001b[0;34m,\u001b[0m \u001b[0mgc\u001b[0m\u001b[0;34m,\u001b[0m \u001b[0mold_fval\u001b[0m\u001b[0;34m,\u001b[0m \u001b[0mold_old_fval\u001b[0m\u001b[0;34m,\u001b[0m \u001b[0mgfkp1\u001b[0m \u001b[0;34m=\u001b[0m\u001b[0;31m \u001b[0m\u001b[0;31m\\\u001b[0m\u001b[0;34m\u001b[0m\u001b[0m\n\u001b[1;32m    864\u001b[0m                      _line_search_wolfe12(f, myfprime, xk, pk, gfk,\n\u001b[0;32m--> 865\u001b[0;31m                                           old_fval, old_old_fval)\n\u001b[0m\u001b[1;32m    866\u001b[0m         \u001b[0;32mexcept\u001b[0m \u001b[0m_LineSearchError\u001b[0m\u001b[0;34m:\u001b[0m\u001b[0;34m\u001b[0m\u001b[0m\n\u001b[1;32m    867\u001b[0m             \u001b[0;31m# Line search failed to find a better solution.\u001b[0m\u001b[0;34m\u001b[0m\u001b[0;34m\u001b[0m\u001b[0m\n",
      "\u001b[0;32m/Users/farhan.damani/anaconda3/lib/python3.5/site-packages/scipy/optimize/optimize.py\u001b[0m in \u001b[0;36m_line_search_wolfe12\u001b[0;34m(f, fprime, xk, pk, gfk, old_fval, old_old_fval, **kwargs)\u001b[0m\n\u001b[1;32m    697\u001b[0m     ret = line_search_wolfe1(f, fprime, xk, pk, gfk,\n\u001b[1;32m    698\u001b[0m                              \u001b[0mold_fval\u001b[0m\u001b[0;34m,\u001b[0m \u001b[0mold_old_fval\u001b[0m\u001b[0;34m,\u001b[0m\u001b[0;34m\u001b[0m\u001b[0m\n\u001b[0;32m--> 699\u001b[0;31m                              **kwargs)\n\u001b[0m\u001b[1;32m    700\u001b[0m \u001b[0;34m\u001b[0m\u001b[0m\n\u001b[1;32m    701\u001b[0m     \u001b[0;32mif\u001b[0m \u001b[0mret\u001b[0m\u001b[0;34m[\u001b[0m\u001b[0;36m0\u001b[0m\u001b[0;34m]\u001b[0m \u001b[0;32mis\u001b[0m \u001b[0;32mNone\u001b[0m\u001b[0;34m:\u001b[0m\u001b[0;34m\u001b[0m\u001b[0m\n",
      "\u001b[0;32m/Users/farhan.damani/anaconda3/lib/python3.5/site-packages/scipy/optimize/linesearch.py\u001b[0m in \u001b[0;36mline_search_wolfe1\u001b[0;34m(f, fprime, xk, pk, gfk, old_fval, old_old_fval, args, c1, c2, amax, amin, xtol)\u001b[0m\n\u001b[1;32m     99\u001b[0m     stp, fval, old_fval = scalar_search_wolfe1(\n\u001b[1;32m    100\u001b[0m             \u001b[0mphi\u001b[0m\u001b[0;34m,\u001b[0m \u001b[0mderphi\u001b[0m\u001b[0;34m,\u001b[0m \u001b[0mold_fval\u001b[0m\u001b[0;34m,\u001b[0m \u001b[0mold_old_fval\u001b[0m\u001b[0;34m,\u001b[0m \u001b[0mderphi0\u001b[0m\u001b[0;34m,\u001b[0m\u001b[0;34m\u001b[0m\u001b[0m\n\u001b[0;32m--> 101\u001b[0;31m             c1=c1, c2=c2, amax=amax, amin=amin, xtol=xtol)\n\u001b[0m\u001b[1;32m    102\u001b[0m \u001b[0;34m\u001b[0m\u001b[0m\n\u001b[1;32m    103\u001b[0m     \u001b[0;32mreturn\u001b[0m \u001b[0mstp\u001b[0m\u001b[0;34m,\u001b[0m \u001b[0mfc\u001b[0m\u001b[0;34m[\u001b[0m\u001b[0;36m0\u001b[0m\u001b[0;34m]\u001b[0m\u001b[0;34m,\u001b[0m \u001b[0mgc\u001b[0m\u001b[0;34m[\u001b[0m\u001b[0;36m0\u001b[0m\u001b[0;34m]\u001b[0m\u001b[0;34m,\u001b[0m \u001b[0mfval\u001b[0m\u001b[0;34m,\u001b[0m \u001b[0mold_fval\u001b[0m\u001b[0;34m,\u001b[0m \u001b[0mgval\u001b[0m\u001b[0;34m[\u001b[0m\u001b[0;36m0\u001b[0m\u001b[0;34m]\u001b[0m\u001b[0;34m\u001b[0m\u001b[0m\n",
      "\u001b[0;32m/Users/farhan.damani/anaconda3/lib/python3.5/site-packages/scipy/optimize/linesearch.py\u001b[0m in \u001b[0;36mscalar_search_wolfe1\u001b[0;34m(phi, derphi, phi0, old_phi0, derphi0, c1, c2, amax, amin, xtol)\u001b[0m\n\u001b[1;32m    173\u001b[0m             \u001b[0malpha1\u001b[0m \u001b[0;34m=\u001b[0m \u001b[0mstp\u001b[0m\u001b[0;34m\u001b[0m\u001b[0m\n\u001b[1;32m    174\u001b[0m             \u001b[0mphi1\u001b[0m \u001b[0;34m=\u001b[0m \u001b[0mphi\u001b[0m\u001b[0;34m(\u001b[0m\u001b[0mstp\u001b[0m\u001b[0;34m)\u001b[0m\u001b[0;34m\u001b[0m\u001b[0m\n\u001b[0;32m--> 175\u001b[0;31m             \u001b[0mderphi1\u001b[0m \u001b[0;34m=\u001b[0m \u001b[0mderphi\u001b[0m\u001b[0;34m(\u001b[0m\u001b[0mstp\u001b[0m\u001b[0;34m)\u001b[0m\u001b[0;34m\u001b[0m\u001b[0m\n\u001b[0m\u001b[1;32m    176\u001b[0m         \u001b[0;32melse\u001b[0m\u001b[0;34m:\u001b[0m\u001b[0;34m\u001b[0m\u001b[0m\n\u001b[1;32m    177\u001b[0m             \u001b[0;32mbreak\u001b[0m\u001b[0;34m\u001b[0m\u001b[0m\n",
      "\u001b[0;32m/Users/farhan.damani/anaconda3/lib/python3.5/site-packages/scipy/optimize/linesearch.py\u001b[0m in \u001b[0;36mderphi\u001b[0;34m(s)\u001b[0m\n\u001b[1;32m     88\u001b[0m \u001b[0;34m\u001b[0m\u001b[0m\n\u001b[1;32m     89\u001b[0m     \u001b[0;32mdef\u001b[0m \u001b[0mderphi\u001b[0m\u001b[0;34m(\u001b[0m\u001b[0ms\u001b[0m\u001b[0;34m)\u001b[0m\u001b[0;34m:\u001b[0m\u001b[0;34m\u001b[0m\u001b[0m\n\u001b[0;32m---> 90\u001b[0;31m         \u001b[0mgval\u001b[0m\u001b[0;34m[\u001b[0m\u001b[0;36m0\u001b[0m\u001b[0;34m]\u001b[0m \u001b[0;34m=\u001b[0m \u001b[0mfprime\u001b[0m\u001b[0;34m(\u001b[0m\u001b[0mxk\u001b[0m \u001b[0;34m+\u001b[0m \u001b[0ms\u001b[0m\u001b[0;34m*\u001b[0m\u001b[0mpk\u001b[0m\u001b[0;34m,\u001b[0m \u001b[0;34m*\u001b[0m\u001b[0mnewargs\u001b[0m\u001b[0;34m)\u001b[0m\u001b[0;34m\u001b[0m\u001b[0m\n\u001b[0m\u001b[1;32m     91\u001b[0m         \u001b[0;32mif\u001b[0m \u001b[0mgradient\u001b[0m\u001b[0;34m:\u001b[0m\u001b[0;34m\u001b[0m\u001b[0m\n\u001b[1;32m     92\u001b[0m             \u001b[0mgc\u001b[0m\u001b[0;34m[\u001b[0m\u001b[0;36m0\u001b[0m\u001b[0;34m]\u001b[0m \u001b[0;34m+=\u001b[0m \u001b[0;36m1\u001b[0m\u001b[0;34m\u001b[0m\u001b[0m\n",
      "\u001b[0;32m/Users/farhan.damani/anaconda3/lib/python3.5/site-packages/scipy/optimize/optimize.py\u001b[0m in \u001b[0;36mfunction_wrapper\u001b[0;34m(*wrapper_args)\u001b[0m\n\u001b[1;32m    287\u001b[0m     \u001b[0;32mdef\u001b[0m \u001b[0mfunction_wrapper\u001b[0m\u001b[0;34m(\u001b[0m\u001b[0;34m*\u001b[0m\u001b[0mwrapper_args\u001b[0m\u001b[0;34m)\u001b[0m\u001b[0;34m:\u001b[0m\u001b[0;34m\u001b[0m\u001b[0m\n\u001b[1;32m    288\u001b[0m         \u001b[0mncalls\u001b[0m\u001b[0;34m[\u001b[0m\u001b[0;36m0\u001b[0m\u001b[0;34m]\u001b[0m \u001b[0;34m+=\u001b[0m \u001b[0;36m1\u001b[0m\u001b[0;34m\u001b[0m\u001b[0m\n\u001b[0;32m--> 289\u001b[0;31m         \u001b[0;32mreturn\u001b[0m \u001b[0mfunction\u001b[0m\u001b[0;34m(\u001b[0m\u001b[0;34m*\u001b[0m\u001b[0;34m(\u001b[0m\u001b[0mwrapper_args\u001b[0m \u001b[0;34m+\u001b[0m \u001b[0margs\u001b[0m\u001b[0;34m)\u001b[0m\u001b[0;34m)\u001b[0m\u001b[0;34m\u001b[0m\u001b[0m\n\u001b[0m\u001b[1;32m    290\u001b[0m \u001b[0;34m\u001b[0m\u001b[0m\n\u001b[1;32m    291\u001b[0m     \u001b[0;32mreturn\u001b[0m \u001b[0mncalls\u001b[0m\u001b[0;34m,\u001b[0m \u001b[0mfunction_wrapper\u001b[0m\u001b[0;34m\u001b[0m\u001b[0m\n",
      "\u001b[0;32m/Users/farhan.damani/Google Drive/computer_backup/Research/src/rare_variants_shared/src/models/int_model/tissue_spec_tl/logistic_regression.py\u001b[0m in \u001b[0;36mlikelihoodScore\u001b[0;34m(vBeta, vBetaParent, mX, vY, lambda_hp)\u001b[0m\n\u001b[1;32m     62\u001b[0m         \u001b[0mvBeta\u001b[0m \u001b[0;34m=\u001b[0m \u001b[0mbeta_c\u001b[0m\u001b[0;34m\u001b[0m\u001b[0m\n\u001b[1;32m     63\u001b[0m         \u001b[0mvBetaParent\u001b[0m \u001b[0;34m=\u001b[0m \u001b[0mbeta_parent\u001b[0m\u001b[0;34m\u001b[0m\u001b[0m\n\u001b[0;32m---> 64\u001b[0;31m         \u001b[0mmX\u001b[0m \u001b[0;34m=\u001b[0m \u001b[0mG\u001b[0m\u001b[0;34m\u001b[0m\u001b[0m\n\u001b[0m\u001b[1;32m     65\u001b[0m         \u001b[0mvY\u001b[0m \u001b[0;34m=\u001b[0m \u001b[0mQ\u001b[0m\u001b[0;34m\u001b[0m\u001b[0m\n\u001b[1;32m     66\u001b[0m         \u001b[0mlambda_hp\u001b[0m \u001b[0;34m=\u001b[0m \u001b[0mlambda_hp\u001b[0m\u001b[0;34m\u001b[0m\u001b[0m\n",
      "\u001b[0;32m/Users/farhan.damani/Google Drive/computer_backup/Research/src/rare_variants_shared/src/models/int_model/tissue_spec_tl/logistic_regression.py\u001b[0m in \u001b[0;36msigmoid\u001b[0;34m(x, beta)\u001b[0m\n\u001b[1;32m     40\u001b[0m \u001b[0;32mdef\u001b[0m \u001b[0msigmoid\u001b[0m\u001b[0;34m(\u001b[0m\u001b[0mx\u001b[0m\u001b[0;34m,\u001b[0m \u001b[0mbeta\u001b[0m\u001b[0;34m)\u001b[0m\u001b[0;34m:\u001b[0m\u001b[0;34m\u001b[0m\u001b[0m\n\u001b[1;32m     41\u001b[0m         \u001b[0;32mreturn\u001b[0m \u001b[0;36m1.0\u001b[0m \u001b[0;34m/\u001b[0m \u001b[0;34m(\u001b[0m\u001b[0;36m1.0\u001b[0m \u001b[0;34m+\u001b[0m \u001b[0mnp\u001b[0m\u001b[0;34m.\u001b[0m\u001b[0mexp\u001b[0m\u001b[0;34m(\u001b[0m\u001b[0;34m-\u001b[0m\u001b[0mbeta\u001b[0m\u001b[0;34m.\u001b[0m\u001b[0mdot\u001b[0m\u001b[0;34m(\u001b[0m\u001b[0mx\u001b[0m\u001b[0;34m.\u001b[0m\u001b[0mT\u001b[0m\u001b[0;34m)\u001b[0m\u001b[0;34m)\u001b[0m\u001b[0;34m)\u001b[0m\u001b[0;34m\u001b[0m\u001b[0m\n\u001b[0;32m---> 42\u001b[0;31m \u001b[0;34m\u001b[0m\u001b[0m\n\u001b[0m\u001b[1;32m     43\u001b[0m \u001b[0;34m\u001b[0m\u001b[0m\n\u001b[1;32m     44\u001b[0m \u001b[0;31m# logistic transformation\u001b[0m\u001b[0;34m\u001b[0m\u001b[0;34m\u001b[0m\u001b[0m\n",
      "\u001b[0;31mKeyboardInterrupt\u001b[0m: "
     ]
    }
   ],
   "source": [
    "beta_l2 = lr.sgd(x_train, y_train, np.ones(G.shape[1]), np.zeros(G.shape[1]), .000001)\n",
    "beta_sharedprior = lr.sgd(x_train, y_train, np.ones(G.shape[1]), shared_beta, .000001)"
   ]
  },
  {
   "cell_type": "code",
   "execution_count": null,
   "metadata": {
    "collapsed": true
   },
   "outputs": [],
   "source": [
    "beta_sharedprior_001 = lr.sgd(x_train, y_train, np.ones(G.shape[1]), shared_beta, .001)\n",
    "beta_sharedprior_1 = lr.sgd(x_train, y_train, np.ones(G.shape[1]), shared_beta, 1)\n",
    "beta_sharedprior_1000 = lr.sgd(x_train, y_train, np.ones(G.shape[1]), shared_beta, 1000)"
   ]
  },
  {
   "cell_type": "code",
   "execution_count": null,
   "metadata": {
    "collapsed": true
   },
   "outputs": [],
   "source": []
  },
  {
   "cell_type": "code",
   "execution_count": 72,
   "metadata": {
    "collapsed": false
   },
   "outputs": [],
   "source": [
    "fpr['shared_beta_000001'], tpr['shared_beta_000001'], _ = sklearn.metrics.roc_curve(y_test, np.exp(lr.log_prob(x_test, beta)))\n",
    "auc['shared_beta_000001'] = sklearn.metrics.auc(fpr['shared_beta_000001'], tpr['shared_beta_000001'])"
   ]
  },
  {
   "cell_type": "code",
   "execution_count": 73,
   "metadata": {
    "collapsed": false
   },
   "outputs": [
    {
     "data": {
      "text/plain": [
       "{0: 0.52273512351842288,\n",
       " 1: 0.46840111047731248,\n",
       " 2: 0.52213398541797273,\n",
       " 3: 0.52214381269377319,\n",
       " 'shared_beta_001': 0.52657103683922979,\n",
       " 'shared_beta_10000': 0.54012668401896657,\n",
       " 'shared_beta_000001': 0.52213357291503781,\n",
       " 'shared_beta_10000000': 0.5391744816560915,\n",
       " 'shared_beta_100': 0.5369354885204316}"
      ]
     },
     "execution_count": 73,
     "metadata": {},
     "output_type": "execute_result"
    }
   ],
   "source": [
    "auc"
   ]
  },
  {
   "cell_type": "code",
   "execution_count": 30,
   "metadata": {
    "collapsed": false
   },
   "outputs": [],
   "source": [
    "shared_beta = beta"
   ]
  },
  {
   "cell_type": "code",
   "execution_count": 118,
   "metadata": {
    "collapsed": false
   },
   "outputs": [
    {
     "data": {
      "text/plain": [
       "array([ -6.96294145e+00,   1.98099493e-01,   3.19441631e-01,\n",
       "         1.89189895e-01,   2.57645342e-01,   5.12669708e-01,\n",
       "        -7.24370891e-01,  -1.91166630e+00,   3.69574484e+00,\n",
       "        -1.51593842e-01,  -7.39906071e-02,  -5.79078900e-02,\n",
       "         1.47863872e-01,  -7.70098066e-02,   2.59872459e-02,\n",
       "         4.13219458e-02,   1.72410267e-01,   4.58247997e-01,\n",
       "        -2.10161718e+00,   1.79301252e-01,  -1.21863916e-03,\n",
       "         4.75591058e-01,   5.62524309e-02,   7.14131189e-01,\n",
       "        -8.12227693e-02,   4.71016876e-01,  -1.00838145e+00,\n",
       "        -8.93944720e-01,   2.06819646e-01,  -1.25128892e-01,\n",
       "         2.46272879e-01,  -1.14868111e+00,  -8.57281549e-01,\n",
       "        -6.16125122e-01,   5.45720713e-01,   1.33243243e-01,\n",
       "        -2.81991012e-02,  -6.60804803e-01,   2.32806512e-02,\n",
       "        -8.54830981e-02,   2.85078669e-01,  -3.81406172e-01,\n",
       "         1.36112313e+00,  -2.62543115e-01,   3.15371121e-01,\n",
       "        -7.81566144e-01,  -1.00192982e+00,   2.20316905e+00,\n",
       "         3.61176496e-01,   1.64405426e-01,   4.25363474e-01,\n",
       "        -1.95852128e-01,  -3.24675966e-01,  -2.46071333e+00,\n",
       "         5.94456441e-01,   8.33919084e-01,  -4.21971256e-01,\n",
       "         5.92689869e-01,   2.33473295e-01,  -5.64036254e-01,\n",
       "         1.69362741e-01,  -1.44816120e+00,   1.57831075e-01,\n",
       "        -4.33870238e-01,  -2.28018619e-02,   2.23518959e+00,\n",
       "        -5.30445648e-01,  -1.24973787e+00,   1.01719286e-01,\n",
       "         8.76064160e-01,  -2.76900022e-01,   2.12412660e+00,\n",
       "        -2.27129791e-01,  -2.13494135e-01,   3.27564117e-01,\n",
       "        -1.86109013e+00,   2.89345596e-01,  -4.23779560e+00,\n",
       "         5.25871879e-01,   2.45013804e+00,  -2.50312426e-01,\n",
       "        -1.53810787e+00,   1.32046369e-02,  -6.97827459e+00,\n",
       "         8.10543186e-01,   6.26605300e-01,  -1.57921025e-01,\n",
       "        -1.81378355e+00,   5.03005325e-01,  -5.84340390e+00,\n",
       "         6.68573958e-01,  -2.76212670e+00,   1.19346749e-01,\n",
       "        -8.18504209e+00,   6.29353181e-01,  -1.42445842e-01,\n",
       "        -2.76082649e+00,   2.12682682e-01,   1.44348991e+00,\n",
       "        -4.94762805e-01,   1.62763806e+00,  -7.74310913e-01,\n",
       "         2.11793335e+00,  -6.97067548e-01,   2.26153859e-01,\n",
       "        -5.21571528e-01,   2.15379301e-01,   3.70249795e-01,\n",
       "        -4.02718824e+00,   2.49012760e-01,  -6.37994773e-01,\n",
       "         8.72869471e-01,   4.50964813e-01,   4.63609002e-02,\n",
       "         3.46720070e+00,  -2.78155732e+00,   1.35721474e+00,\n",
       "         2.14250621e+00,   1.26887755e-01,   3.21934945e+00,\n",
       "         1.35332884e+01])"
      ]
     },
     "execution_count": 118,
     "metadata": {},
     "output_type": "execute_result"
    }
   ],
   "source": [
    "shared_beta"
   ]
  },
  {
   "cell_type": "code",
   "execution_count": null,
   "metadata": {
    "collapsed": true
   },
   "outputs": [],
   "source": []
  }
 ],
 "metadata": {
  "kernelspec": {
   "display_name": "Python [Root]",
   "language": "python",
   "name": "Python [Root]"
  },
  "language_info": {
   "codemirror_mode": {
    "name": "ipython",
    "version": 3
   },
   "file_extension": ".py",
   "mimetype": "text/x-python",
   "name": "python",
   "nbconvert_exporter": "python",
   "pygments_lexer": "ipython3",
   "version": "3.5.2"
  }
 },
 "nbformat": 4,
 "nbformat_minor": 0
}
