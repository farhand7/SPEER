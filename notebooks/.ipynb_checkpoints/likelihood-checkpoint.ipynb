{
 "cells": [
  {
   "cell_type": "code",
   "execution_count": 9,
   "metadata": {
    "collapsed": true
   },
   "outputs": [],
   "source": [
    "import pandas as pd\n",
    "import numpy as np"
   ]
  },
  {
   "cell_type": "code",
   "execution_count": 2,
   "metadata": {
    "collapsed": true
   },
   "outputs": [],
   "source": [
    "train = pd.read_csv(\"../multi_task_model_optimal_1.5_threshold/train.csv\", index_col=(0,1))"
   ]
  },
  {
   "cell_type": "code",
   "execution_count": 12,
   "metadata": {
    "collapsed": true
   },
   "outputs": [],
   "source": [
    "# multi-task parameters\n",
    "beta_children = np.loadtxt(\"../multi_task_model_optimal_1.5_threshold/beta_children.txt\")\n",
    "alpha = np.loadtxt(\"../multi_task_model_optimal_1.5_threshold/beta_parent.txt\")\n",
    "phi = np.loadtxt(\"../multi_task_model_optimal_1.5_threshold/phi.txt\")\n",
    "# RIVER parameters\n",
    "beta_river = np.loadtxt(\"../multi_task_model_optimal_1.5_threshold/beta_RIVER.v6.txt\")"
   ]
  },
  {
   "cell_type": "code",
   "execution_count": 6,
   "metadata": {
    "collapsed": false
   },
   "outputs": [
    {
     "data": {
      "text/html": [
       "<div>\n",
       "<table border=\"1\" class=\"dataframe\">\n",
       "  <thead>\n",
       "    <tr style=\"text-align: right;\">\n",
       "      <th></th>\n",
       "      <th></th>\n",
       "      <th>intercept</th>\n",
       "      <th>max_CpG_10kb</th>\n",
       "      <th>max_PHRED_10kb</th>\n",
       "      <th>max_verPhCons_10kb</th>\n",
       "      <th>max_cHmmTssA_10kb</th>\n",
       "      <th>max_mamPhCons_10kb</th>\n",
       "      <th>max_verPhyloP_10kb</th>\n",
       "      <th>max_GC_10kb</th>\n",
       "      <th>max_EncOCpolIIPVal_10kb</th>\n",
       "      <th>max_TFBS_10kb</th>\n",
       "      <th>...</th>\n",
       "      <th>E113_general_enhancer</th>\n",
       "      <th>expression</th>\n",
       "      <th>eqtl</th>\n",
       "      <th>expr_label</th>\n",
       "      <th>posterior</th>\n",
       "      <th>tissue</th>\n",
       "      <th>shared_label</th>\n",
       "      <th>posterior_RIVER</th>\n",
       "      <th>posterior_genome_only</th>\n",
       "      <th>posterior_genome_only_shared</th>\n",
       "    </tr>\n",
       "    <tr>\n",
       "      <th>subject_id</th>\n",
       "      <th>gene_id</th>\n",
       "      <th></th>\n",
       "      <th></th>\n",
       "      <th></th>\n",
       "      <th></th>\n",
       "      <th></th>\n",
       "      <th></th>\n",
       "      <th></th>\n",
       "      <th></th>\n",
       "      <th></th>\n",
       "      <th></th>\n",
       "      <th></th>\n",
       "      <th></th>\n",
       "      <th></th>\n",
       "      <th></th>\n",
       "      <th></th>\n",
       "      <th></th>\n",
       "      <th></th>\n",
       "      <th></th>\n",
       "      <th></th>\n",
       "      <th></th>\n",
       "      <th></th>\n",
       "    </tr>\n",
       "  </thead>\n",
       "  <tbody>\n",
       "    <tr>\n",
       "      <th rowspan=\"5\" valign=\"top\">GTEX-N7MS</th>\n",
       "      <th>ENSG00000001561.6</th>\n",
       "      <td>1.0</td>\n",
       "      <td>0.572087</td>\n",
       "      <td>0.376902</td>\n",
       "      <td>0.578286</td>\n",
       "      <td>1.010185</td>\n",
       "      <td>0.560247</td>\n",
       "      <td>0.672983</td>\n",
       "      <td>1.015867</td>\n",
       "      <td>1.184023</td>\n",
       "      <td>0.372614</td>\n",
       "      <td>...</td>\n",
       "      <td>0.0</td>\n",
       "      <td>1.235754</td>\n",
       "      <td>1.0</td>\n",
       "      <td>0.0</td>\n",
       "      <td>0.000134</td>\n",
       "      <td>digestive</td>\n",
       "      <td>0.0</td>\n",
       "      <td>0.002377</td>\n",
       "      <td>0.049366</td>\n",
       "      <td>0.012853</td>\n",
       "    </tr>\n",
       "    <tr>\n",
       "      <th>ENSG00000003056.3</th>\n",
       "      <td>1.0</td>\n",
       "      <td>0.592920</td>\n",
       "      <td>0.364608</td>\n",
       "      <td>0.582093</td>\n",
       "      <td>1.026185</td>\n",
       "      <td>0.563769</td>\n",
       "      <td>0.676492</td>\n",
       "      <td>1.156892</td>\n",
       "      <td>1.184023</td>\n",
       "      <td>0.372614</td>\n",
       "      <td>...</td>\n",
       "      <td>1.0</td>\n",
       "      <td>1.493914</td>\n",
       "      <td>1.0</td>\n",
       "      <td>0.0</td>\n",
       "      <td>0.000187</td>\n",
       "      <td>digestive</td>\n",
       "      <td>0.0</td>\n",
       "      <td>0.003468</td>\n",
       "      <td>0.060058</td>\n",
       "      <td>0.017076</td>\n",
       "    </tr>\n",
       "    <tr>\n",
       "      <th>ENSG00000003402.15</th>\n",
       "      <td>1.0</td>\n",
       "      <td>0.801254</td>\n",
       "      <td>0.388538</td>\n",
       "      <td>0.577017</td>\n",
       "      <td>1.687185</td>\n",
       "      <td>0.559807</td>\n",
       "      <td>0.668350</td>\n",
       "      <td>1.451764</td>\n",
       "      <td>1.344023</td>\n",
       "      <td>0.582698</td>\n",
       "      <td>...</td>\n",
       "      <td>0.0</td>\n",
       "      <td>1.127873</td>\n",
       "      <td>1.0</td>\n",
       "      <td>0.0</td>\n",
       "      <td>0.000169</td>\n",
       "      <td>digestive</td>\n",
       "      <td>0.0</td>\n",
       "      <td>0.006237</td>\n",
       "      <td>0.057983</td>\n",
       "      <td>0.025668</td>\n",
       "    </tr>\n",
       "    <tr>\n",
       "      <th>ENSG00000004534.10</th>\n",
       "      <td>1.0</td>\n",
       "      <td>0.676254</td>\n",
       "      <td>0.427440</td>\n",
       "      <td>0.602396</td>\n",
       "      <td>1.018185</td>\n",
       "      <td>0.584898</td>\n",
       "      <td>0.704711</td>\n",
       "      <td>1.323559</td>\n",
       "      <td>1.184023</td>\n",
       "      <td>0.372614</td>\n",
       "      <td>...</td>\n",
       "      <td>0.0</td>\n",
       "      <td>0.967191</td>\n",
       "      <td>1.0</td>\n",
       "      <td>0.0</td>\n",
       "      <td>0.000244</td>\n",
       "      <td>digestive</td>\n",
       "      <td>0.0</td>\n",
       "      <td>0.004994</td>\n",
       "      <td>0.065457</td>\n",
       "      <td>0.022199</td>\n",
       "    </tr>\n",
       "    <tr>\n",
       "      <th>ENSG00000004779.5</th>\n",
       "      <td>1.0</td>\n",
       "      <td>0.655420</td>\n",
       "      <td>0.417421</td>\n",
       "      <td>0.000000</td>\n",
       "      <td>1.010185</td>\n",
       "      <td>0.000000</td>\n",
       "      <td>0.000000</td>\n",
       "      <td>1.259456</td>\n",
       "      <td>1.184023</td>\n",
       "      <td>0.372614</td>\n",
       "      <td>...</td>\n",
       "      <td>0.0</td>\n",
       "      <td>0.910331</td>\n",
       "      <td>0.0</td>\n",
       "      <td>0.0</td>\n",
       "      <td>0.000208</td>\n",
       "      <td>digestive</td>\n",
       "      <td>0.0</td>\n",
       "      <td>0.001436</td>\n",
       "      <td>0.062947</td>\n",
       "      <td>0.008126</td>\n",
       "    </tr>\n",
       "  </tbody>\n",
       "</table>\n",
       "<p>5 rows × 128 columns</p>\n",
       "</div>"
      ],
      "text/plain": [
       "                               intercept  max_CpG_10kb  max_PHRED_10kb  \\\n",
       "subject_id gene_id                                                       \n",
       "GTEX-N7MS  ENSG00000001561.6         1.0      0.572087        0.376902   \n",
       "           ENSG00000003056.3         1.0      0.592920        0.364608   \n",
       "           ENSG00000003402.15        1.0      0.801254        0.388538   \n",
       "           ENSG00000004534.10        1.0      0.676254        0.427440   \n",
       "           ENSG00000004779.5         1.0      0.655420        0.417421   \n",
       "\n",
       "                               max_verPhCons_10kb  max_cHmmTssA_10kb  \\\n",
       "subject_id gene_id                                                     \n",
       "GTEX-N7MS  ENSG00000001561.6             0.578286           1.010185   \n",
       "           ENSG00000003056.3             0.582093           1.026185   \n",
       "           ENSG00000003402.15            0.577017           1.687185   \n",
       "           ENSG00000004534.10            0.602396           1.018185   \n",
       "           ENSG00000004779.5             0.000000           1.010185   \n",
       "\n",
       "                               max_mamPhCons_10kb  max_verPhyloP_10kb  \\\n",
       "subject_id gene_id                                                      \n",
       "GTEX-N7MS  ENSG00000001561.6             0.560247            0.672983   \n",
       "           ENSG00000003056.3             0.563769            0.676492   \n",
       "           ENSG00000003402.15            0.559807            0.668350   \n",
       "           ENSG00000004534.10            0.584898            0.704711   \n",
       "           ENSG00000004779.5             0.000000            0.000000   \n",
       "\n",
       "                               max_GC_10kb  max_EncOCpolIIPVal_10kb  \\\n",
       "subject_id gene_id                                                    \n",
       "GTEX-N7MS  ENSG00000001561.6      1.015867                 1.184023   \n",
       "           ENSG00000003056.3      1.156892                 1.184023   \n",
       "           ENSG00000003402.15     1.451764                 1.344023   \n",
       "           ENSG00000004534.10     1.323559                 1.184023   \n",
       "           ENSG00000004779.5      1.259456                 1.184023   \n",
       "\n",
       "                               max_TFBS_10kb              ...               \\\n",
       "subject_id gene_id                                        ...                \n",
       "GTEX-N7MS  ENSG00000001561.6        0.372614              ...                \n",
       "           ENSG00000003056.3        0.372614              ...                \n",
       "           ENSG00000003402.15       0.582698              ...                \n",
       "           ENSG00000004534.10       0.372614              ...                \n",
       "           ENSG00000004779.5        0.372614              ...                \n",
       "\n",
       "                               E113_general_enhancer  expression  eqtl  \\\n",
       "subject_id gene_id                                                       \n",
       "GTEX-N7MS  ENSG00000001561.6                     0.0    1.235754   1.0   \n",
       "           ENSG00000003056.3                     1.0    1.493914   1.0   \n",
       "           ENSG00000003402.15                    0.0    1.127873   1.0   \n",
       "           ENSG00000004534.10                    0.0    0.967191   1.0   \n",
       "           ENSG00000004779.5                     0.0    0.910331   0.0   \n",
       "\n",
       "                               expr_label  posterior     tissue  shared_label  \\\n",
       "subject_id gene_id                                                              \n",
       "GTEX-N7MS  ENSG00000001561.6          0.0   0.000134  digestive           0.0   \n",
       "           ENSG00000003056.3          0.0   0.000187  digestive           0.0   \n",
       "           ENSG00000003402.15         0.0   0.000169  digestive           0.0   \n",
       "           ENSG00000004534.10         0.0   0.000244  digestive           0.0   \n",
       "           ENSG00000004779.5          0.0   0.000208  digestive           0.0   \n",
       "\n",
       "                               posterior_RIVER  posterior_genome_only  \\\n",
       "subject_id gene_id                                                      \n",
       "GTEX-N7MS  ENSG00000001561.6          0.002377               0.049366   \n",
       "           ENSG00000003056.3          0.003468               0.060058   \n",
       "           ENSG00000003402.15         0.006237               0.057983   \n",
       "           ENSG00000004534.10         0.004994               0.065457   \n",
       "           ENSG00000004779.5          0.001436               0.062947   \n",
       "\n",
       "                               posterior_genome_only_shared  \n",
       "subject_id gene_id                                           \n",
       "GTEX-N7MS  ENSG00000001561.6                       0.012853  \n",
       "           ENSG00000003056.3                       0.017076  \n",
       "           ENSG00000003402.15                      0.025668  \n",
       "           ENSG00000004534.10                      0.022199  \n",
       "           ENSG00000004779.5                       0.008126  \n",
       "\n",
       "[5 rows x 128 columns]"
      ]
     },
     "execution_count": 6,
     "metadata": {},
     "output_type": "execute_result"
    }
   ],
   "source": [
    "train.head()"
   ]
  },
  {
   "cell_type": "code",
   "execution_count": 15,
   "metadata": {
    "collapsed": false
   },
   "outputs": [
    {
     "data": {
      "text/plain": [
       "(119,)"
      ]
     },
     "execution_count": 15,
     "metadata": {},
     "output_type": "execute_result"
    }
   ],
   "source": [
    "beta_children[0].shape"
   ]
  },
  {
   "cell_type": "code",
   "execution_count": 17,
   "metadata": {
    "collapsed": false
   },
   "outputs": [
    {
     "data": {
      "text/plain": [
       "(119,)"
      ]
     },
     "execution_count": 17,
     "metadata": {},
     "output_type": "execute_result"
    }
   ],
   "source": [
    "alpha.shape"
   ]
  },
  {
   "cell_type": "code",
   "execution_count": 3,
   "metadata": {
    "collapsed": true
   },
   "outputs": [],
   "source": [
    "def _river_likelihood():\n",
    "    return 1"
   ]
  },
  {
   "cell_type": "code",
   "execution_count": 4,
   "metadata": {
    "collapsed": true
   },
   "outputs": [],
   "source": [
    "def _logistic_regression_likelihood():\n",
    "    return 1"
   ]
  },
  {
   "cell_type": "code",
   "execution_count": 5,
   "metadata": {
    "collapsed": true
   },
   "outputs": [],
   "source": [
    "def _multitask_likelihood():\n",
    "    return 1"
   ]
  },
  {
   "cell_type": "code",
   "execution_count": null,
   "metadata": {
    "collapsed": true
   },
   "outputs": [],
   "source": [
    "    def log_p_beta(self):\n",
    "        '''\n",
    "            Compute P(Beta_j) = normal distribution, mean = 0, cov = sigma\n",
    "            @param: j - jth component of beta\n",
    "        '''\n",
    "        log_prob = 0\n",
    "        for j in xrange(1,self.num_g_features):\n",
    "            log_prob += np.log(scipy.stats.norm(0, self.sigma_squared).pdf(self.beta_parent[j]))\n",
    "        return log_prob\n",
    "\n",
    "    def log_p_beta_child_given_beta(self, i):\n",
    "        '''\n",
    "            Compute P(Beta_child_j | Beta_j) = normal distribution, mean = beta_j, cov = sigma_child\n",
    "            @param: i - tissue i\n",
    "            @param: j - component\n",
    "        '''\n",
    "        log_prob = 0\n",
    "        for j in xrange(1, self.num_g_features):\n",
    "            log_prob += np.log(scipy.stats.norm(self.beta_parent[j],self.sigma_squared).pdf(self.beta_children[i][j]))\n",
    "            #log_prob += np.log(scipy.stats.norm(0,self.sigma_squared).pdf(self.beta_children[i][j]))\n",
    "\n",
    "        return log_prob\n",
    "    \n",
    "    \n",
    "    \n",
    "        def eStepLocal(self, i, beta, phi):\n",
    "        '''\n",
    "           Compute expectation for tissue i\n",
    "        '''\n",
    "        # log P(Z = 1 | G)\n",
    "        log_prob_z_1_given_g = lr.log_prob(self.train_list[i][self.genomic_features].values, beta)\n",
    "        \n",
    "        # log P(Z = 0 | G)\n",
    "        log_prob_z_0_given_g = np.log(1.0 - np.exp(log_prob_z_1_given_g))\n",
    "        \n",
    "        # noisy OR\n",
    "        #log_prob_e_given_z_1 = nb.log_prob_noisyor_2_params(self.train_list[i]['expr_label'], 1, self.train_list[i][\"eqtl\"], phi)\n",
    "        #log_prob_e_given_z_0 = nb.log_prob_noisyor_2_params(self.train_list[i]['expr_label'], 0, self.train_list[i][\"eqtl\"], phi)\n",
    "\n",
    "        # naive bayes\n",
    "        log_prob_e_given_z_1 = nb.log_prob(self.train_list[i]['expr_label'].values, 1, self.phi)        \n",
    "        log_prob_e_given_z_0 = nb.log_prob(self.train_list[i]['expr_label'].values, 0, self.phi)\n",
    "        \n",
    "        log_q = log_prob_e_given_z_1 + log_prob_z_1_given_g -  np.log(np.exp(log_prob_e_given_z_0) * np.exp(log_prob_z_0_given_g) + \n",
    "            np.exp(log_prob_e_given_z_1) * np.exp(log_prob_z_1_given_g))\n",
    "        \n",
    "        return np.exp(log_q)\n",
    "\n",
    "    def eStepGlobalTest(self):\n",
    "        for i in range(self.num_test_tissues):\n",
    "            self.test_list[i]['posterior'] = self.eStepLocalTest(i, self.getBetaLeaf(i), self.phi)"
   ]
  }
 ],
 "metadata": {
  "kernelspec": {
   "display_name": "Python [Root]",
   "language": "python",
   "name": "Python [Root]"
  },
  "language_info": {
   "codemirror_mode": {
    "name": "ipython",
    "version": 3
   },
   "file_extension": ".py",
   "mimetype": "text/x-python",
   "name": "python",
   "nbconvert_exporter": "python",
   "pygments_lexer": "ipython3",
   "version": "3.5.2"
  }
 },
 "nbformat": 4,
 "nbformat_minor": 0
}
