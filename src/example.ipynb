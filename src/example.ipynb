{
 "cells": [
  {
   "cell_type": "code",
   "execution_count": 8,
   "metadata": {
    "collapsed": false
   },
   "outputs": [],
   "source": [
    "# import python packages\n",
    "import pandas as pd\n",
    "import numpy as np\n",
    "\n",
    "# import src code\n",
    "import ase_evaluation as ae\n",
    "#import benchmark_posteriors as bp\n",
    "import bootstrap as btstrp\n",
    "import cross_validation as cv\n",
    "import logistic_regression as lr\n",
    "import naive_bayes as nb\n",
    "import network as ntwk\n",
    "import process as prcs\n",
    "#import RIVER as rvr\n",
    "import simulate_data as sim\n",
    "import benchmark_posteriors as bnchmk"
   ]
  },
  {
   "cell_type": "code",
   "execution_count": 9,
   "metadata": {
    "collapsed": false
   },
   "outputs": [],
   "source": [
    "# generate simulated data\n",
    "s = sim.SimulateData(\"./test_output/\", 'with_transfer', 0.4, 0.6, 0.01)\n",
    "s._run()"
   ]
  },
  {
   "cell_type": "code",
   "execution_count": 10,
   "metadata": {
    "collapsed": false
   },
   "outputs": [],
   "source": [
    "# create a process object\n",
    "p = prcs.Process('./test_output', 0.1)\n",
    "#p = prcs.Process('../simulated_data/tied_stronger_effects/data/', 0.1)\n",
    "\n",
    "# process simulated data\n",
    "p._process_simulated_data()"
   ]
  },
  {
   "cell_type": "code",
   "execution_count": null,
   "metadata": {
    "collapsed": false
   },
   "outputs": [],
   "source": [
    "p.train_list[0].head()"
   ]
  },
  {
   "cell_type": "code",
   "execution_count": null,
   "metadata": {
    "collapsed": false
   },
   "outputs": [],
   "source": [
    "# create a bootstrap object\n",
    "b = btstrp.Bootstrap(p.train_list, p.tissues, p.genomic_features, num_simulations=2, num_folds=3)\n",
    "lambda_hp_children_dict, lambda_hp_parent = b._run_bootstrap()"
   ]
  },
  {
   "cell_type": "code",
   "execution_count": null,
   "metadata": {
    "collapsed": false
   },
   "outputs": [],
   "source": [
    "\"tissue-specific transfer factors: \", lambda_hp_children_dict, \"global transfer factor: \", lambda_hp_parent"
   ]
  },
  {
   "cell_type": "code",
   "execution_count": 11,
   "metadata": {
    "collapsed": false
   },
   "outputs": [],
   "source": [
    "n = ntwk.Network(p.train_list, p.test_list, p.tissues, p.genomic_features, \n",
    "                 with_transfer=True, output_dir=\"SPEER_output\", \n",
    "                 lambda_hp_parent = None,\n",
    "                 lambda_hp_children_dict = None,\n",
    "                 e_distribution = 'cat')\n",
    "train_list, test_list, beta_parent, beta_children, phi = n.run()"
   ]
  },
  {
   "cell_type": "code",
   "execution_count": null,
   "metadata": {
    "collapsed": false
   },
   "outputs": [],
   "source": [
    "train_list[0].head()"
   ]
  },
  {
   "cell_type": "code",
   "execution_count": 12,
   "metadata": {
    "collapsed": false
   },
   "outputs": [],
   "source": [
    "lambda_hp_children_dict = {'brain': 0.01, 'group1': 0.01, 'muscle': 0.01, 'epithelial': 0.01, 'digestive': 0.01}\n",
    "n = ntwk.Network(train_list, test_list, p.tissues, p.genomic_features, \n",
    "                 with_transfer=False, output_dir=\"SPEER_output\", \n",
    "                 lambda_hp_parent = None, \n",
    "                 lambda_hp_children_dict = lambda_hp_children_dict, \n",
    "                 e_distribution = 'cat')\n",
    "train_list, test_list, beta_parent, beta_children, phi = n.run()"
   ]
  },
  {
   "cell_type": "code",
   "execution_count": 18,
   "metadata": {
    "collapsed": false
   },
   "outputs": [
    {
     "ename": "TypeError",
     "evalue": "'NoneType' object is not iterable",
     "output_type": "error",
     "traceback": [
      "\u001b[0;31m---------------------------------------------------------------------------\u001b[0m",
      "\u001b[0;31mTypeError\u001b[0m                                 Traceback (most recent call last)",
      "\u001b[0;32m<ipython-input-18-c1d284968655>\u001b[0m in \u001b[0;36m<module>\u001b[0;34m()\u001b[0m\n\u001b[1;32m      1\u001b[0m \u001b[0mbn\u001b[0m \u001b[0;34m=\u001b[0m \u001b[0mbnchmk\u001b[0m\u001b[0;34m.\u001b[0m\u001b[0mBenchmarkPosteriors\u001b[0m\u001b[0;34m(\u001b[0m\u001b[0mtrain_list\u001b[0m\u001b[0;34m,\u001b[0m \u001b[0mtest_list\u001b[0m\u001b[0;34m,\u001b[0m \u001b[0mp\u001b[0m\u001b[0;34m.\u001b[0m\u001b[0mgenomic_features\u001b[0m\u001b[0;34m)\u001b[0m\u001b[0;34m\u001b[0m\u001b[0m\n\u001b[0;32m----> 2\u001b[0;31m \u001b[0mtrain_list\u001b[0m\u001b[0;34m,\u001b[0m \u001b[0mtest_list\u001b[0m \u001b[0;34m=\u001b[0m \u001b[0mbn\u001b[0m\u001b[0;34m.\u001b[0m\u001b[0mfit_models\u001b[0m\u001b[0;34m(\u001b[0m\u001b[0;34m)\u001b[0m\u001b[0;34m\u001b[0m\u001b[0m\n\u001b[0m",
      "\u001b[0;31mTypeError\u001b[0m: 'NoneType' object is not iterable"
     ]
    }
   ],
   "source": [
    "bn = bnchmk.BenchmarkPosteriors(train_list, test_list, p.genomic_features)\n",
    "train_list, test_list = bn.fit_models()"
   ]
  },
  {
   "cell_type": "code",
   "execution_count": 14,
   "metadata": {
    "collapsed": false
   },
   "outputs": [
    {
     "data": {
      "text/html": [
       "<div>\n",
       "<table border=\"1\" class=\"dataframe\">\n",
       "  <thead>\n",
       "    <tr style=\"text-align: right;\">\n",
       "      <th></th>\n",
       "      <th>0</th>\n",
       "      <th>1</th>\n",
       "      <th>2</th>\n",
       "      <th>3</th>\n",
       "      <th>4</th>\n",
       "      <th>5</th>\n",
       "      <th>6</th>\n",
       "      <th>7</th>\n",
       "      <th>8</th>\n",
       "      <th>9</th>\n",
       "      <th>...</th>\n",
       "      <th>20</th>\n",
       "      <th>expr_label</th>\n",
       "      <th>median_expr_label</th>\n",
       "      <th>z_label</th>\n",
       "      <th>median_z_label</th>\n",
       "      <th>SPEER</th>\n",
       "      <th>SPEER without transfer</th>\n",
       "      <th>shared tissue genome only</th>\n",
       "      <th>tissue specific genome only</th>\n",
       "      <th>tissue</th>\n",
       "    </tr>\n",
       "  </thead>\n",
       "  <tbody>\n",
       "    <tr>\n",
       "      <th>8159</th>\n",
       "      <td>1.0</td>\n",
       "      <td>0.398283</td>\n",
       "      <td>0.496448</td>\n",
       "      <td>0.223423</td>\n",
       "      <td>0.005750</td>\n",
       "      <td>0.325915</td>\n",
       "      <td>0.631388</td>\n",
       "      <td>0.320516</td>\n",
       "      <td>0.399818</td>\n",
       "      <td>0.897504</td>\n",
       "      <td>...</td>\n",
       "      <td>0.741222</td>\n",
       "      <td>1</td>\n",
       "      <td>0</td>\n",
       "      <td>0</td>\n",
       "      <td>0</td>\n",
       "      <td>0.002032</td>\n",
       "      <td>0.008334</td>\n",
       "      <td>0.012686</td>\n",
       "      <td>0.424749</td>\n",
       "      <td>brain</td>\n",
       "    </tr>\n",
       "    <tr>\n",
       "      <th>6332</th>\n",
       "      <td>1.0</td>\n",
       "      <td>0.310709</td>\n",
       "      <td>0.942876</td>\n",
       "      <td>0.239702</td>\n",
       "      <td>0.108149</td>\n",
       "      <td>0.797971</td>\n",
       "      <td>0.846226</td>\n",
       "      <td>0.860231</td>\n",
       "      <td>0.267768</td>\n",
       "      <td>0.618295</td>\n",
       "      <td>...</td>\n",
       "      <td>0.390748</td>\n",
       "      <td>0</td>\n",
       "      <td>0</td>\n",
       "      <td>0</td>\n",
       "      <td>0</td>\n",
       "      <td>0.001661</td>\n",
       "      <td>0.003489</td>\n",
       "      <td>0.013848</td>\n",
       "      <td>0.464231</td>\n",
       "      <td>brain</td>\n",
       "    </tr>\n",
       "    <tr>\n",
       "      <th>8895</th>\n",
       "      <td>1.0</td>\n",
       "      <td>0.426903</td>\n",
       "      <td>0.653419</td>\n",
       "      <td>0.891579</td>\n",
       "      <td>0.071327</td>\n",
       "      <td>0.821819</td>\n",
       "      <td>0.487696</td>\n",
       "      <td>0.951512</td>\n",
       "      <td>0.909627</td>\n",
       "      <td>0.499259</td>\n",
       "      <td>...</td>\n",
       "      <td>0.755605</td>\n",
       "      <td>0</td>\n",
       "      <td>0</td>\n",
       "      <td>0</td>\n",
       "      <td>0</td>\n",
       "      <td>0.013962</td>\n",
       "      <td>0.000439</td>\n",
       "      <td>0.050616</td>\n",
       "      <td>0.467053</td>\n",
       "      <td>brain</td>\n",
       "    </tr>\n",
       "    <tr>\n",
       "      <th>5351</th>\n",
       "      <td>1.0</td>\n",
       "      <td>0.694429</td>\n",
       "      <td>0.317972</td>\n",
       "      <td>0.739563</td>\n",
       "      <td>0.503240</td>\n",
       "      <td>0.682732</td>\n",
       "      <td>0.862864</td>\n",
       "      <td>0.071619</td>\n",
       "      <td>0.569904</td>\n",
       "      <td>0.072986</td>\n",
       "      <td>...</td>\n",
       "      <td>0.829675</td>\n",
       "      <td>0</td>\n",
       "      <td>0</td>\n",
       "      <td>0</td>\n",
       "      <td>0</td>\n",
       "      <td>0.115543</td>\n",
       "      <td>0.000010</td>\n",
       "      <td>0.007895</td>\n",
       "      <td>0.345829</td>\n",
       "      <td>brain</td>\n",
       "    </tr>\n",
       "    <tr>\n",
       "      <th>4314</th>\n",
       "      <td>1.0</td>\n",
       "      <td>0.083574</td>\n",
       "      <td>0.708506</td>\n",
       "      <td>0.144303</td>\n",
       "      <td>0.614994</td>\n",
       "      <td>0.856661</td>\n",
       "      <td>0.673351</td>\n",
       "      <td>0.015961</td>\n",
       "      <td>0.647787</td>\n",
       "      <td>0.454005</td>\n",
       "      <td>...</td>\n",
       "      <td>0.816384</td>\n",
       "      <td>0</td>\n",
       "      <td>0</td>\n",
       "      <td>0</td>\n",
       "      <td>0</td>\n",
       "      <td>0.440379</td>\n",
       "      <td>0.007265</td>\n",
       "      <td>0.033471</td>\n",
       "      <td>0.418360</td>\n",
       "      <td>brain</td>\n",
       "    </tr>\n",
       "  </tbody>\n",
       "</table>\n",
       "<p>5 rows × 30 columns</p>\n",
       "</div>"
      ],
      "text/plain": [
       "        0         1         2         3         4         5         6  \\\n",
       "8159  1.0  0.398283  0.496448  0.223423  0.005750  0.325915  0.631388   \n",
       "6332  1.0  0.310709  0.942876  0.239702  0.108149  0.797971  0.846226   \n",
       "8895  1.0  0.426903  0.653419  0.891579  0.071327  0.821819  0.487696   \n",
       "5351  1.0  0.694429  0.317972  0.739563  0.503240  0.682732  0.862864   \n",
       "4314  1.0  0.083574  0.708506  0.144303  0.614994  0.856661  0.673351   \n",
       "\n",
       "             7         8         9   ...          20  expr_label  \\\n",
       "8159  0.320516  0.399818  0.897504   ...    0.741222           1   \n",
       "6332  0.860231  0.267768  0.618295   ...    0.390748           0   \n",
       "8895  0.951512  0.909627  0.499259   ...    0.755605           0   \n",
       "5351  0.071619  0.569904  0.072986   ...    0.829675           0   \n",
       "4314  0.015961  0.647787  0.454005   ...    0.816384           0   \n",
       "\n",
       "      median_expr_label  z_label  median_z_label     SPEER  \\\n",
       "8159                  0        0               0  0.002032   \n",
       "6332                  0        0               0  0.001661   \n",
       "8895                  0        0               0  0.013962   \n",
       "5351                  0        0               0  0.115543   \n",
       "4314                  0        0               0  0.440379   \n",
       "\n",
       "      SPEER without transfer  shared tissue genome only  \\\n",
       "8159                0.008334                   0.012686   \n",
       "6332                0.003489                   0.013848   \n",
       "8895                0.000439                   0.050616   \n",
       "5351                0.000010                   0.007895   \n",
       "4314                0.007265                   0.033471   \n",
       "\n",
       "      tissue specific genome only  tissue  \n",
       "8159                     0.424749   brain  \n",
       "6332                     0.464231   brain  \n",
       "8895                     0.467053   brain  \n",
       "5351                     0.345829   brain  \n",
       "4314                     0.418360   brain  \n",
       "\n",
       "[5 rows x 30 columns]"
      ]
     },
     "execution_count": 14,
     "metadata": {},
     "output_type": "execute_result"
    }
   ],
   "source": [
    "train_list[0].head()"
   ]
  },
  {
   "cell_type": "code",
   "execution_count": 16,
   "metadata": {
    "collapsed": false
   },
   "outputs": [
    {
     "name": "stdout",
     "output_type": "stream",
     "text": [
      "0.956462445614 0.909309527637 0.878462531284 0.886400248235\n",
      "0.953230904317 0.861780868185 0.850184204187 0.877928784695\n",
      "0.955591826384 0.838871416966 0.892336475331 0.885954844293\n",
      "0.954174737822 0.888998406365 0.888931507087 0.876364309868\n",
      "0.954830748182 0.830268423252 0.853996210307 0.87994036646\n"
     ]
    }
   ],
   "source": [
    "import sklearn\n",
    "from sklearn import metrics\n",
    "for i in range(5):\n",
    "    print(sklearn.metrics.roc_auc_score(test_list[i][\"z_label\"], test_list[i][\"SPEER\"]),\n",
    "          sklearn.metrics.roc_auc_score(test_list[i][\"z_label\"], test_list[i][\"SPEER without transfer\"]),\n",
    "          sklearn.metrics.roc_auc_score(test_list[i][\"z_label\"], test_list[i][\"tissue specific genome only\"]),\n",
    "          sklearn.metrics.roc_auc_score(test_list[i][\"z_label\"], test_list[i][\"shared tissue genome only\"]))"
   ]
  },
  {
   "cell_type": "code",
   "execution_count": null,
   "metadata": {
    "collapsed": false
   },
   "outputs": [],
   "source": [
    "sklearn.metrics.roc_auc_score(test_list[0][\"z_labels\"], test_list[0][\"SPEER without transfer\"])"
   ]
  },
  {
   "cell_type": "code",
   "execution_count": 17,
   "metadata": {
    "collapsed": true
   },
   "outputs": [],
   "source": [
    "bn = bnchmk.BenchmarkPosteriors(p.train_list, p.test_list, p.genomic_features)"
   ]
  },
  {
   "cell_type": "code",
   "execution_count": null,
   "metadata": {
    "collapsed": true
   },
   "outputs": [],
   "source": []
  }
 ],
 "metadata": {
  "anaconda-cloud": {},
  "kernelspec": {
   "display_name": "Python [Root]",
   "language": "python",
   "name": "Python [Root]"
  },
  "language_info": {
   "codemirror_mode": {
    "name": "ipython",
    "version": 3
   },
   "file_extension": ".py",
   "mimetype": "text/x-python",
   "name": "python",
   "nbconvert_exporter": "python",
   "pygments_lexer": "ipython3",
   "version": "3.5.2"
  }
 },
 "nbformat": 4,
 "nbformat_minor": 0
}
