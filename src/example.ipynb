{
 "cells": [
  {
   "cell_type": "markdown",
   "metadata": {},
   "source": [
    "## A walkthrough of the SPEER pipeline."
   ]
  },
  {
   "cell_type": "code",
   "execution_count": 1,
   "metadata": {
    "collapsed": false
   },
   "outputs": [],
   "source": [
    "import pandas as pd\n",
    "import numpy as np\n",
    "\n",
    "# import src code\n",
    "import ase_evaluation as ae\n",
    "#import benchmark_posteriors as bp\n",
    "import bootstrap as btstrp\n",
    "import cross_validation as cv\n",
    "import logistic_regression as lr\n",
    "import naive_bayes as nb\n",
    "import network as ntwk\n",
    "import process as prcs\n",
    "#import RIVER as rvr\n",
    "import simulate_data as sim\n",
    "import benchmark_posteriors as bnchmk\n",
    "import RIVER as river\n",
    "import sklearn\n",
    "from sklearn import metrics"
   ]
  },
  {
   "cell_type": "markdown",
   "metadata": {},
   "source": [
    "### Simulate data"
   ]
  },
  {
   "cell_type": "code",
   "execution_count": 27,
   "metadata": {
    "collapsed": false
   },
   "outputs": [],
   "source": [
    "s = sim.SimulateData(\"./test_output/\", 'with_transfer', 0.4, 0.6, 0.01)\n",
    "s._run()\n",
    "\n",
    "# create a process object\n",
    "p = prcs.Process('./test_output/', 0.1)\n",
    "p._process_simulated_data()"
   ]
  },
  {
   "cell_type": "code",
   "execution_count": 4,
   "metadata": {
    "collapsed": false
   },
   "outputs": [
    {
     "data": {
      "text/plain": [
       "['brain', 'group1', 'muscle', 'epithelial', 'digestive']"
      ]
     },
     "execution_count": 4,
     "metadata": {},
     "output_type": "execute_result"
    }
   ],
   "source": [
    "p.tissues"
   ]
  },
  {
   "cell_type": "code",
   "execution_count": 8,
   "metadata": {
    "collapsed": false
   },
   "outputs": [
    {
     "data": {
      "text/html": [
       "<div>\n",
       "<table border=\"1\" class=\"dataframe\">\n",
       "  <thead>\n",
       "    <tr style=\"text-align: right;\">\n",
       "      <th></th>\n",
       "      <th>0</th>\n",
       "      <th>1</th>\n",
       "      <th>2</th>\n",
       "      <th>3</th>\n",
       "      <th>4</th>\n",
       "      <th>5</th>\n",
       "      <th>6</th>\n",
       "      <th>7</th>\n",
       "      <th>8</th>\n",
       "      <th>9</th>\n",
       "      <th>...</th>\n",
       "      <th>expr_label</th>\n",
       "      <th>median_expr_label</th>\n",
       "      <th>z_label</th>\n",
       "      <th>median_z_label</th>\n",
       "      <th>SPEER</th>\n",
       "      <th>SPEER without transfer</th>\n",
       "      <th>RIVER</th>\n",
       "      <th>shared tissue genome only</th>\n",
       "      <th>tissue specific genome only</th>\n",
       "      <th>tissue</th>\n",
       "    </tr>\n",
       "  </thead>\n",
       "  <tbody>\n",
       "    <tr>\n",
       "      <th>8159</th>\n",
       "      <td>1.0</td>\n",
       "      <td>0.233208</td>\n",
       "      <td>0.941775</td>\n",
       "      <td>0.344153</td>\n",
       "      <td>0.241151</td>\n",
       "      <td>0.454677</td>\n",
       "      <td>0.008107</td>\n",
       "      <td>0.318218</td>\n",
       "      <td>0.962903</td>\n",
       "      <td>0.620152</td>\n",
       "      <td>...</td>\n",
       "      <td>0</td>\n",
       "      <td>0</td>\n",
       "      <td>0</td>\n",
       "      <td>0</td>\n",
       "      <td>-1</td>\n",
       "      <td>-1</td>\n",
       "      <td>-1</td>\n",
       "      <td>-1</td>\n",
       "      <td>-1</td>\n",
       "      <td>brain</td>\n",
       "    </tr>\n",
       "    <tr>\n",
       "      <th>6332</th>\n",
       "      <td>1.0</td>\n",
       "      <td>0.242590</td>\n",
       "      <td>0.018061</td>\n",
       "      <td>0.695752</td>\n",
       "      <td>0.948027</td>\n",
       "      <td>0.013553</td>\n",
       "      <td>0.558200</td>\n",
       "      <td>0.556575</td>\n",
       "      <td>0.847465</td>\n",
       "      <td>0.306071</td>\n",
       "      <td>...</td>\n",
       "      <td>1</td>\n",
       "      <td>0</td>\n",
       "      <td>0</td>\n",
       "      <td>0</td>\n",
       "      <td>-1</td>\n",
       "      <td>-1</td>\n",
       "      <td>-1</td>\n",
       "      <td>-1</td>\n",
       "      <td>-1</td>\n",
       "      <td>brain</td>\n",
       "    </tr>\n",
       "    <tr>\n",
       "      <th>8895</th>\n",
       "      <td>1.0</td>\n",
       "      <td>0.829874</td>\n",
       "      <td>0.614525</td>\n",
       "      <td>0.005478</td>\n",
       "      <td>0.047789</td>\n",
       "      <td>0.169802</td>\n",
       "      <td>0.898100</td>\n",
       "      <td>0.920814</td>\n",
       "      <td>0.585368</td>\n",
       "      <td>0.296906</td>\n",
       "      <td>...</td>\n",
       "      <td>0</td>\n",
       "      <td>0</td>\n",
       "      <td>0</td>\n",
       "      <td>0</td>\n",
       "      <td>-1</td>\n",
       "      <td>-1</td>\n",
       "      <td>-1</td>\n",
       "      <td>-1</td>\n",
       "      <td>-1</td>\n",
       "      <td>brain</td>\n",
       "    </tr>\n",
       "    <tr>\n",
       "      <th>5351</th>\n",
       "      <td>1.0</td>\n",
       "      <td>0.639045</td>\n",
       "      <td>0.474632</td>\n",
       "      <td>0.202959</td>\n",
       "      <td>0.501118</td>\n",
       "      <td>0.688190</td>\n",
       "      <td>0.512928</td>\n",
       "      <td>0.020292</td>\n",
       "      <td>0.673802</td>\n",
       "      <td>0.435826</td>\n",
       "      <td>...</td>\n",
       "      <td>1</td>\n",
       "      <td>0</td>\n",
       "      <td>0</td>\n",
       "      <td>0</td>\n",
       "      <td>-1</td>\n",
       "      <td>-1</td>\n",
       "      <td>-1</td>\n",
       "      <td>-1</td>\n",
       "      <td>-1</td>\n",
       "      <td>brain</td>\n",
       "    </tr>\n",
       "    <tr>\n",
       "      <th>4314</th>\n",
       "      <td>1.0</td>\n",
       "      <td>0.519206</td>\n",
       "      <td>0.691351</td>\n",
       "      <td>0.406914</td>\n",
       "      <td>0.211778</td>\n",
       "      <td>0.866877</td>\n",
       "      <td>0.226372</td>\n",
       "      <td>0.672933</td>\n",
       "      <td>0.108786</td>\n",
       "      <td>0.142141</td>\n",
       "      <td>...</td>\n",
       "      <td>1</td>\n",
       "      <td>0</td>\n",
       "      <td>0</td>\n",
       "      <td>0</td>\n",
       "      <td>-1</td>\n",
       "      <td>-1</td>\n",
       "      <td>-1</td>\n",
       "      <td>-1</td>\n",
       "      <td>-1</td>\n",
       "      <td>brain</td>\n",
       "    </tr>\n",
       "  </tbody>\n",
       "</table>\n",
       "<p>5 rows × 31 columns</p>\n",
       "</div>"
      ],
      "text/plain": [
       "        0         1         2         3         4         5         6  \\\n",
       "8159  1.0  0.233208  0.941775  0.344153  0.241151  0.454677  0.008107   \n",
       "6332  1.0  0.242590  0.018061  0.695752  0.948027  0.013553  0.558200   \n",
       "8895  1.0  0.829874  0.614525  0.005478  0.047789  0.169802  0.898100   \n",
       "5351  1.0  0.639045  0.474632  0.202959  0.501118  0.688190  0.512928   \n",
       "4314  1.0  0.519206  0.691351  0.406914  0.211778  0.866877  0.226372   \n",
       "\n",
       "             7         8         9   ...    expr_label  median_expr_label  \\\n",
       "8159  0.318218  0.962903  0.620152   ...             0                  0   \n",
       "6332  0.556575  0.847465  0.306071   ...             1                  0   \n",
       "8895  0.920814  0.585368  0.296906   ...             0                  0   \n",
       "5351  0.020292  0.673802  0.435826   ...             1                  0   \n",
       "4314  0.672933  0.108786  0.142141   ...             1                  0   \n",
       "\n",
       "      z_label  median_z_label  SPEER  SPEER without transfer  RIVER  \\\n",
       "8159        0               0     -1                      -1     -1   \n",
       "6332        0               0     -1                      -1     -1   \n",
       "8895        0               0     -1                      -1     -1   \n",
       "5351        0               0     -1                      -1     -1   \n",
       "4314        0               0     -1                      -1     -1   \n",
       "\n",
       "      shared tissue genome only  tissue specific genome only  tissue  \n",
       "8159                         -1                           -1   brain  \n",
       "6332                         -1                           -1   brain  \n",
       "8895                         -1                           -1   brain  \n",
       "5351                         -1                           -1   brain  \n",
       "4314                         -1                           -1   brain  \n",
       "\n",
       "[5 rows x 31 columns]"
      ]
     },
     "execution_count": 8,
     "metadata": {},
     "output_type": "execute_result"
    }
   ],
   "source": [
    "p.train_list[0].head()"
   ]
  },
  {
   "cell_type": "markdown",
   "metadata": {},
   "source": [
    "### Bootstrap $\\{\\lambda_{1:M}, \\Lambda\\}$"
   ]
  },
  {
   "cell_type": "code",
   "execution_count": 9,
   "metadata": {
    "collapsed": false
   },
   "outputs": [
    {
     "name": "stdout",
     "output_type": "stream",
     "text": [
      "tissue:  0\n",
      "tissue:  1\n",
      "tissue:  2\n",
      "tissue:  3\n",
      "tissue:  4\n"
     ]
    }
   ],
   "source": [
    "# create a bootstrap object\n",
    "b = btstrp.Bootstrap(p.train_list, p.tissues, p.genomic_features, num_simulations=2, num_folds=3)\n",
    "lambda_hp_children_dict, lambda_hp_parent = b._run_bootstrap()"
   ]
  },
  {
   "cell_type": "code",
   "execution_count": 11,
   "metadata": {
    "collapsed": false
   },
   "outputs": [
    {
     "data": {
      "text/plain": [
       "('tissue-specific transfer factors: ',\n",
       " {'brain': 7.4172971971631014,\n",
       "  'digestive': 7.3886612982907165,\n",
       "  'epithelial': 11.435711558323156,\n",
       "  'group1': 17.323054124623582,\n",
       "  'muscle': 6.1983994384518892},\n",
       " 'global transfer factor: ',\n",
       " 32.038242453902434)"
      ]
     },
     "execution_count": 11,
     "metadata": {},
     "output_type": "execute_result"
    }
   ],
   "source": [
    "\"tissue-specific transfer factors: \", lambda_hp_children_dict, \"global transfer factor: \", lambda_hp_parent"
   ]
  },
  {
   "cell_type": "markdown",
   "metadata": {},
   "source": [
    "### Compute SPEER scores"
   ]
  },
  {
   "cell_type": "code",
   "execution_count": 13,
   "metadata": {
    "collapsed": false
   },
   "outputs": [],
   "source": [
    "n = ntwk.Network(p.train_list, p.test_list, p.tissues, p.genomic_features, \n",
    "                 with_transfer=True, output_dir=\"SPEER_output\", \n",
    "                 lambda_hp_parent = None,\n",
    "                 lambda_hp_children_dict = None,\n",
    "                 e_distribution = 'cat')\n",
    "train_list, test_list, beta_parent, beta_children, phi = n.run()"
   ]
  },
  {
   "cell_type": "markdown",
   "metadata": {},
   "source": [
    "### Compute SPEER scores without transfer"
   ]
  },
  {
   "cell_type": "code",
   "execution_count": 16,
   "metadata": {
    "collapsed": false
   },
   "outputs": [],
   "source": [
    "lambda_hp_children_dict = {'brain': 0.01, 'group1': 0.01, 'muscle': 0.01, 'epithelial': 0.01, 'digestive': 0.01}\n",
    "n = ntwk.Network(train_list, test_list, p.tissues, p.genomic_features, \n",
    "                 with_transfer=False, output_dir=\"SPEER_output\", \n",
    "                 lambda_hp_parent = None, \n",
    "                 lambda_hp_children_dict = lambda_hp_children_dict, \n",
    "                 e_distribution = 'cat')\n",
    "train_list, test_list, beta_parent, beta_children, phi = n.run()"
   ]
  },
  {
   "cell_type": "markdown",
   "metadata": {},
   "source": [
    "### Compute RIVER scores"
   ]
  },
  {
   "cell_type": "code",
   "execution_count": 17,
   "metadata": {
    "collapsed": false
   },
   "outputs": [],
   "source": [
    "n = river.River(p.train_list, p.test_list, p.genomic_features, output_dir='RIVER_output')\n",
    "train_list, test_list, beta_parent_river, beta_children_river, phi_river = n.run()"
   ]
  },
  {
   "cell_type": "code",
   "execution_count": 24,
   "metadata": {
    "collapsed": false
   },
   "outputs": [
    {
     "data": {
      "text/plain": [
       "0.94205400661967387"
      ]
     },
     "execution_count": 24,
     "metadata": {},
     "output_type": "execute_result"
    }
   ],
   "source": [
    "sklearn.metrics.roc_auc_score(train_list[4][\"z_label\"], train_list[4][\"SPEER\"])"
   ]
  },
  {
   "cell_type": "markdown",
   "metadata": {
    "collapsed": true
   },
   "source": [
    "### Compute other benchmark scores (tissue-specific and shared tissue genomic annotation only models)"
   ]
  },
  {
   "cell_type": "code",
   "execution_count": 25,
   "metadata": {
    "collapsed": false
   },
   "outputs": [],
   "source": [
    "bn = bnchmk.BenchmarkPosteriors(train_list, test_list, p.genomic_features)\n",
    "train_list, test_list = bn.fit_models()"
   ]
  },
  {
   "cell_type": "markdown",
   "metadata": {
    "collapsed": false
   },
   "source": [
    "## Evaluation"
   ]
  },
  {
   "cell_type": "code",
   "execution_count": 26,
   "metadata": {
    "collapsed": false
   },
   "outputs": [
    {
     "name": "stdout",
     "output_type": "stream",
     "text": [
      "0.95047487657 0.890294492783 0.813036406413 0.6107610649\n",
      "0.95631492253 0.759544636676 0.763091388747 0.598111371825\n",
      "0.956264995565 0.784310469004 0.752917098734 0.608893084034\n",
      "0.953893473163 0.522345026131 0.383862746657 0.610069808413\n",
      "0.951750000962 0.760310220633 0.698271041987 0.60107907311\n"
     ]
    }
   ],
   "source": [
    "\n",
    "for i in range(5):\n",
    "    print(sklearn.metrics.roc_auc_score(test_list[i][\"z_label\"], test_list[i][\"SPEER\"]),\n",
    "          sklearn.metrics.roc_auc_score(test_list[i][\"z_label\"], test_list[i][\"SPEER without transfer\"]),\n",
    "          sklearn.metrics.roc_auc_score(test_list[i][\"z_label\"], test_list[i][\"tissue specific genome only\"]),\n",
    "          sklearn.metrics.roc_auc_score(test_list[i][\"z_label\"], test_list[i][\"shared tissue genome only\"]))"
   ]
  }
 ],
 "metadata": {
  "anaconda-cloud": {},
  "kernelspec": {
   "display_name": "Python [Root]",
   "language": "python",
   "name": "Python [Root]"
  },
  "language_info": {
   "codemirror_mode": {
    "name": "ipython",
    "version": 3
   },
   "file_extension": ".py",
   "mimetype": "text/x-python",
   "name": "python",
   "nbconvert_exporter": "python",
   "pygments_lexer": "ipython3",
   "version": "3.5.2"
  }
 },
 "nbformat": 4,
 "nbformat_minor": 0
}
