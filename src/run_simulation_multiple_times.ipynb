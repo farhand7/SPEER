{
 "cells": [
  {
   "cell_type": "code",
   "execution_count": 5,
   "metadata": {
    "collapsed": true
   },
   "outputs": [],
   "source": [
    "# import python packages\n",
    "import pandas as pd\n",
    "import numpy as np\n",
    "\n",
    "# import src code\n",
    "import ase_evaluation as ae\n",
    "#import benchmark_posteriors as bp\n",
    "import bootstrap as btstrp\n",
    "import cross_validation as cv\n",
    "import logistic_regression as lr\n",
    "import naive_bayes as nb\n",
    "import network as ntwk\n",
    "import process as prcs\n",
    "#import RIVER as rvr\n",
    "import simulate_data as sim\n",
    "from scipy import interp\n",
    "\n",
    "import matplotlib.pyplot as plt\n",
    "import seaborn as sns\n",
    "import benchmark_posteriors as bnchmk\n",
    "import sklearn"
   ]
  },
  {
   "cell_type": "code",
   "execution_count": null,
   "metadata": {
    "collapsed": false
   },
   "outputs": [],
   "source": [
    "test_data = []\n",
    "models = ['SPEER', 'SPEER without transfer', 'tissue specific genome only', 'shared tissue genome only']\n",
    "fpr, tpr, auc, mean_tpr, mean_fpr, mean_auc = {}, {}, {}, {}, {}, {}\n",
    "for i in range(2):\n",
    "    # generate simulated data\n",
    "    s = sim.SimulateData(\"./test_output/\", 'with_transfer', 0.4, 0.6, 0.01)\n",
    "    s._run()\n",
    "    \n",
    "    # create a process object\n",
    "    p = prcs.Process('./test_output', 0.1)\n",
    "    p._process_simulated_data()\n",
    "    # run SPEER\n",
    "    n = ntwk.Network(p.train_list, p.test_list, p.tissues, p.genomic_features, \n",
    "                 with_transfer=True, output_dir=\"SPEER_output\", \n",
    "                 lambda_hp_parent = None,\n",
    "                 lambda_hp_children_dict = None,\n",
    "                 e_distribution = 'cat')\n",
    "    train_list, test_list, beta_parent, beta_children, phi = n.run()\n",
    "    \n",
    "    # run SPEER without transfer\n",
    "    lambda_hp_children_dict = {'brain': 0.01, 'group1': 0.01, 'muscle': 0.01, 'epithelial': 0.01, 'digestive': 0.01}\n",
    "    n = ntwk.Network(train_list, test_list, p.tissues, p.genomic_features, \n",
    "                     with_transfer=False, output_dir=\"SPEER_output\", \n",
    "                     lambda_hp_parent = None, \n",
    "                     lambda_hp_children_dict = lambda_hp_children_dict, \n",
    "                     e_distribution = 'cat')\n",
    "    train_list, test_list, beta_parent, beta_children, phi = n.run()\n",
    "    \n",
    "    # add benchmarks \n",
    "    bn = bnchmk.BenchmarkPosteriors(train_list, test_list, p.genomic_features)\n",
    "    train_list, test_list = bn.fit_models() \n",
    "    \n",
    "    for model in models:\n",
    "        mean_tpr[model] = {}\n",
    "        mean_fpr[model] = {}\n",
    "        mean_auc[model] = {}\n",
    "\n",
    "        auc = 0\n",
    "        fpr_local, tpr_local, auc_local = {}, {}, {}\n",
    "        # for each tissue\n",
    "        for j in range(len(test_list)):\n",
    "            fpr_local[j], tpr_local[j], _ = sklearn.metrics.roc_curve(test_list[j][\"z_label\"], test_list[j][model])\n",
    "            auc_local[j] = sklearn.metrics.roc_auc_score(test_list[j][\"z_label\"], test_list[j][model])\n",
    "        mean_tpr[model][i] = 0.0\n",
    "        mean_fpr[model][i] = np.linspace(0,1,100)\n",
    "        for j in range(len(test_list)):\n",
    "            mean_tpr[model][i] += interp(mean_fpr[model][i], fpr_local[j], tpr_local[j])\n",
    "            mean_tpr[model][i][0] = 0.0\n",
    "        mean_tpr[model][i] /= len(test_list)\n",
    "        mean_tpr[model][i][-1] = 1.0\n",
    "        mean_auc[model][i] = sklearn.metrics.auc(mean_fpr[model][i], mean_tpr[model][i])\n",
    "    #test_data.append(test_list)\n",
    "    print(i)"
   ]
  },
  {
   "cell_type": "code",
   "execution_count": null,
   "metadata": {
    "collapsed": false
   },
   "outputs": [],
   "source": [
    "%matplotlib inline\n",
    "fig = plt.figure(figsize=(10,10))\n",
    "num_sims = 1\n",
    "colors = ['green', 'blue', 'red', 'yellow', 'grey']\n",
    "for ind,model in enumerate(models):\n",
    "    mean_tpr_global = 0.0\n",
    "    mean_fpr_global = np.linspace(0,1,100)\n",
    "    for i in range(num_sims):\n",
    "        fpr = mean_fpr[model][i]\n",
    "        tpr = mean_tpr[model][i]\n",
    "        ax = plt.plot(fpr, tpr, linewidth=1, c=colors[ind])\n",
    "\n",
    "        \n",
    "        mean_tpr_global += interp(mean_fpr_global, fpr, tpr)\n",
    "        mean_tpr_global[0] = 0.0\n",
    "        \n",
    "    mean_tpr_global /= num_sims\n",
    "    mean_tpr_global[-1] = 1.0\n",
    "    auc_global = sklearn.metrics.auc(mean_fpr_global, mean_tpr_global)\n",
    "    ax = plt.plot(mean_fpr_global, mean_tpr_global, label=' {0:0.3f}'\n",
    "              ''.format(auc_global), linewidth=3, c=colors[ind])\n",
    "\n",
    "ax = plt.plot([0,1], [0,1], 'k--')\n",
    "plt.xlim([0.0, 1.0])\n",
    "plt.ylim([0.0, 1.05])\n",
    "plt.xlabel('False Positive Rate', fontsize=20)\n",
    "sns.set_context(\"paper\")\n",
    "sns.set_palette(\"deep\")\n",
    "sns.set(font='serif')\n",
    "sns.set_style(\"white\", {\"font.family\": \"serif\", \"font.serif\": [\"Times\", \"Palatino\", \"serif\"]})\n",
    "#ax.spines['top'].set_visible(False)\n",
    "#ax.spines['right'].set_visible(False)\n",
    "plt.ylabel('True Positive Rate', fontsize=20)\n",
    "#plt.title('Receiver operating characteristic')\n",
    "plt.legend(loc=\"lower right\", frameon=False, prop={'size':16})\n",
    "plt.tight_layout()"
   ]
  },
  {
   "cell_type": "code",
   "execution_count": null,
   "metadata": {
    "collapsed": true
   },
   "outputs": [],
   "source": []
  }
 ],
 "metadata": {
  "anaconda-cloud": {},
  "kernelspec": {
   "display_name": "Python [Root]",
   "language": "python",
   "name": "Python [Root]"
  },
  "language_info": {
   "codemirror_mode": {
    "name": "ipython",
    "version": 3
   },
   "file_extension": ".py",
   "mimetype": "text/x-python",
   "name": "python",
   "nbconvert_exporter": "python",
   "pygments_lexer": "ipython3",
   "version": "3.5.2"
  }
 },
 "nbformat": 4,
 "nbformat_minor": 0
}
