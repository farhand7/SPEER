{
 "cells": [
  {
   "cell_type": "code",
   "execution_count": 1,
   "metadata": {
    "collapsed": true
   },
   "outputs": [],
   "source": [
    "# import python packages\n",
    "import pandas as pd\n",
    "import numpy as np\n",
    "\n",
    "# import src code\n",
    "import ase_evaluation as ae\n",
    "#import benchmark_posteriors as bp\n",
    "import bootstrap as btstrp\n",
    "import cross_validation as cv\n",
    "import logistic_regression as lr\n",
    "import naive_bayes as nb\n",
    "import network as ntwk\n",
    "import process as prcs\n",
    "#import RIVER as rvr\n",
    "import simulate_data as sim\n",
    "from scipy import interp\n",
    "\n",
    "import matplotlib.pyplot as plt\n",
    "import seaborn as sns\n",
    "import benchmark_posteriors as bnchmk\n",
    "import sklearn\n",
    "import RIVER as river"
   ]
  },
  {
   "cell_type": "code",
   "execution_count": 5,
   "metadata": {
    "collapsed": true
   },
   "outputs": [],
   "source": [
    "s = sim.SimulateData(\"./test_output/\", 'with_transfer', 0.4, 0.6, 0.01)\n",
    "s._run()\n",
    "\n",
    "# create a process object\n",
    "p = prcs.Process('./test_output', 0.1)\n",
    "p._process_simulated_data()"
   ]
  },
  {
   "cell_type": "code",
   "execution_count": 8,
   "metadata": {
    "collapsed": false
   },
   "outputs": [
    {
     "data": {
      "text/plain": [
       "Index([                            0,                             1,\n",
       "                                   2,                             3,\n",
       "                                   4,                             5,\n",
       "                                   6,                             7,\n",
       "                                   8,                             9,\n",
       "                                  10,                            11,\n",
       "                                  12,                            13,\n",
       "                                  14,                            15,\n",
       "                                  16,                            17,\n",
       "                                  18,                            19,\n",
       "                                  20,                  'expr_label',\n",
       "                 'median_expr_label',                     'z_label',\n",
       "                    'median_z_label',                       'SPEER',\n",
       "            'SPEER without transfer',                       'RIVER',\n",
       "         'shared tissue genome only', 'tissue specific genome only',\n",
       "                            'tissue'],\n",
       "      dtype='object')"
      ]
     },
     "execution_count": 8,
     "metadata": {},
     "output_type": "execute_result"
    }
   ],
   "source": [
    "p.train_list[0].columns"
   ]
  },
  {
   "cell_type": "code",
   "execution_count": null,
   "metadata": {
    "collapsed": false
   },
   "outputs": [],
   "source": [
    "s.z.head()"
   ]
  },
  {
   "cell_type": "code",
   "execution_count": null,
   "metadata": {
    "collapsed": false
   },
   "outputs": [],
   "source": [
    "for i in range(10):  \n",
    "    s = sim.SimulateData(\"./test_output/\", 'without_transfer', 0.4, 0.6, 0.01)\n",
    "    s._run()\n",
    "    x = []\n",
    "    isGood = True\n",
    "    for col in s.z.columns:\n",
    "        x.append(np.count_nonzero(s.z[col]) / len(s.z[col]))\n",
    "    for num in x:\n",
    "        if num <= 0.01 or num >= 0.99:\n",
    "            isGood = False\n",
    "            break\n",
    "    if isGood:\n",
    "        print(\"winner\")\n",
    "        print(x)\n",
    "        break"
   ]
  },
  {
   "cell_type": "code",
   "execution_count": 3,
   "metadata": {
    "collapsed": false
   },
   "outputs": [
    {
     "name": "stdout",
     "output_type": "stream",
     "text": [
      "[0.8278, 0.0324, 0.0002, 0.9972, 0.0141]\n",
      "[1.0, 0.1603, 0.9925, 0.8202, 0.1967]\n",
      "[0.9995, 0.9795, 0.0487, 0.7086, 0.9995]\n",
      "[0.9546, 0.2636, 0.9105, 0.6512, 0.9193]\n",
      "[0.2875, 0.791, 0.5267, 0.9584, 0.8315]\n",
      "[0.9931, 0.2462, 0.5172, 0.4432, 0.1244]\n",
      "[0.0127, 0.8781, 0.8281, 0.4898, 0.9927]\n",
      "[0.3309, 0.7583, 0.9418, 0.804, 0.7915]\n",
      "[0.1679, 0.2323, 0.2399, 0.7481, 0.2418]\n",
      "[0.3891, 0.1196, 0.9355, 0.3203, 0.0908]\n"
     ]
    }
   ],
   "source": [
    "for i in range(10):\n",
    "    s = sim.SimulateData(\"./test_output/\", 'without_transfer', 0.4, 0.6, 0.01)\n",
    "    s._run()\n",
    "    x = []\n",
    "    for col in s.z.columns:\n",
    "        x.append(np.count_nonzero(s.z[col]) / len(s.z[col]))\n",
    "    print(x)"
   ]
  },
  {
   "cell_type": "code",
   "execution_count": null,
   "metadata": {
    "collapsed": false
   },
   "outputs": [],
   "source": [
    "test_data = []\n",
    "models = ['SPEER', 'SPEER without transfer', 'RIVER', 'tissue specific genome only', 'shared tissue genome only']\n",
    "fpr, tpr, auc, mean_tpr, mean_fpr, mean_auc = {}, {}, {}, {}, {}, {}\n",
    "num_sims = 1\n",
    "for model in models:\n",
    "    mean_tpr[model] = {}\n",
    "    mean_fpr[model] = {}\n",
    "    mean_auc[model] = {}\n",
    "for i in range(num_sims):\n",
    "    # generate simulated data\n",
    "    \n",
    "    s = sim.SimulateData(\"./test_output/\", 'with_transfer', 0.4, 0.6, 0.01)\n",
    "    s._run()\n",
    "    \n",
    "    # create a process object\n",
    "    p = prcs.Process('./test_output', 0.1)\n",
    "    p._process_simulated_data()\n",
    "    # run SPEER\n",
    "    n = ntwk.Network(p.train_list, p.test_list, p.tissues, p.genomic_features, \n",
    "                 with_transfer=True, output_dir=\"SPEER_output\", \n",
    "                 lambda_hp_parent = None,\n",
    "                 lambda_hp_children_dict = None,\n",
    "                 e_distribution = 'cat')\n",
    "    train_list, test_list, beta_parent, beta_children, phi = n.run()\n",
    "    \n",
    "    # run SPEER without transfer\n",
    "    lambda_hp_children_dict = {'brain': 0.01, 'group1': 0.01, 'muscle': 0.01, 'epithelial': 0.01, 'digestive': 0.01}\n",
    "    n = ntwk.Network(train_list, test_list, p.tissues, p.genomic_features, \n",
    "                     with_transfer=False, output_dir=\"SPEER_output\", \n",
    "                     lambda_hp_parent = None, \n",
    "                     lambda_hp_children_dict = lambda_hp_children_dict, \n",
    "                     e_distribution = 'cat')\n",
    "    train_list, test_list, beta_parent, beta_children, phi = n.run()\n",
    "    \n",
    "    n = river.River(train_list, test_list, p.genomic_features, output_dir='RIVER_output')\n",
    "    train_list, test_list, beta_parent_river, beta_children_river, phi_river = n.run()\n",
    "    \n",
    "    # add benchmarks \n",
    "    bn = bnchmk.BenchmarkPosteriors(train_list, test_list, p.genomic_features)\n",
    "    train_list, test_list = bn.fit_models() \n",
    "    \n",
    "    for model in models:\n",
    "        auc = 0\n",
    "        fpr_local, tpr_local, auc_local = {}, {}, {}\n",
    "        # for each tissue\n",
    "        for j in range(len(test_list)):\n",
    "            fpr_local[j], tpr_local[j], _ = sklearn.metrics.roc_curve(test_list[j][\"z_label\"], test_list[j][model])\n",
    "            auc_local[j] = sklearn.metrics.roc_auc_score(test_list[j][\"z_label\"], test_list[j][model])\n",
    "        mean_tpr[model][i] = 0.0\n",
    "        mean_fpr[model][i] = np.linspace(0,1,100)\n",
    "        for j in range(len(test_list)):\n",
    "            mean_tpr[model][i] += interp(mean_fpr[model][i], fpr_local[j], tpr_local[j])\n",
    "            mean_tpr[model][i][0] = 0.0\n",
    "        mean_tpr[model][i] /= len(test_list)\n",
    "        mean_tpr[model][i][-1] = 1.0\n",
    "        mean_auc[model][i] = sklearn.metrics.auc(mean_fpr[model][i], mean_tpr[model][i])\n",
    "    print(i)"
   ]
  },
  {
   "cell_type": "code",
   "execution_count": null,
   "metadata": {
    "collapsed": true
   },
   "outputs": [],
   "source": [
    "import pickle\n",
    "with open('mean_tpr.obj', 'wb') as fp:\n",
    "    pickle.dump(mean_tpr, fp)\n",
    "with open('mean_fpr.obj', 'wb') as fp:\n",
    "    pickle.dump(mean_fpr, fp)\n",
    "with open('mean_auc.obj', 'wb') as fp:\n",
    "    pickle.dump(mean_auc, fp)"
   ]
  },
  {
   "cell_type": "code",
   "execution_count": null,
   "metadata": {
    "collapsed": false
   },
   "outputs": [],
   "source": [
    "import pickle\n",
    "with open('mean_tpr_tied_stronger.obj', 'rb') as fp:\n",
    "    mtpr = pickle.load(fp)\n",
    "with open('mean_fpr_tied_stronger.obj', 'rb') as fp:\n",
    "    mfpr = pickle.load(fp)\n",
    "with open('mean_auc_tied_stronger.obj', 'rb') as fp:\n",
    "    mauc = pickle.load(fp)"
   ]
  },
  {
   "cell_type": "code",
   "execution_count": null,
   "metadata": {
    "collapsed": true
   },
   "outputs": [],
   "source": [
    "mean_tpr = mtpr\n",
    "mean_fpr = mfpr\n",
    "mean_auc = mauc"
   ]
  },
  {
   "cell_type": "code",
   "execution_count": null,
   "metadata": {
    "collapsed": false
   },
   "outputs": [],
   "source": [
    "%matplotlib inline\n",
    "fig = plt.figure(figsize=(10,10))\n",
    "colors = ['blue', 'green', 'red', 'yellow', 'purple']\n",
    "for ind,model in enumerate(models):\n",
    "    mean_tpr_global = 0.0\n",
    "    mean_fpr_global = np.linspace(0,1,100)\n",
    "    for i in range(num_sims):\n",
    "        fpr = mean_fpr[model][i]\n",
    "        tpr = mean_tpr[model][i]\n",
    "        ax = plt.plot(fpr, tpr, linewidth=0.05, c=colors[ind])\n",
    "\n",
    "        \n",
    "        mean_tpr_global += interp(mean_fpr_global, fpr, tpr)\n",
    "        mean_tpr_global[0] = 0.0\n",
    "        \n",
    "    mean_tpr_global /= num_sims\n",
    "    mean_tpr_global[-1] = 1.0\n",
    "    auc_global = sklearn.metrics.auc(mean_fpr_global, mean_tpr_global)\n",
    "    ax = plt.plot(mean_fpr_global, mean_tpr_global, label=model + ' {0:0.3f}'\n",
    "              ''.format(auc_global), linewidth=2, c=colors[ind])\n",
    "\n",
    "ax = plt.plot([0,1], [0,1], 'k--')\n",
    "plt.xlim([0.0, 1.0])\n",
    "plt.ylim([0.0, 1.05])\n",
    "plt.xlabel('False Positive Rate', fontsize=20)\n",
    "sns.set_context(\"paper\")\n",
    "sns.set_palette(\"deep\")\n",
    "sns.set(font='serif')\n",
    "sns.set_style(\"white\", {\"font.family\": \"serif\", \"font.serif\": [\"Times\", \"Palatino\", \"serif\"]})\n",
    "#ax.spines['top'].set_visible(False)\n",
    "#ax.spines['right'].set_visible(False)\n",
    "plt.ylabel('True Positive Rate', fontsize=20)\n",
    "#plt.title('Receiver operating characteristic')\n",
    "plt.legend(loc=\"lower right\", frameon=False, prop={'size':16})\n",
    "plt.tight_layout()\n",
    "#plt.savefig(directory + '/aggregate_noriver.png', format='png', dpi=200)"
   ]
  },
  {
   "cell_type": "code",
   "execution_count": null,
   "metadata": {
    "collapsed": true
   },
   "outputs": [],
   "source": []
  }
 ],
 "metadata": {
  "anaconda-cloud": {},
  "kernelspec": {
   "display_name": "Python [Root]",
   "language": "python",
   "name": "Python [Root]"
  },
  "language_info": {
   "codemirror_mode": {
    "name": "ipython",
    "version": 3
   },
   "file_extension": ".py",
   "mimetype": "text/x-python",
   "name": "python",
   "nbconvert_exporter": "python",
   "pygments_lexer": "ipython3",
   "version": "3.5.2"
  }
 },
 "nbformat": 4,
 "nbformat_minor": 0
}
