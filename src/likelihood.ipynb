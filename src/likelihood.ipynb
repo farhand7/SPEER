{
 "cells": [
  {
   "cell_type": "code",
   "execution_count": 1,
   "metadata": {
    "collapsed": true
   },
   "outputs": [],
   "source": [
    "import pandas as pd\n",
    "import numpy as np\n",
    "import scipy\n",
    "from scipy import stats\n",
    "import logistic_regression as lr\n",
    "import naive_bayes as nb"
   ]
  },
  {
   "cell_type": "code",
   "execution_count": 2,
   "metadata": {
    "collapsed": true
   },
   "outputs": [],
   "source": [
    "train = pd.read_csv(\"../multi_task_model_optimal_1.5_threshold/train.csv\", index_col=(0,1))\n",
    "test = pd.read_csv(\"../multi_task_model_optimal_1.5_threshold/n1.csv\", index_col=(0,1))"
   ]
  },
  {
   "cell_type": "code",
   "execution_count": 254,
   "metadata": {
    "collapsed": false
   },
   "outputs": [
    {
     "data": {
      "text/plain": [
       "'\\nphi_river = np.zeros((2,2))\\nphi_river[0][0] = .8\\nphi_river[1][0] = .2\\nphi_river[0][1] = .3\\nphi_river[1][1] = .7\\n\\nphi = np.zeros((2,2))\\nphi[0][0] = .9\\nphi[1][0] = .1\\nphi[0][1] = .2\\nphi[1][1] = .8\\n'"
      ]
     },
     "execution_count": 254,
     "metadata": {},
     "output_type": "execute_result"
    }
   ],
   "source": [
    "# multi-task parameters\n",
    "beta_children = np.loadtxt(\"../multi_task_model_optimal_1.5_threshold/beta_children.txt\")\n",
    "alpha = np.loadtxt(\"../multi_task_model_optimal_1.5_threshold/beta_parent.txt\")\n",
    "phi = np.loadtxt(\"../multi_task_model_optimal_1.5_threshold/phi.txt\")\n",
    "phi_river = np.loadtxt(\"../src/11.19.run_1.5_threshold_5_observed/phi.txt\")\n",
    "# RIVER parameters\n",
    "beta_river = np.loadtxt(\"../multi_task_model_optimal_1.5_threshold/beta_RIVER.v6.txt\")\n",
    "\n",
    "lambda_hp_parent = 4.333047702488766\n",
    "num_g_features = len(beta_river)\n",
    "lambda_hp_children_dict = {'brain': 0.562229, 'group1': 0.75696656, 'muscle': 1.51665066, 'epithelial': 2.22486734, 'digestive': 5.17309994}\n",
    "tissues = ['brain', 'digestive', 'epithelial', 'group1', 'muscle']\n",
    "genomic_features = list(train.columns[0:-9])\n",
    "'''\n",
    "phi_river = np.zeros((2,2))\n",
    "phi_river[0][0] = .8\n",
    "phi_river[1][0] = .2\n",
    "phi_river[0][1] = .3\n",
    "phi_river[1][1] = .7\n",
    "'''\n",
    "phi = np.zeros((2,2))\n",
    "phi[0][0] = .9\n",
    "phi[1][0] = .1\n",
    "phi[0][1] = .2\n",
    "phi[1][1] = .8\n"
   ]
  },
  {
   "cell_type": "code",
   "execution_count": 292,
   "metadata": {
    "collapsed": true
   },
   "outputs": [],
   "source": [
    "phi = np.loadtxt(\"../src/11.19.run_1.5_threshold_5_observed/phi.txt\")"
   ]
  },
  {
   "cell_type": "code",
   "execution_count": 198,
   "metadata": {
    "collapsed": false
   },
   "outputs": [],
   "source": [
    "phi = np.loadtxt(\"../src_output/TL.v6p.phi.csv\")"
   ]
  },
  {
   "cell_type": "code",
   "execution_count": 293,
   "metadata": {
    "collapsed": false
   },
   "outputs": [
    {
     "data": {
      "text/plain": [
       "array([[ 0.98891652,  0.09493383],\n",
       "       [ 0.01108348,  0.90506617]])"
      ]
     },
     "execution_count": 293,
     "metadata": {},
     "output_type": "execute_result"
    }
   ],
   "source": [
    "phi"
   ]
  },
  {
   "cell_type": "code",
   "execution_count": 294,
   "metadata": {
    "collapsed": true
   },
   "outputs": [],
   "source": [
    "def _river_likelihood(data, beta_river, phi_river):\n",
    "    return eStepRIVER(data, beta_river, phi_river)\n",
    "\n",
    "def eStepRIVER(data, beta, phi):\n",
    "    '''\n",
    "       Compute expectation for RIVER\n",
    "    '''\n",
    "    # log P(Z = 1 | G)\n",
    "    log_prob_z_1_given_g = lr.log_prob(data[genomic_features].values, beta)\n",
    "\n",
    "    # log P(Z = 0 | G)\n",
    "    log_prob_z_0_given_g = np.log(1.0 - np.exp(log_prob_z_1_given_g))\n",
    "\n",
    "    # naive bayes\n",
    "    log_prob_e_given_z_1 = nb.log_prob(data['expr_label'].values, 1, phi)        \n",
    "    log_prob_e_given_z_0 = nb.log_prob(data['expr_label'].values, 0, phi)\n",
    "\n",
    "    log_q = log_prob_e_given_z_1 + log_prob_z_1_given_g -  np.log(np.exp(log_prob_e_given_z_0) * np.exp(log_prob_z_0_given_g) + \n",
    "        np.exp(log_prob_e_given_z_1) * np.exp(log_prob_z_1_given_g))\n",
    "    \n",
    "    \n",
    "    x = np.log(np.exp(log_prob_e_given_z_0) * np.exp(log_prob_z_0_given_g) + np.exp(log_prob_e_given_z_1) * np.exp(log_prob_z_1_given_g))\n",
    "    return np.sum(x)\n",
    "    \n",
    "    \n",
    "    #return np.sum(log_q)"
   ]
  },
  {
   "cell_type": "code",
   "execution_count": 295,
   "metadata": {
    "collapsed": true
   },
   "outputs": [],
   "source": [
    "def _shared_logistic_regression_likelihood(train, test):\n",
    "    beta = lr.sgd(train[genomic_features].values, train[\"shared_label\"].values, np.zeros(len(genomic_features)), np.zeros(len(genomic_features)), 1.0)\n",
    "    p_z_1_given_g = np.exp(lr.log_prob(test[genomic_features].values, beta)) * test['expr_label'].values\n",
    "    p_z_0_given_g = (1.0 - p_z_1_given_g) * (1.0 - test['expr_label'].values)\n",
    "    log_prob = np.sum(np.log(p_z_1_given_g + p_z_0_given_g))\n",
    "    return log_prob"
   ]
  },
  {
   "cell_type": "code",
   "execution_count": 245,
   "metadata": {
    "collapsed": true
   },
   "outputs": [],
   "source": [
    "def _tissue_specific_logistic_regression_likelihood(train, test):\n",
    "    log_prob = 0.0\n",
    "    for tissue in tissues:\n",
    "        train_t = train[train[\"tissue\"] == tissue]\n",
    "        test_t = test[test[\"tissue\"] == tissue]\n",
    "        beta = lr.sgd(train_t[genomic_features].values, train_t[\"expr_label\"].values, np.zeros(len(genomic_features)), np.zeros(len(genomic_features)), 1.0)\n",
    "        p_z_1_given_g = np.exp(lr.log_prob(test_t[genomic_features].values, beta)) * test_t[\"expr_label\"].values\n",
    "        p_z_0_given_g = (1.0 - p_z_1_given_g) * (1.0 - test_t[\"expr_label\"].values)\n",
    "        log_prob += np.sum(np.log(p_z_1_given_g + p_z_0_given_g))\n",
    "    return log_prob"
   ]
  },
  {
   "cell_type": "code",
   "execution_count": 296,
   "metadata": {
    "collapsed": true
   },
   "outputs": [],
   "source": [
    "def _multitask_likelihood(data, alpha, beta_children, lambda_hp_parent, lambda_hp_children_dict, phi):\n",
    "    log_prob = 0\n",
    "    #log_prob += log_p_alpha(alpha, lambda_hp_parent)\n",
    "    #log_prob += log_p_beta_child_given_beta(beta_children, alpha, lambda_hp_children_dict)\n",
    "    log_prob = eStepGlobal(data, tissues, beta_children, phi)\n",
    "    return log_prob"
   ]
  },
  {
   "cell_type": "code",
   "execution_count": 297,
   "metadata": {
    "collapsed": true
   },
   "outputs": [],
   "source": [
    "def log_p_alpha(alpha, sigma):\n",
    "    '''\n",
    "        Compute P(Beta_j) = normal distribution, mean = 0, cov = sigma\n",
    "        @param: j - jth component of beta\n",
    "    '''\n",
    "    \n",
    "    return np.sum(np.log(scipy.stats.norm(0, lambda_hp_parent).pdf(alpha)))\n",
    "\n",
    "def log_p_beta_child_given_beta(beta_children, alpha, lambda_hp_children_dict):\n",
    "    '''\n",
    "        Compute P(Beta_child_j | Beta_j) = normal distribution, mean = beta_j, cov = sigma_child\n",
    "        @param: i - tissue i\n",
    "        @param: j - component\n",
    "    '''\n",
    "    log_prob = 0\n",
    "    for i in range(len(tissues)):\n",
    "        beta = beta_children[i]\n",
    "        log_prob += np.sum(np.log(scipy.stats.norm(alpha,lambda_hp_children_dict[tissues[i]]).pdf(beta)))\n",
    "    return log_prob\n",
    "\n",
    "def eStepLocal(data, tissue, beta, phi):\n",
    "    '''\n",
    "       Compute expectation for tissue i\n",
    "    '''\n",
    "    # log P(Z = 1 | G)\n",
    "    data_t = data[data[\"tissue\"] == tissue]\n",
    "    log_prob_z_1_given_g = lr.log_prob(data_t[genomic_features].values, beta)\n",
    "\n",
    "    # log P(Z = 0 | G)\n",
    "    log_prob_z_0_given_g = np.log(1.0 - np.exp(log_prob_z_1_given_g))\n",
    "\n",
    "    # noisy OR\n",
    "    #log_prob_e_given_z_1 = nb.log_prob_noisyor_2_params(data_t['expr_label'], 1, data_t[\"eqtl\"], phi)\n",
    "    #log_prob_e_given_z_0 = nb.log_prob_noisyor_2_params(data_t['expr_label'], 0, data_t[\"eqtl\"], phi)\n",
    "\n",
    "    # naive bayes\n",
    "    log_prob_e_given_z_1 = nb.log_prob(data_t['expr_label'], 1, phi)        \n",
    "    log_prob_e_given_z_0 = nb.log_prob(data_t['expr_label'], 0, phi)\n",
    "\n",
    "    log_q = log_prob_e_given_z_1 + log_prob_z_1_given_g -  np.log(np.exp(log_prob_e_given_z_0) * np.exp(log_prob_z_0_given_g) + \n",
    "        np.exp(log_prob_e_given_z_1) * np.exp(log_prob_z_1_given_g))\n",
    "\n",
    "    x = np.log(np.exp(log_prob_e_given_z_0) * np.exp(log_prob_z_0_given_g) + np.exp(log_prob_e_given_z_1) * np.exp(log_prob_z_1_given_g))\n",
    "    return(np.sum(x))\n",
    "    #return np.sum(log_q)\n",
    "\n",
    "def eStepGlobal(data, tissues, beta_children, phi):\n",
    "    log_prob = 0.0\n",
    "    for i in range(len(tissues)):\n",
    "        log_prob += eStepLocal(data, tissues[i], beta_children[i], phi)\n",
    "    return log_prob"
   ]
  },
  {
   "cell_type": "code",
   "execution_count": 298,
   "metadata": {
    "collapsed": false
   },
   "outputs": [
    {
     "name": "stdout",
     "output_type": "stream",
     "text": [
      "multi-task test set likelihood:  -4302.281427310741\n"
     ]
    }
   ],
   "source": [
    "print(\"multi-task test set likelihood: \", \n",
    "    _multitask_likelihood(test, alpha, beta_children, lambda_hp_parent, lambda_hp_children_dict, phi))"
   ]
  },
  {
   "cell_type": "code",
   "execution_count": 299,
   "metadata": {
    "collapsed": false
   },
   "outputs": [
    {
     "name": "stdout",
     "output_type": "stream",
     "text": [
      "RIVER test set likelihood:  -4864.07599645\n"
     ]
    }
   ],
   "source": [
    "print(\"RIVER test set likelihood: \", _river_likelihood(test, beta_river, phi))"
   ]
  },
  {
   "cell_type": "code",
   "execution_count": 301,
   "metadata": {
    "collapsed": false
   },
   "outputs": [
    {
     "name": "stdout",
     "output_type": "stream",
     "text": [
      "tissue specific genome only test set likelihood:  -3143.88186462\n"
     ]
    }
   ],
   "source": [
    "print(\"tissue specific genome only test set likelihood: \", _tissue_specific_logistic_regression_likelihood(train, test))"
   ]
  },
  {
   "cell_type": "code",
   "execution_count": 230,
   "metadata": {
    "collapsed": false
   },
   "outputs": [
    {
     "name": "stdout",
     "output_type": "stream",
     "text": [
      "shared tissue genome only test set likelihood:  -4677.54038618\n"
     ]
    }
   ],
   "source": [
    "print(\"shared tissue genome only test set likelihood: \", _shared_logistic_regression_likelihood(train,test))"
   ]
  }
 ],
 "metadata": {
  "anaconda-cloud": {},
  "kernelspec": {
   "display_name": "Python [Root]",
   "language": "python",
   "name": "Python [Root]"
  },
  "language_info": {
   "codemirror_mode": {
    "name": "ipython",
    "version": 3
   },
   "file_extension": ".py",
   "mimetype": "text/x-python",
   "name": "python",
   "nbconvert_exporter": "python",
   "pygments_lexer": "ipython3",
   "version": "3.5.2"
  }
 },
 "nbformat": 4,
 "nbformat_minor": 0
}
