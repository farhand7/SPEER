{
 "cells": [
  {
   "cell_type": "code",
   "execution_count": 1,
   "metadata": {
    "collapsed": false
   },
   "outputs": [
    {
     "data": {
      "text/plain": [
       "'\\n    Generate simulated data\\n'"
      ]
     },
     "execution_count": 1,
     "metadata": {},
     "output_type": "execute_result"
    }
   ],
   "source": [
    "'''\n",
    "    Generate simulated data\n",
    "'''"
   ]
  },
  {
   "cell_type": "code",
   "execution_count": 2,
   "metadata": {
    "collapsed": true
   },
   "outputs": [],
   "source": [
    "import pandas as pd\n",
    "import numpy as np\n",
    "import logistic_regression as lr\n",
    "import matplotlib.pyplot as plt"
   ]
  },
  {
   "cell_type": "code",
   "execution_count": 120,
   "metadata": {
    "collapsed": false
   },
   "outputs": [],
   "source": [
    "g = np.random.uniform(0,1, size=(10000,20))\n",
    "intercept = np.ones((10000,1))\n",
    "g = np.concatenate((intercept, g), axis=1)"
   ]
  },
  {
   "cell_type": "code",
   "execution_count": 121,
   "metadata": {
    "collapsed": false
   },
   "outputs": [],
   "source": [
    "#num_features = len(g.columns)\n",
    "num_features = g.shape[1]\n",
    "lambda_hp_children_dict = {'brain': 0.562229, 'group1': 0.75696656, 'muscle': 1.51665066, 'epithelial': 2.22486734, 'digestive': 5.17309994}\n",
    "tissues = ['brain', 'group1', 'muscle', 'epithelial', 'digestive']"
   ]
  },
  {
   "cell_type": "code",
   "execution_count": 166,
   "metadata": {
    "collapsed": true
   },
   "outputs": [],
   "source": [
    "def _simulate_alpha(sd):\n",
    "    '''\n",
    "        Generate alpha parameter where alpha ~ N(0, variance)\n",
    "    '''\n",
    "    return np.random.normal(np.zeros(num_features), sd)"
   ]
  },
  {
   "cell_type": "code",
   "execution_count": 167,
   "metadata": {
    "collapsed": true
   },
   "outputs": [],
   "source": [
    "def _simulate_beta_given_alpha(alpha, sd):\n",
    "    '''\n",
    "        Generate beta | alpha ~ N(alpha, sigma)\n",
    "    '''\n",
    "    return np.random.normal(alpha, sd)"
   ]
  },
  {
   "cell_type": "code",
   "execution_count": 168,
   "metadata": {
    "collapsed": true
   },
   "outputs": [],
   "source": [
    "def _simulate_beta_no_parent(sd):\n",
    "    '''\n",
    "        Generate beta ~ N(0, sigma)\n",
    "    '''\n",
    "    return np.random.normal(np.zeros(num_features), sd)"
   ]
  },
  {
   "cell_type": "code",
   "execution_count": 169,
   "metadata": {
    "collapsed": true
   },
   "outputs": [],
   "source": [
    "def _simulate_z_given_g():\n",
    "    '''\n",
    "        Generate Z given g and beta\n",
    "            - predict p(z|g)\n",
    "            - using prediction vector, sample from bernoulli with prediction as weight\n",
    "    '''\n",
    "    p_z_given_g = _compute_p_z_given_g(beta, g)\n",
    "    z_draws = np.random.binomial(1, p_z_given_g)\n",
    "    return z_draws\n",
    "\n",
    "def _compute_p_z_given_g(beta, g):\n",
    "    '''\n",
    "        Compute p(z|g;beta)\n",
    "    '''\n",
    "    return np.exp(lr.log_prob(g, beta))"
   ]
  },
  {
   "cell_type": "code",
   "execution_count": 170,
   "metadata": {
    "collapsed": true
   },
   "outputs": [],
   "source": [
    "def _simulate_e_given_z(z, phi):\n",
    "    '''\n",
    "        Generate E given Z, phi\n",
    "        for each z, sample from bernoulli with e=1|z=a parameter as weight.\n",
    "    '''\n",
    "    \n",
    "    return 1\n"
   ]
  },
  {
   "cell_type": "code",
   "execution_count": 310,
   "metadata": {
    "collapsed": true
   },
   "outputs": [],
   "source": [
    "def _simulate_phi(mu_z0, mu_z1, var_z0, var_z1):\n",
    "    '''\n",
    "        Using a beta distribution, sample phi counts\n",
    "        \n",
    "        fix this function\n",
    "        \n",
    "    '''\n",
    "    # p(e=1|z=0), p(e=1|z=1)\n",
    "    phi = np.zeros(2)\n",
    "    \n",
    "    alpha, beta = _compute_beta_hyperparameters(mu_z0, var_z0)\n",
    "    \n",
    "    # sample from Beta\n",
    "    phi[0] = np.random.beta(alpha, beta)\n",
    "    \n",
    "    alpha, beta = _compute_beta_hyperparameters(mu_z1, var_z1)\n",
    "\n",
    "    # sample from Beta\n",
    "    phi[1] = np.random.beta(alpha, beta)\n",
    "    \n",
    "    return phi"
   ]
  },
  {
   "cell_type": "code",
   "execution_count": 315,
   "metadata": {
    "collapsed": false
   },
   "outputs": [
    {
     "data": {
      "text/plain": [
       "array([ 0.28749274,  0.69435993])"
      ]
     },
     "execution_count": 315,
     "metadata": {},
     "output_type": "execute_result"
    }
   ],
   "source": [
    "_simulate_phi(0.3, 0.7, 0.0001, 0.0001)"
   ]
  },
  {
   "cell_type": "code",
   "execution_count": 40,
   "metadata": {
    "collapsed": true
   },
   "outputs": [],
   "source": [
    "def _compute_beta_hyperparameters(mu, var):\n",
    "    '''\n",
    "        Compute beta distribution parameters given a desired mean and variance\n",
    "    '''\n",
    "    alpha = (((1 - mu) / var) - (1 / mu)) * mu**2\n",
    "    beta = alpha * (1/mu - 1)\n",
    "    return alpha, beta"
   ]
  },
  {
   "cell_type": "code",
   "execution_count": 128,
   "metadata": {
    "collapsed": false
   },
   "outputs": [],
   "source": [
    "def _simulate_RIVER():\n",
    "    lambda_hp = 4.333047702488766\n",
    "    alpha_variance = 1.0 / lambda_hp_parent\n",
    "    # simulate beta\n",
    "    beta = _simulate_beta_no_parent(alpha_variance)\n",
    "    # compute p(z | g, beta)\n",
    "    p_z_given_g = _compute_p_z_given_g(beta, g)\n",
    "    # generate z given p(z|g)\n",
    "    z_draws = np.random.binomial(1, p_z_given_g)\n",
    "    # simulate phi and beta\n",
    "    phi = _simulate_phi()\n",
    "    # generate e\n",
    "    e_draws = np.random.binomial(1, phi[z_draws])\n",
    "    \n",
    "    np.savetxt(\"../input/simulated_data/RIVER/e.txt\", e_draws)\n",
    "    np.savetxt(\"../input/simulated_data/RIVER/g.txt\", g)\n",
    "    np.savetxt(\"../input/simulated_data/RIVER/z.txt\", z_draws)\n",
    "    np.savetxt(\"../input/simulated_data/RIVER/beta.txt\", beta)\n",
    "    np.savetxt(\"../input/simulated_data/RIVER/phi.txt\", phi)\n",
    "    "
   ]
  },
  {
   "cell_type": "code",
   "execution_count": 346,
   "metadata": {
    "collapsed": false
   },
   "outputs": [
    {
     "name": "stdout",
     "output_type": "stream",
     "text": [
      "[ 0.40392158  0.30652061  0.29809837 ...,  0.45923314  0.48325975\n",
      "  0.37638936]\n",
      "0.4423\n",
      "[ 0.3571938   0.31394663  0.60625239 ...,  0.44068361  0.64866976\n",
      "  0.4615829 ]\n",
      "0.513\n",
      "[ 0.20185505  0.09753019  0.10441309 ...,  0.18245008  0.23558922\n",
      "  0.28765518]\n",
      "0.2022\n",
      "[ 0.67975142  0.70809021  0.4134394  ...,  0.64885105  0.51276711\n",
      "  0.42559907]\n",
      "0.4692\n",
      "[ 0.46855723  0.89657417  0.62263499 ...,  0.51980039  0.68958141\n",
      "  0.72586122]\n",
      "0.7154\n"
     ]
    },
    {
     "data": {
      "image/png": "[encoded data removed]",
      "text/plain": [
       "<matplotlib.figure.Figure at 0x11aee0080>"
      ]
     },
     "metadata": {},
     "output_type": "display_data"
    }
   ],
   "source": [
    "def _simulate_multitask_no_transfer():\n",
    "    # e = 1 | z = 0\n",
    "    mu_z0 = 0.4\n",
    "    # e = 1 | z = 1\n",
    "    mu_z1 = 0.6\n",
    "    tissues = ['brain', 'group1', 'muscle', 'epithelial', 'digestive']\n",
    "    e = pd.DataFrame()\n",
    "    z = pd.DataFrame()\n",
    "    betas = []\n",
    "    lambda_hp = .1\n",
    "    alpha_sd = (1.0 / lambda_hp_parent) ** (.5)\n",
    "    # simulate phi using beta distribution (do this step once and use for all tissues)\n",
    "    phi = _simulate_phi(mu_z0, mu_z1, 0.0001, 0.0001)\n",
    "    for tissue in tissues:\n",
    "        # simulate beta\n",
    "        beta = _simulate_beta_no_parent(alpha_sd)\n",
    "        betas.append(beta)\n",
    "        # compute p(z | g, beta)\n",
    "        p_z_given_g = _compute_p_z_given_g(beta, g)\n",
    "        print(p_z_given_g)\n",
    "        plt.hist(p_z_given_g)\n",
    "        # generate z given p(z|g)\n",
    "        z_draws = np.random.binomial(1, p_z_given_g)\n",
    "        z[tissue] = z_draws\n",
    "        print(np.count_nonzero(z_draws)/len(z_draws))\n",
    "        # generate e\n",
    "        e_draws = np.random.binomial(1, phi[z_draws])\n",
    "        e[tissue] = e_draws\n",
    "    return e, z, pd.DataFrame(betas, index=tissues), phi, \n",
    "e, z, betas, phi = _simulate_multitask_no_transfer()"
   ]
  },
  {
   "cell_type": "code",
   "execution_count": 344,
   "metadata": {
    "collapsed": false
   },
   "outputs": [
    {
     "name": "stdout",
     "output_type": "stream",
     "text": [
      "[ 0.76961846  0.9983158   0.05444099 ...,  0.73118192  0.99572261\n",
      "  0.99280223]\n",
      "0.7812\n",
      "[ 0.98080469  0.999985    0.34240883 ...,  0.97677316  0.99992886\n",
      "  0.99981732]\n",
      "0.9396\n",
      "[ 0.92402612  0.99986263  0.10410568 ...,  0.88473089  0.99941774\n",
      "  0.99885617]\n",
      "0.8656\n",
      "[ 0.96755833  0.99977573  0.08616221 ...,  0.97353988  0.99971775\n",
      "  0.99457727]\n",
      "0.8866\n",
      "[ 0.98525986  0.99995123  0.37045198 ...,  0.98160466  0.99992588\n",
      "  0.99977944]\n",
      "0.9448\n"
     ]
    },
    {
     "data": {
      "image/png": "[encoded data removed]",
      "text/plain": [
       "<matplotlib.figure.Figure at 0x11ae24278>"
      ]
     },
     "metadata": {},
     "output_type": "display_data"
    }
   ],
   "source": [
    "%matplotlib inline\n",
    "def _simulate_multitask_with_transfer():\n",
    "    # e = 1 | z = 0\n",
    "    mu_z0 = 0.4\n",
    "    # e = 1 | z = 1\n",
    "    mu_z1 = 0.6\n",
    "    \n",
    "    lambda_hp_children_dict = {'brain': 4, 'group1': 5, 'muscle': 6, 'epithelial': 7, 'digestive': 8}\n",
    "    e = pd.DataFrame()\n",
    "    z = pd.DataFrame()\n",
    "    betas = []\n",
    "    lambda_hp_parent = .1\n",
    "    # square root of the variance\n",
    "    alpha_sd = (1.0 / lambda_hp_parent) ** (.5)\n",
    "    alpha = _simulate_alpha(alpha_sd)\n",
    "    # generate phi from Beta distribution\n",
    "    phi = _simulate_phi(mu_z0, mu_z1, 0.0001, 0.0001)\n",
    "    for tissue in tissues:\n",
    "        sd = (1.0 / lambda_hp_children_dict[tissue]) ** (.5)\n",
    "        beta = _simulate_beta_given_alpha(alpha, sd)\n",
    "        betas.append(beta)\n",
    "        # compute p(z | g, beta)\n",
    "        p_z_given_g = _compute_p_z_given_g(beta, g)\n",
    "        print(p_z_given_g)\n",
    "        plt.hist(p_z_given_g)\n",
    "        # generate z given p(z|g)\n",
    "        z_draws = np.random.binomial(1, p_z_given_g)\n",
    "        print(np.count_nonzero(z_draws)/len(z_draws))\n",
    "        z[tissue] = z_draws\n",
    "        # generate e\n",
    "        e_draws = np.random.binomial(1, phi[z_draws])\n",
    "        e[tissue] = e_draws\n",
    "        \n",
    "    return e, z, pd.DataFrame(betas, index=tissues), phi,\n",
    "e, z, betas, phi = _simulate_multitask_with_transfer()\n"
   ]
  },
  {
   "cell_type": "code",
   "execution_count": 345,
   "metadata": {
    "collapsed": false
   },
   "outputs": [],
   "source": [
    "#e, z, betas, phi = _simulate_multitask_with_transfer()\n",
    "np.savetxt(\"../input/simulated_data/multitask_with_transfer/g.csv\", g, delimiter=\",\")\n",
    "e.to_csv(\"../input/simulated_data/multitask_with_transfer/e.csv\")\n",
    "z.to_csv(\"../input/simulated_data/multitask_with_transfer/z.csv\")\n",
    "betas.to_csv(\"../input/simulated_data/multitask_with_transfer/betas.csv\")\n",
    "np.savetxt(\"../input/simulated_data/multitask_with_transfer/phi.txt\", phi)"
   ]
  },
  {
   "cell_type": "code",
   "execution_count": 347,
   "metadata": {
    "collapsed": true
   },
   "outputs": [],
   "source": [
    "#e, z, betas, phi = _simulate_multitask_with_transfer()\n",
    "np.savetxt(\"../input/simulated_data/multitask_no_transfer/g.csv\", g, delimiter=\",\")\n",
    "e.to_csv(\"../input/simulated_data/multitask_no_transfer/e.csv\")\n",
    "z.to_csv(\"../input/simulated_data/multitask_no_transfer/z.csv\")\n",
    "betas.to_csv(\"../input/simulated_data/multitask_no_transfer/betas.csv\")\n",
    "np.savetxt(\"../input/simulated_data/multitask_no_transfer/phi.txt\", phi)"
   ]
  },
  {
   "cell_type": "code",
   "execution_count": 1,
   "metadata": {
    "collapsed": true
   },
   "outputs": [],
   "source": [
    "import os"
   ]
  },
  {
   "cell_type": "code",
   "execution_count": 3,
   "metadata": {
    "collapsed": false
   },
   "outputs": [
    {
     "data": {
      "text/plain": [
       "True"
      ]
     },
     "execution_count": 3,
     "metadata": {},
     "output_type": "execute_result"
    }
   ],
   "source": [
    "not os.path.isdir(\"./hi\")"
   ]
  },
  {
   "cell_type": "code",
   "execution_count": 4,
   "metadata": {
    "collapsed": true
   },
   "outputs": [],
   "source": [
    "os.makedirs(\"./hi\")"
   ]
  },
  {
   "cell_type": "code",
   "execution_count": null,
   "metadata": {
    "collapsed": true
   },
   "outputs": [],
   "source": []
  }
 ],
 "metadata": {
  "anaconda-cloud": {},
  "kernelspec": {
   "display_name": "Python [Root]",
   "language": "python",
   "name": "Python [Root]"
  },
  "language_info": {
   "codemirror_mode": {
    "name": "ipython",
    "version": 3
   },
   "file_extension": ".py",
   "mimetype": "text/x-python",
   "name": "python",
   "nbconvert_exporter": "python",
   "pygments_lexer": "ipython3",
   "version": "3.5.2"
  }
 },
 "nbformat": 4,
 "nbformat_minor": 0
}
