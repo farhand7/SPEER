{
 "cells": [
  {
   "cell_type": "code",
   "execution_count": 7,
   "metadata": {
    "collapsed": false
   },
   "outputs": [],
   "source": [
    "# import python packages\n",
    "import pandas as pd\n",
    "import numpy as np\n",
    "\n",
    "# import src code\n",
    "import ase_evaluation as ae\n",
    "#import benchmark_posteriors as bp\n",
    "import bootstrap as btstrp\n",
    "import cross_validation as cv\n",
    "import logistic_regression as lr\n",
    "import naive_bayes as nb\n",
    "import network as ntwk\n",
    "import process as prcs\n",
    "#import RIVER as rvr\n",
    "import simulate_data as sim\n",
    "import benchmark_posteriors as bnchmk\n",
    "import RIVER as river\n",
    "import sklearn\n",
    "from sklearn import metrics"
   ]
  },
  {
   "cell_type": "code",
   "execution_count": 2,
   "metadata": {
    "collapsed": false
   },
   "outputs": [],
   "source": [
    "s = sim.SimulateData(\"./test_output/\", 'with_transfer', 0.4, 0.6, 0.01)\n",
    "s._run()\n",
    "\n",
    "# create a process object\n",
    "p = prcs.Process('./test_output', 0.1)\n",
    "p._process_simulated_data()"
   ]
  },
  {
   "cell_type": "code",
   "execution_count": null,
   "metadata": {
    "collapsed": false
   },
   "outputs": [],
   "source": [
    "p.tissues"
   ]
  },
  {
   "cell_type": "code",
   "execution_count": null,
   "metadata": {
    "collapsed": false
   },
   "outputs": [],
   "source": [
    "# create a bootstrap object\n",
    "b = btstrp.Bootstrap(p.train_list, p.tissues, p.genomic_features, num_simulations=2, num_folds=3)\n",
    "lambda_hp_children_dict, lambda_hp_parent = b._run_bootstrap()"
   ]
  },
  {
   "cell_type": "code",
   "execution_count": null,
   "metadata": {
    "collapsed": false
   },
   "outputs": [],
   "source": [
    "\"tissue-specific transfer factors: \", lambda_hp_children_dict, \"global transfer factor: \", lambda_hp_parent"
   ]
  },
  {
   "cell_type": "code",
   "execution_count": 9,
   "metadata": {
    "collapsed": false
   },
   "outputs": [],
   "source": [
    "n = ntwk.Network(train_list, test_list, p.tissues, p.genomic_features, \n",
    "                 with_transfer=True, output_dir=\"SPEER_output\", \n",
    "                 lambda_hp_parent = None,\n",
    "                 lambda_hp_children_dict = None,\n",
    "                 e_distribution = 'cat')\n",
    "train_list, test_list, beta_parent, beta_children, phi = n.run()"
   ]
  },
  {
   "cell_type": "code",
   "execution_count": null,
   "metadata": {
    "collapsed": false
   },
   "outputs": [],
   "source": [
    "train_list[3].head(10)"
   ]
  },
  {
   "cell_type": "code",
   "execution_count": null,
   "metadata": {
    "collapsed": false
   },
   "outputs": [],
   "source": [
    "lambda_hp_children_dict = {'brain': 0.01, 'group1': 0.01, 'muscle': 0.01, 'epithelial': 0.01, 'digestive': 0.01}\n",
    "n = ntwk.Network(train_list, test_list, p.tissues, p.genomic_features, \n",
    "                 with_transfer=False, output_dir=\"SPEER_output\", \n",
    "                 lambda_hp_parent = None, \n",
    "                 lambda_hp_children_dict = lambda_hp_children_dict, \n",
    "                 e_distribution = 'cat')\n",
    "train_list, test_list, beta_parent, beta_children, phi = n.run()"
   ]
  },
  {
   "cell_type": "code",
   "execution_count": 4,
   "metadata": {
    "collapsed": false
   },
   "outputs": [
    {
     "name": "stdout",
     "output_type": "stream",
     "text": [
      "EM iter:  0\n",
      "EM iter:  1\n",
      "EM iter:  2\n",
      "EM iter:  3\n",
      "EM iter:  4\n",
      "EM iter:  5\n",
      "EM iter:  6\n",
      "EM iter:  7\n",
      "EM iter:  8\n",
      "EM iter:  9\n",
      "EM iter:  10\n",
      "EM iter:  11\n",
      "EM iter:  12\n",
      "EM iter:  13\n",
      "EM iter:  14\n",
      "EM iter:  15\n",
      "EM iter:  16\n",
      "EM iter:  17\n",
      "EM iter:  18\n",
      "EM iter:  19\n",
      "EM iter:  20\n",
      "EM iter:  21\n",
      "EM iter:  22\n",
      "EM iter:  23\n",
      "EM iter:  24\n",
      "EM iter:  25\n",
      "EM iter:  26\n",
      "EM iter:  27\n",
      "EM iter:  28\n",
      "EM iter:  29\n",
      "EM iter:  30\n",
      "EM iter:  31\n",
      "EM iter:  32\n",
      "EM iter:  33\n",
      "EM iter:  34\n",
      "EM iter:  35\n",
      "EM iter:  36\n",
      "EM iter:  37\n",
      "EM iter:  38\n",
      "EM iter:  39\n",
      "EM iter:  40\n",
      "EM iter:  41\n",
      "EM iter:  42\n",
      "EM iter:  43\n",
      "EM iter:  44\n",
      "EM iter:  45\n",
      "EM iter:  46\n",
      "EM iter:  47\n",
      "EM iter:  48\n",
      "EM iter:  49\n",
      "EM iter:  50\n",
      "EM iter:  51\n",
      "EM iter:  52\n",
      "EM iter:  53\n",
      "EM iter:  54\n",
      "EM iter:  55\n",
      "EM iter:  56\n",
      "EM iter:  57\n",
      "EM iter:  58\n",
      "EM iter:  59\n",
      "EM iter:  60\n",
      "EM iter:  61\n",
      "EM iter:  62\n",
      "EM iter:  63\n",
      "EM iter:  64\n",
      "EM iter:  65\n",
      "EM iter:  66\n",
      "EM iter:  67\n",
      "EM iter:  68\n",
      "EM iter:  69\n",
      "EM iter:  70\n",
      "EM iter:  71\n",
      "EM iter:  72\n",
      "EM iter:  73\n",
      "EM iter:  74\n",
      "EM iter:  75\n",
      "EM iter:  76\n",
      "EM iter:  77\n",
      "EM iter:  78\n",
      "EM iter:  79\n",
      "EM iter:  80\n",
      "EM iter:  81\n",
      "EM iter:  82\n",
      "EM iter:  83\n",
      "EM iter:  84\n",
      "EM iter:  85\n",
      "EM iter:  86\n",
      "EM iter:  87\n",
      "EM iter:  88\n",
      "EM iter:  89\n",
      "EM iter:  90\n",
      "EM iter:  91\n",
      "EM iter:  92\n",
      "EM iter:  93\n",
      "EM iter:  94\n",
      "EM iter:  95\n",
      "EM iter:  96\n",
      "EM iter:  97\n",
      "EM iter:  98\n",
      "EM iter:  99\n",
      "EM iter:  100\n",
      "EM iter:  101\n",
      "EM iter:  102\n",
      "EM iter:  103\n",
      "EM iter:  104\n",
      "EM iter:  105\n",
      "EM iter:  106\n",
      "EM iter:  107\n",
      "EM iter:  108\n",
      "EM iter:  109\n",
      "EM iter:  110\n",
      "EM iter:  111\n",
      "EM iter:  112\n",
      "EM iter:  113\n",
      "EM iter:  114\n",
      "EM iter:  115\n",
      "EM iter:  116\n",
      "EM iter:  117\n",
      "EM iter:  118\n",
      "EM iter:  119\n",
      "EM iter:  120\n",
      "EM iter:  121\n",
      "EM iter:  122\n",
      "EM iter:  123\n",
      "EM iter:  124\n",
      "EM iter:  125\n",
      "EM iter:  126\n",
      "EM iter:  127\n",
      "EM iter:  128\n",
      "EM iter:  129\n",
      "EM iter:  130\n",
      "EM iter:  131\n",
      "EM iter:  132\n",
      "EM iter:  133\n",
      "EM iter:  134\n",
      "EM iter:  135\n",
      "EM iter:  136\n",
      "EM iter:  137\n",
      "EM iter:  138\n",
      "EM iter:  139\n",
      "EM iter:  140\n",
      "EM iter:  141\n",
      "EM iter:  142\n",
      "EM iter:  143\n",
      "EM iter:  144\n",
      "EM iter:  145\n",
      "EM iter:  146\n",
      "EM iter:  147\n",
      "EM iter:  148\n",
      "EM iter:  149\n",
      "EM iter:  150\n",
      "EM iter:  151\n",
      "EM iter:  152\n",
      "EM iter:  153\n",
      "EM iter:  154\n",
      "EM iter:  155\n",
      "EM iter:  156\n",
      "EM iter:  157\n",
      "EM iter:  158\n",
      "EM iter:  159\n",
      "EM iter:  160\n",
      "EM iter:  161\n",
      "EM iter:  162\n",
      "EM iter:  163\n",
      "EM iter:  164\n",
      "EM iter:  165\n",
      "EM iter:  166\n",
      "EM iter:  167\n",
      "EM iter:  168\n",
      "EM iter:  169\n",
      "EM iter:  170\n",
      "EM iter:  171\n",
      "EM iter:  172\n",
      "EM iter:  173\n",
      "EM iter:  174\n",
      "EM iter:  175\n",
      "EM iter:  176\n",
      "EM iter:  177\n",
      "EM iter:  178\n",
      "EM iter:  179\n",
      "EM iter:  180\n",
      "EM iter:  181\n",
      "EM iter:  182\n",
      "EM iter:  183\n",
      "EM iter:  184\n",
      "EM iter:  185\n",
      "EM iter:  186\n",
      "EM iter:  187\n",
      "EM iter:  188\n",
      "EM iter:  189\n",
      "EM iter:  190\n",
      "EM iter:  191\n",
      "EM iter:  192\n",
      "EM iter:  193\n",
      "EM iter:  194\n",
      "EM iter:  195\n",
      "EM iter:  196\n",
      "EM iter:  197\n",
      "EM iter:  198\n",
      "EM iter:  199\n",
      "EM iter:  200\n",
      "EM iter:  201\n"
     ]
    }
   ],
   "source": [
    "n = river.River(p.train_list, p.test_list, p.genomic_features, output_dir='RIVER_output')\n",
    "train_list, test_list, beta_parent_river, beta_children_river, phi_river = n.run()"
   ]
  },
  {
   "cell_type": "code",
   "execution_count": 15,
   "metadata": {
    "collapsed": false
   },
   "outputs": [
    {
     "data": {
      "text/plain": [
       "0.75004561211457765"
      ]
     },
     "execution_count": 15,
     "metadata": {},
     "output_type": "execute_result"
    }
   ],
   "source": [
    "sklearn.metrics.roc_auc_score(train_list[4][\"z_label\"], train_list[4][\"RIVER\"])"
   ]
  },
  {
   "cell_type": "code",
   "execution_count": null,
   "metadata": {
    "collapsed": true
   },
   "outputs": [],
   "source": []
  },
  {
   "cell_type": "code",
   "execution_count": null,
   "metadata": {
    "collapsed": false
   },
   "outputs": [],
   "source": [
    "bn = bnchmk.BenchmarkPosteriors(train_list, test_list, p.genomic_features)\n",
    "train_list, test_list = bn.fit_models()"
   ]
  },
  {
   "cell_type": "code",
   "execution_count": null,
   "metadata": {
    "collapsed": false
   },
   "outputs": [],
   "source": [
    "train_list[0].head()"
   ]
  },
  {
   "cell_type": "code",
   "execution_count": null,
   "metadata": {
    "collapsed": false
   },
   "outputs": [],
   "source": [
    "import sklearn\n",
    "from sklearn import metrics\n",
    "for i in range(5):\n",
    "    print(sklearn.metrics.roc_auc_score(test_list[i][\"z_label\"], test_list[i][\"SPEER\"]),\n",
    "          sklearn.metrics.roc_auc_score(test_list[i][\"z_label\"], test_list[i][\"SPEER without transfer\"]),\n",
    "          sklearn.metrics.roc_auc_score(test_list[i][\"z_label\"], test_list[i][\"tissue specific genome only\"]),\n",
    "          sklearn.metrics.roc_auc_score(test_list[i][\"z_label\"], test_list[i][\"shared tissue genome only\"]))"
   ]
  },
  {
   "cell_type": "code",
   "execution_count": null,
   "metadata": {
    "collapsed": false
   },
   "outputs": [],
   "source": [
    "sklearn.metrics.roc_auc_score(test_list[0][\"z_labels\"], test_list[0][\"SPEER without transfer\"])"
   ]
  },
  {
   "cell_type": "code",
   "execution_count": null,
   "metadata": {
    "collapsed": true
   },
   "outputs": [],
   "source": [
    "bn = bnchmk.BenchmarkPosteriors(p.train_list, p.test_list, p.genomic_features)"
   ]
  },
  {
   "cell_type": "code",
   "execution_count": null,
   "metadata": {
    "collapsed": true
   },
   "outputs": [],
   "source": []
  }
 ],
 "metadata": {
  "anaconda-cloud": {},
  "kernelspec": {
   "display_name": "Python [Root]",
   "language": "python",
   "name": "Python [Root]"
  },
  "language_info": {
   "codemirror_mode": {
    "name": "ipython",
    "version": 3
   },
   "file_extension": ".py",
   "mimetype": "text/x-python",
   "name": "python",
   "nbconvert_exporter": "python",
   "pygments_lexer": "ipython3",
   "version": "3.5.2"
  }
 },
 "nbformat": 4,
 "nbformat_minor": 0
}
