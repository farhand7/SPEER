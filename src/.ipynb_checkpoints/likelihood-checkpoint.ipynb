{
 "cells": [
  {
   "cell_type": "code",
   "execution_count": 1,
   "metadata": {
    "collapsed": true
   },
   "outputs": [],
   "source": [
    "import pandas as pd\n",
    "import numpy as np\n",
    "import scipy\n",
    "from scipy import stats\n",
    "import logistic_regression as lr\n",
    "import naive_bayes as nb"
   ]
  },
  {
   "cell_type": "code",
   "execution_count": 2,
   "metadata": {
    "collapsed": true
   },
   "outputs": [],
   "source": [
    "train = pd.read_csv(\"../multi_task_model_optimal_1.5_threshold/train.csv\", index_col=(0,1))\n",
    "test = pd.read_csv(\"../multi_task_model_optimal_1.5_threshold/n1.csv\", index_col=(0,1))"
   ]
  },
  {
   "cell_type": "code",
   "execution_count": 3,
   "metadata": {
    "collapsed": false
   },
   "outputs": [],
   "source": [
    "# multi-task parameters\n",
    "beta_children = np.loadtxt(\"../multi_task_model_optimal_1.5_threshold/beta_children.txt\")\n",
    "alpha = np.loadtxt(\"../multi_task_model_optimal_1.5_threshold/beta_parent.txt\")\n",
    "phi = np.loadtxt(\"../multi_task_model_optimal_1.5_threshold/phi.txt\")\n",
    "# RIVER parameters\n",
    "beta_river = np.loadtxt(\"../multi_task_model_optimal_1.5_threshold/beta_RIVER.v6.txt\")\n",
    "\n",
    "lambda_hp_parent = 4.333047702488766\n",
    "num_g_features = len(beta_river)\n",
    "lambda_hp_children_dict = {'brain': 0.562229, 'group1': 0.75696656, 'muscle': 1.51665066, 'epithelial': 2.22486734, 'digestive': 5.17309994}\n",
    "tissues = ['brain', 'digestive', 'epithelial', 'group1', 'muscle']\n",
    "genomic_features = list(train.columns[0:-9])\n",
    "phi_river = np.zeros((2,2))\n",
    "phi_river[0][0] = .8\n",
    "phi_river[1][0] = .2\n",
    "phi_river[0][1] = .3\n",
    "phi_river[1][1] = .7"
   ]
  },
  {
   "cell_type": "code",
   "execution_count": 25,
   "metadata": {
    "collapsed": true
   },
   "outputs": [],
   "source": [
    "def _river_likelihood(data, beta_river, phi_river):\n",
    "    return eStepRIVER(data, beta_river, phi_river)\n",
    "\n",
    "def eStepRIVER(data, beta, phi):\n",
    "    '''\n",
    "       Compute expectation for RIVER\n",
    "    '''\n",
    "    # log P(Z = 1 | G)\n",
    "    log_prob_z_1_given_g = lr.log_prob(data[genomic_features].values, beta)\n",
    "\n",
    "    # log P(Z = 0 | G)\n",
    "    log_prob_z_0_given_g = np.log(1.0 - np.exp(log_prob_z_1_given_g))\n",
    "\n",
    "    # naive bayes\n",
    "    log_prob_e_given_z_1 = nb.log_prob(data['shared_label'].values, 1, phi)        \n",
    "    log_prob_e_given_z_0 = nb.log_prob(data['shared_label'].values, 0, phi)\n",
    "\n",
    "    log_q = log_prob_e_given_z_1 + log_prob_z_1_given_g -  np.log(np.exp(log_prob_e_given_z_0) * np.exp(log_prob_z_0_given_g) + \n",
    "        np.exp(log_prob_e_given_z_1) * np.exp(log_prob_z_1_given_g))\n",
    "\n",
    "    return np.sum(log_q)"
   ]
  },
  {
   "cell_type": "code",
   "execution_count": 9,
   "metadata": {
    "collapsed": true
   },
   "outputs": [],
   "source": [
    "def _shared_logistic_regression_likelihood(data):\n",
    "    beta_shared = np.loadtxt('../src/genome_only_shared_beta.v6.txt')\n",
    "    p_z_1_given_g = np.exp(lr.log_prob(data[genomic_features].values, beta_shared)) * data['shared_label'].values\n",
    "    p_z_0_given_g = (1.0 - p_z_1_given_g) * (1.0 - data['shared_label'].values)\n",
    "    log_prob = np.sum(np.log(p_z_1_given_g + p_z_0_given_g))\n",
    "    return log_prob"
   ]
  },
  {
   "cell_type": "code",
   "execution_count": 10,
   "metadata": {
    "collapsed": true
   },
   "outputs": [],
   "source": [
    "def _tissue_specific_logistic_regression_likelihood(data):\n",
    "    log_prob = 0.0\n",
    "    for tissue in tissues:\n",
    "        data_t = data[data[\"tissue\"] == tissue]\n",
    "        beta = lr.sgd(data_t[genomic_features].values, data_t[\"expr_label\"].values, np.zeros(len(genomic_features)), np.zeros(len(genomic_features)), 1.0)\n",
    "        p_z_1_given_g = np.exp(lr.log_prob(data_t[genomic_features].values, beta)) * data_t[\"expr_label\"].values\n",
    "        p_z_0_given_g = (1.0 - p_z_1_given_g) * (1.0 - data_t[\"expr_label\"].values)\n",
    "        log_prob += np.sum(np.log(p_z_1_given_g + p_z_0_given_g))\n",
    "    return log_prob"
   ]
  },
  {
   "cell_type": "code",
   "execution_count": 16,
   "metadata": {
    "collapsed": true
   },
   "outputs": [],
   "source": [
    "def _multitask_likelihood(data, alpha, beta_children, lambda_hp_parent, lambda_hp_children_dict, phi):\n",
    "    log_prob = 0\n",
    "    log_prob += log_p_alpha(alpha, lambda_hp_parent)\n",
    "    log_prob += log_p_beta_child_given_beta(beta_children, alpha, lambda_hp_children_dict)\n",
    "    log_prob += eStepGlobal(data, tissues, beta_children, phi)\n",
    "    return log_prob"
   ]
  },
  {
   "cell_type": "code",
   "execution_count": 17,
   "metadata": {
    "collapsed": true
   },
   "outputs": [],
   "source": [
    "def log_p_alpha(alpha, sigma):\n",
    "    '''\n",
    "        Compute P(Beta_j) = normal distribution, mean = 0, cov = sigma\n",
    "        @param: j - jth component of beta\n",
    "    '''\n",
    "    \n",
    "    return np.sum(np.log(scipy.stats.norm(0, lambda_hp_parent).pdf(alpha)))\n",
    "\n",
    "def log_p_beta_child_given_beta(beta_children, alpha, lambda_hp_children_dict):\n",
    "    '''\n",
    "        Compute P(Beta_child_j | Beta_j) = normal distribution, mean = beta_j, cov = sigma_child\n",
    "        @param: i - tissue i\n",
    "        @param: j - component\n",
    "    '''\n",
    "    log_prob = 0\n",
    "    for i in range(len(tissues)):\n",
    "        beta = beta_children[i]\n",
    "        log_prob += np.sum(np.log(scipy.stats.norm(alpha,lambda_hp_children_dict[tissues[i]]).pdf(beta)))\n",
    "    return log_prob\n",
    "\n",
    "def eStepLocal(data, tissue, beta, phi):\n",
    "    '''\n",
    "       Compute expectation for tissue i\n",
    "    '''\n",
    "    # log P(Z = 1 | G)\n",
    "    data_t = data[data[\"tissue\"] == tissue]\n",
    "    log_prob_z_1_given_g = lr.log_prob(data_t[genomic_features].values, beta)\n",
    "\n",
    "    # log P(Z = 0 | G)\n",
    "    log_prob_z_0_given_g = np.log(1.0 - np.exp(log_prob_z_1_given_g))\n",
    "\n",
    "    # noisy OR\n",
    "    log_prob_e_given_z_1 = nb.log_prob_noisyor_2_params(data_t['expr_label'], 1, data_t[\"eqtl\"], phi)\n",
    "    log_prob_e_given_z_0 = nb.log_prob_noisyor_2_params(data_t['expr_label'], 0, data_t[\"eqtl\"], phi)\n",
    "\n",
    "    # naive bayes\n",
    "    #log_prob_e_given_z_1 = nb.log_prob(self.train_list[i]['expr_label'].values, 1, self.phi)        \n",
    "    #log_prob_e_given_z_0 = nb.log_prob(self.train_list[i]['expr_label'].values, 0, self.phi)\n",
    "\n",
    "    log_q = log_prob_e_given_z_1 + log_prob_z_1_given_g -  np.log(np.exp(log_prob_e_given_z_0) * np.exp(log_prob_z_0_given_g) + \n",
    "        np.exp(log_prob_e_given_z_1) * np.exp(log_prob_z_1_given_g))\n",
    "\n",
    "    return np.sum(log_q)\n",
    "\n",
    "def eStepGlobal(data, tissues, beta_children, phi):\n",
    "    log_prob = 0.0\n",
    "    for i in range(len(tissues)):\n",
    "        log_prob += eStepLocal(data, tissues[i], beta_children[i], phi)\n",
    "    return log_prob"
   ]
  },
  {
   "cell_type": "code",
   "execution_count": 31,
   "metadata": {
    "collapsed": false
   },
   "outputs": [
    {
     "name": "stdout",
     "output_type": "stream",
     "text": [
      "multi-task model test set likelihood:  -138542.753308\n"
     ]
    }
   ],
   "source": [
    "print(\"multi-task test set likelihood: \", \n",
    "      _multitask_likelihood(test, alpha, beta_children, lambda_hp_parent, lambda_hp_children_dict, phi))"
   ]
  },
  {
   "cell_type": "code",
   "execution_count": 32,
   "metadata": {
    "collapsed": false
   },
   "outputs": [
    {
     "name": "stdout",
     "output_type": "stream",
     "text": [
      "RIVER test set likelihood:  -99088.2641828\n"
     ]
    }
   ],
   "source": [
    "print(\"RIVER test set likelihood: \", _river_likelihood(test, beta_river, phi_river))"
   ]
  },
  {
   "cell_type": "code",
   "execution_count": 33,
   "metadata": {
    "collapsed": false
   },
   "outputs": [
    {
     "name": "stdout",
     "output_type": "stream",
     "text": [
      "tissue specific genome only test set likelihood:  -2909.42119849\n"
     ]
    }
   ],
   "source": [
    "print(\"tissue specific genome only test set likelihood: \", _tissue_specific_logistic_regression_likelihood(test))"
   ]
  },
  {
   "cell_type": "code",
   "execution_count": 34,
   "metadata": {
    "collapsed": false
   },
   "outputs": [
    {
     "name": "stdout",
     "output_type": "stream",
     "text": [
      "shared tissue genome only test set likelihood:  -1120.66191614\n"
     ]
    }
   ],
   "source": [
    "print(\"shared tissue genome only test set likelihood: \", _shared_logistic_regression_likelihood(test))"
   ]
  },
  {
   "cell_type": "code",
   "execution_count": null,
   "metadata": {
    "collapsed": true
   },
   "outputs": [],
   "source": []
  }
 ],
 "metadata": {
  "anaconda-cloud": {},
  "kernelspec": {
   "display_name": "Python [Root]",
   "language": "python",
   "name": "Python [Root]"
  },
  "language_info": {
   "codemirror_mode": {
    "name": "ipython",
    "version": 3
   },
   "file_extension": ".py",
   "mimetype": "text/x-python",
   "name": "python",
   "nbconvert_exporter": "python",
   "pygments_lexer": "ipython3",
   "version": "3.5.2"
  }
 },
 "nbformat": 4,
 "nbformat_minor": 0
}
